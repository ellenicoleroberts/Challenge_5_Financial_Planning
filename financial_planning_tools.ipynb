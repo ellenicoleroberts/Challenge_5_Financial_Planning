{
 "cells": [
  {
   "cell_type": "markdown",
   "metadata": {},
   "source": [
    "# Financial Planning with APIs and Simulations\n",
    "\n",
    "In this Challenge, you’ll create two financial analysis tools by using a single Jupyter notebook:\n",
    "\n",
    "Part 1: A financial planner for emergencies. The members will be able to use this tool to visualize their current savings. The members can then determine if they have enough reserves for an emergency fund.\n",
    "\n",
    "Part 2: A financial planner for retirement. This tool will forecast the performance of their retirement portfolio in 30 years. To do this, the tool will make an Alpaca API call via the Alpaca SDK to get historical price data for use in Monte Carlo simulations.\n",
    "\n",
    "You’ll use the information from the Monte Carlo simulation to answer questions about the portfolio in your Jupyter notebook.\n",
    "\n"
   ]
  },
  {
   "cell_type": "code",
   "execution_count": 233,
   "metadata": {},
   "outputs": [],
   "source": [
    "# Import the required libraries and dependencies\n",
    "import os\n",
    "import requests\n",
    "import json\n",
    "import pandas as pd\n",
    "from dotenv import load_dotenv\n",
    "import alpaca_trade_api as tradeapi\n",
    "from MCForecastTools import MCSimulation\n",
    "\n",
    "%matplotlib inline"
   ]
  },
  {
   "cell_type": "code",
   "execution_count": 234,
   "metadata": {},
   "outputs": [
    {
     "data": {
      "text/plain": [
       "True"
      ]
     },
     "execution_count": 234,
     "metadata": {},
     "output_type": "execute_result"
    }
   ],
   "source": [
    "# Load the environment variables from the .env file\n",
    "#by calling the load_dotenv function\n",
    "load_dotenv(\".env\")"
   ]
  },
  {
   "cell_type": "markdown",
   "metadata": {},
   "source": [
    "## Part 1: Create a Financial Planner for Emergencies"
   ]
  },
  {
   "cell_type": "markdown",
   "metadata": {},
   "source": [
    "### Evaluate the Cryptocurrency Wallet by Using the Requests Library\n",
    "\n",
    "In this section, you’ll determine the current value of a member’s cryptocurrency wallet. You’ll collect the current prices for the Bitcoin and Ethereum cryptocurrencies by using the Python Requests library. For the prototype, you’ll assume that the member holds the 1.2 Bitcoins (BTC) and 5.3 Ethereum coins (ETH). To do all this, complete the following steps:\n",
    "\n",
    "1. Create a variable named `monthly_income`, and set its value to `12000`.\n",
    "\n",
    "2. Use the Requests library to get the current price (in US dollars) of Bitcoin (BTC) and Ethereum (ETH) by using the API endpoints that the starter code supplies.\n",
    "\n",
    "3. Navigate the JSON response object to access the current price of each coin, and store each in a variable.\n",
    "\n",
    "    > **Hint** Note the specific identifier for each cryptocurrency in the API JSON response. The Bitcoin identifier is `1`, and the Ethereum identifier is `1027`.\n",
    "\n",
    "4. Calculate the value, in US dollars, of the current amount of each cryptocurrency and of the entire cryptocurrency wallet.\n",
    "\n"
   ]
  },
  {
   "cell_type": "code",
   "execution_count": 235,
   "metadata": {},
   "outputs": [],
   "source": [
    "# The current number of coins for each cryptocurrency asset held in the portfolio.\n",
    "btc_coins = 1.2\n",
    "eth_coins = 5.3"
   ]
  },
  {
   "cell_type": "markdown",
   "metadata": {},
   "source": [
    "#### Step 1: Create a variable named `monthly_income`, and set its value to `12000`."
   ]
  },
  {
   "cell_type": "code",
   "execution_count": 236,
   "metadata": {},
   "outputs": [],
   "source": [
    "# The monthly amount for the member's household income\n",
    "monthly_income = 12000\n"
   ]
  },
  {
   "cell_type": "markdown",
   "metadata": {},
   "source": [
    "#### Review the endpoint URLs for the API calls to Free Crypto API in order to get the current pricing information for both BTC and ETH."
   ]
  },
  {
   "cell_type": "code",
   "execution_count": 237,
   "metadata": {},
   "outputs": [],
   "source": [
    "# The Free Crypto API Call endpoint URLs for the held cryptocurrency assets\n",
    "btc_url = \"https://api.alternative.me/v2/ticker/Bitcoin/?convert=USD\"\n",
    "eth_url = \"https://api.alternative.me/v2/ticker/Ethereum/?convert=USD\""
   ]
  },
  {
   "cell_type": "markdown",
   "metadata": {},
   "source": [
    "#### Step 2. Use the Requests library to get the current price (in US dollars) of Bitcoin (BTC) and Ethereum (ETH) by using the API endpoints that the starter code supplied."
   ]
  },
  {
   "cell_type": "code",
   "execution_count": 238,
   "metadata": {},
   "outputs": [
    {
     "name": "stdout",
     "output_type": "stream",
     "text": [
      "{\n",
      "    \"data\": {\n",
      "        \"1\": {\n",
      "            \"circulating_supply\": 19013443,\n",
      "            \"id\": 1,\n",
      "            \"last_updated\": 1650133417,\n",
      "            \"max_supply\": 21000000,\n",
      "            \"name\": \"Bitcoin\",\n",
      "            \"quotes\": {\n",
      "                \"USD\": {\n",
      "                    \"market_cap\": 764281446753,\n",
      "                    \"percent_change_1h\": -0.0826915727479674,\n",
      "                    \"percent_change_24h\": -0.666480679280281,\n",
      "                    \"percent_change_7d\": -4.99777717063802,\n",
      "                    \"percentage_change_1h\": -0.0826915727479674,\n",
      "                    \"percentage_change_24h\": -0.666480679280281,\n",
      "                    \"percentage_change_7d\": -4.99777717063802,\n",
      "                    \"price\": 40201.0,\n",
      "                    \"volume_24h\": 16205381285\n",
      "                }\n",
      "            },\n",
      "            \"rank\": 1,\n",
      "            \"symbol\": \"BTC\",\n",
      "            \"total_supply\": 19013443,\n",
      "            \"website_slug\": \"bitcoin\"\n",
      "        }\n",
      "    },\n",
      "    \"metadata\": {\n",
      "        \"error\": null,\n",
      "        \"num_cryptocurrencies\": 3106,\n",
      "        \"timestamp\": 1650133417\n",
      "    }\n",
      "}\n"
     ]
    }
   ],
   "source": [
    "# Using the Python requests library, make an API call to access the current price of BTC\n",
    "btc_response = requests.get(btc_url).json()\n",
    "\n",
    "# Use the json.dumps function to review the response data from the API call\n",
    "# Use the indent and sort_keys parameters to make the response object readable\n",
    "print(json.dumps(btc_response, indent=4, sort_keys=True))"
   ]
  },
  {
   "cell_type": "code",
   "execution_count": 239,
   "metadata": {},
   "outputs": [
    {
     "name": "stdout",
     "output_type": "stream",
     "text": [
      "{\n",
      "    \"data\": {\n",
      "        \"1027\": {\n",
      "            \"circulating_supply\": 120404798,\n",
      "            \"id\": 1027,\n",
      "            \"last_updated\": 1650133442,\n",
      "            \"max_supply\": 0,\n",
      "            \"name\": \"Ethereum\",\n",
      "            \"quotes\": {\n",
      "                \"USD\": {\n",
      "                    \"market_cap\": 364132680083,\n",
      "                    \"percent_change_1h\": -0.129110689933905,\n",
      "                    \"percent_change_24h\": -0.295669051063396,\n",
      "                    \"percent_change_7d\": -5.27135538332937,\n",
      "                    \"percentage_change_1h\": -0.129110689933905,\n",
      "                    \"percentage_change_24h\": -0.295669051063396,\n",
      "                    \"percentage_change_7d\": -5.27135538332937,\n",
      "                    \"price\": 3023.76,\n",
      "                    \"volume_24h\": 8720528263\n",
      "                }\n",
      "            },\n",
      "            \"rank\": 2,\n",
      "            \"symbol\": \"ETH\",\n",
      "            \"total_supply\": 120404798,\n",
      "            \"website_slug\": \"ethereum\"\n",
      "        }\n",
      "    },\n",
      "    \"metadata\": {\n",
      "        \"error\": null,\n",
      "        \"num_cryptocurrencies\": 3106,\n",
      "        \"timestamp\": 1650133442\n",
      "    }\n",
      "}\n"
     ]
    }
   ],
   "source": [
    "# Using the Python requests library, make an API call to access the current price of BTC\n",
    "eth_response = requests.get(eth_url).json()\n",
    "\n",
    "# Use the json.dumps function to review the response data from the API call\n",
    "# Use the indent and sort_keys parameters to make the response object readable\n",
    "print(json.dumps(eth_response, indent=4, sort_keys=True))"
   ]
  },
  {
   "cell_type": "markdown",
   "metadata": {},
   "source": [
    "#### Step 3: Navigate the JSON response object to access the current price of each coin, and store each in a variable."
   ]
  },
  {
   "cell_type": "code",
   "execution_count": 240,
   "metadata": {},
   "outputs": [
    {
     "name": "stdout",
     "output_type": "stream",
     "text": [
      "The current price of BTC: $ 40201.00.\n"
     ]
    }
   ],
   "source": [
    "# Navigate the BTC response object to access the current price of BTC\n",
    "btc_price = btc_response[\"data\"][\"1\"][\"quotes\"][\"USD\"][\"price\"]\n",
    "\n",
    "# Print the current price of BTC\n",
    "print(f\"The current price of BTC: ${btc_price: .2f}.\")\n"
   ]
  },
  {
   "cell_type": "code",
   "execution_count": 241,
   "metadata": {},
   "outputs": [
    {
     "name": "stdout",
     "output_type": "stream",
     "text": [
      "The current price of ETH: $ 3023.76.\n"
     ]
    }
   ],
   "source": [
    "# Navigate the BTC response object to access the current price of ETH\n",
    "eth_price = eth_response[\"data\"][\"1027\"][\"quotes\"][\"USD\"][\"price\"]\n",
    "\n",
    "# Print the current price of ETH\n",
    "print(f\"The current price of ETH: ${eth_price: .2f}.\")\n"
   ]
  },
  {
   "cell_type": "markdown",
   "metadata": {},
   "source": [
    "### Step 4: Calculate the value, in US dollars, of the current amount of each cryptocurrency and of the entire cryptocurrency wallet."
   ]
  },
  {
   "cell_type": "code",
   "execution_count": 242,
   "metadata": {},
   "outputs": [
    {
     "name": "stdout",
     "output_type": "stream",
     "text": [
      "The current value of the holding in BTC: $ 48241.20.\n"
     ]
    }
   ],
   "source": [
    "# Compute the current value of the BTC holding \n",
    "btc_value = btc_coins * btc_price\n",
    "\n",
    "# Print current value of the holding in BTC\n",
    "print(f\"The current value of the holding in BTC: ${btc_value: .2f}.\")"
   ]
  },
  {
   "cell_type": "code",
   "execution_count": 243,
   "metadata": {},
   "outputs": [
    {
     "name": "stdout",
     "output_type": "stream",
     "text": [
      "The current value of the holding in ETH: $ 16025.93.\n"
     ]
    }
   ],
   "source": [
    "# Compute the current value of the ETH holding \n",
    "eth_value = eth_coins * eth_price\n",
    "\n",
    "# Print current value of your holding in ETH\n",
    "print(f\"The current value of the holding in ETH: ${eth_value: .2f}.\")"
   ]
  },
  {
   "cell_type": "code",
   "execution_count": 244,
   "metadata": {},
   "outputs": [
    {
     "name": "stdout",
     "output_type": "stream",
     "text": [
      "Current cryptocurrency wallet balance: $ 64267.13.\n"
     ]
    }
   ],
   "source": [
    "# Compute the total value of the cryptocurrency wallet\n",
    "# Add the value of the BTC holding to the value of the ETH holding\n",
    "total_crypto_wallet = btc_value + eth_value\n",
    "\n",
    "# Print current cryptocurrency wallet balance\n",
    "print(f\"Current cryptocurrency wallet balance: ${total_crypto_wallet: .2f}.\")\n"
   ]
  },
  {
   "cell_type": "markdown",
   "metadata": {},
   "source": [
    "### Evaluate the Stock and Bond Holdings by Using the Alpaca SDK\n",
    "\n",
    "In this section, you’ll determine the current value of a member’s stock and bond holdings. You’ll make an API call to Alpaca via the Alpaca SDK to get the current closing prices of the SPDR S&P 500 ETF Trust (ticker: SPY) and of the iShares Core US Aggregate Bond ETF (ticker: AGG). For the prototype, assume that the member holds 110 shares of SPY, which represents the stock portion of their portfolio, and 200 shares of AGG, which represents the bond portion. To do all this, complete the following steps:\n",
    "\n",
    "1. In the `Starter_Code` folder, create an environment file (`.env`) to store the values of your Alpaca API key and Alpaca secret key.\n",
    "\n",
    "2. Set the variables for the Alpaca API and secret keys. Using the Alpaca SDK, create the Alpaca `tradeapi.REST` object. In this object, include the parameters for the Alpaca API key, the secret key, and the version number.\n",
    "\n",
    "3. Set the following parameters for the Alpaca API call:\n",
    "\n",
    "    - `tickers`: Use the tickers for the member’s stock and bond holdings.\n",
    "\n",
    "    - `timeframe`: Use a time frame of one day.\n",
    "\n",
    "    - `start_date` and `end_date`: Use the same date for these parameters, and format them with the date of the previous weekday (or `2020-08-07`). This is because you want the one closing price for the most-recent trading day.\n",
    "\n",
    "4. Get the current closing prices for `SPY` and `AGG` by using the Alpaca `get_bars` function. Format the response as a Pandas DataFrame by including the `df` property at the end of the `get_bars` function.\n",
    "\n",
    "5. Navigating the Alpaca response DataFrame, select the `SPY` and `AGG` closing prices, and store them as variables.\n",
    "\n",
    "6. Calculate the value, in US dollars, of the current amount of shares in each of the stock and bond portions of the portfolio, and print the results.\n"
   ]
  },
  {
   "cell_type": "markdown",
   "metadata": {},
   "source": [
    "#### Review the total number of shares held in both (SPY) and (AGG)."
   ]
  },
  {
   "cell_type": "code",
   "execution_count": 245,
   "metadata": {},
   "outputs": [],
   "source": [
    "# Current amount of shares held in both the stock (SPY) and bond (AGG) portion of the portfolio.\n",
    "spy_shares = 110\n",
    "agg_shares = 200\n"
   ]
  },
  {
   "cell_type": "markdown",
   "metadata": {},
   "source": [
    "#### Step 1: In the `Starter_Code` folder, create an environment file (`.env`) to store the values of your Alpaca API key and Alpaca secret key."
   ]
  },
  {
   "cell_type": "markdown",
   "metadata": {},
   "source": [
    "#### Step 2: Set the variables for the Alpaca API and secret keys. Using the Alpaca SDK, create the Alpaca `tradeapi.REST` object. In this object, include the parameters for the Alpaca API key, the secret key, and the version number."
   ]
  },
  {
   "cell_type": "code",
   "execution_count": 246,
   "metadata": {},
   "outputs": [],
   "source": [
    "# Set the variables for the Alpaca API and secret keys\n",
    "alpaca_api_key = os.getenv(\"ALPACA_API_KEY\")\n",
    "alpaca_secret_key = os.getenv(\"ALPACA_SECRET_KEY\")\n",
    "\n",
    "# Create the Alpaca tradeapi.REST object\n",
    "alpaca = tradeapi.REST(\n",
    "    alpaca_api_key,\n",
    "    alpaca_secret_key,\n",
    "    api_version=\"v2\")"
   ]
  },
  {
   "cell_type": "markdown",
   "metadata": {},
   "source": [
    "#### Step 3: Set the following parameters for the Alpaca API call:\n",
    "\n",
    "- `tickers`: Use the tickers for the member’s stock and bond holdings.\n",
    "\n",
    "- `timeframe`: Use a time frame of one day.\n",
    "\n",
    "- `start_date` and `end_date`: Use the same date for these parameters, and format them with the date of the previous weekday (or `2020-08-07`). This is because you want the one closing price for the most-recent trading day.\n"
   ]
  },
  {
   "cell_type": "code",
   "execution_count": 247,
   "metadata": {},
   "outputs": [],
   "source": [
    "# Set the tickers for both the bond and stock portion of the portfolio\n",
    "tickers = [\"SPY\", \"AGG\"]\n",
    "\n",
    "# Set timeframe to 1Day\n",
    "timeframe = \"1Day\"\n",
    "\n",
    "# Format current date as ISO format\n",
    "\n",
    "# Set both the start and end date at the date of your prior weekday \n",
    "# This will give you the closing price of the previous trading day\n",
    "# Alternatively you can use a start and end date of 2020-08-07\n",
    "start_date = pd.Timestamp(\"2022-04-14\", tz=\"America/New_York\").isoformat()\n",
    "end_date = pd.Timestamp(\"2022-04-14\", tz=\"America/New_York\").isoformat()"
   ]
  },
  {
   "cell_type": "markdown",
   "metadata": {},
   "source": [
    "#### Step 4: Get the current closing prices for `SPY` and `AGG` by using the Alpaca `get_bars` function. Format the response as a Pandas DataFrame by including the `df` property at the end of the `get_bars` function."
   ]
  },
  {
   "cell_type": "code",
   "execution_count": 248,
   "metadata": {},
   "outputs": [
    {
     "data": {
      "text/html": [
       "<div>\n",
       "<style scoped>\n",
       "    .dataframe tbody tr th:only-of-type {\n",
       "        vertical-align: middle;\n",
       "    }\n",
       "\n",
       "    .dataframe tbody tr th {\n",
       "        vertical-align: top;\n",
       "    }\n",
       "\n",
       "    .dataframe thead tr th {\n",
       "        text-align: left;\n",
       "    }\n",
       "\n",
       "    .dataframe thead tr:last-of-type th {\n",
       "        text-align: right;\n",
       "    }\n",
       "</style>\n",
       "<table border=\"1\" class=\"dataframe\">\n",
       "  <thead>\n",
       "    <tr>\n",
       "      <th></th>\n",
       "      <th colspan=\"7\" halign=\"left\">SPY</th>\n",
       "      <th colspan=\"7\" halign=\"left\">AGG</th>\n",
       "    </tr>\n",
       "    <tr>\n",
       "      <th></th>\n",
       "      <th>open</th>\n",
       "      <th>high</th>\n",
       "      <th>low</th>\n",
       "      <th>close</th>\n",
       "      <th>volume</th>\n",
       "      <th>trade_count</th>\n",
       "      <th>vwap</th>\n",
       "      <th>open</th>\n",
       "      <th>high</th>\n",
       "      <th>low</th>\n",
       "      <th>close</th>\n",
       "      <th>volume</th>\n",
       "      <th>trade_count</th>\n",
       "      <th>vwap</th>\n",
       "    </tr>\n",
       "    <tr>\n",
       "      <th>timestamp</th>\n",
       "      <th></th>\n",
       "      <th></th>\n",
       "      <th></th>\n",
       "      <th></th>\n",
       "      <th></th>\n",
       "      <th></th>\n",
       "      <th></th>\n",
       "      <th></th>\n",
       "      <th></th>\n",
       "      <th></th>\n",
       "      <th></th>\n",
       "      <th></th>\n",
       "      <th></th>\n",
       "      <th></th>\n",
       "    </tr>\n",
       "  </thead>\n",
       "  <tbody>\n",
       "    <tr>\n",
       "      <th>2022-04-14 04:00:00+00:00</th>\n",
       "      <td>443.44</td>\n",
       "      <td>444.7301</td>\n",
       "      <td>437.68</td>\n",
       "      <td>437.79</td>\n",
       "      <td>98667135</td>\n",
       "      <td>703727</td>\n",
       "      <td>440.305786</td>\n",
       "      <td>104.73</td>\n",
       "      <td>104.74</td>\n",
       "      <td>103.93</td>\n",
       "      <td>103.97</td>\n",
       "      <td>8505987</td>\n",
       "      <td>30443</td>\n",
       "      <td>104.171733</td>\n",
       "    </tr>\n",
       "  </tbody>\n",
       "</table>\n",
       "</div>"
      ],
      "text/plain": [
       "                              SPY                                      \\\n",
       "                             open      high     low   close    volume   \n",
       "timestamp                                                               \n",
       "2022-04-14 04:00:00+00:00  443.44  444.7301  437.68  437.79  98667135   \n",
       "\n",
       "                                                      AGG                  \\\n",
       "                          trade_count        vwap    open    high     low   \n",
       "timestamp                                                                   \n",
       "2022-04-14 04:00:00+00:00      703727  440.305786  104.73  104.74  103.93   \n",
       "\n",
       "                                                                    \n",
       "                            close   volume trade_count        vwap  \n",
       "timestamp                                                           \n",
       "2022-04-14 04:00:00+00:00  103.97  8505987       30443  104.171733  "
      ]
     },
     "execution_count": 248,
     "metadata": {},
     "output_type": "execute_result"
    }
   ],
   "source": [
    "# Use the Alpaca get_bars function to get current closing prices the portfolio\n",
    "# Be sure to set the `df` property after the function to format the response object as a DataFrame\n",
    "\n",
    "stock_bond_prices = alpaca.get_bars(\n",
    "    tickers,\n",
    "    timeframe,\n",
    "    start=start_date,\n",
    "    end=end_date\n",
    ").df\n",
    "\n",
    "\n",
    "# Reorganize the DataFrame\n",
    "# Separate ticker data\n",
    "spy = stock_bond_prices[stock_bond_prices['symbol']=='SPY'].drop('symbol', axis=1)\n",
    "agg = stock_bond_prices[stock_bond_prices['symbol']=='AGG'].drop('symbol', axis=1)\n",
    "\n",
    "\n",
    "# Concatenate the ticker DataFrames\n",
    "sb_prices = pd.concat([spy, agg], axis=1, keys=[\"SPY\", \"AGG\"])\n",
    "\n",
    "# Review the first five rows of the resulting DataFrame \n",
    "sb_prices.head()"
   ]
  },
  {
   "cell_type": "markdown",
   "metadata": {},
   "source": [
    "#### Step 5: Navigating the Alpaca response DataFrame, select the `SPY` and `AGG` closing prices, and store them as variables."
   ]
  },
  {
   "cell_type": "code",
   "execution_count": 249,
   "metadata": {},
   "outputs": [
    {
     "name": "stdout",
     "output_type": "stream",
     "text": [
      "The current price of AGG: $ 103.97.\n"
     ]
    }
   ],
   "source": [
    "# Access the closing price for AGG from the Alpaca DataFrame\n",
    "# Converting the value to a floating point number\n",
    "agg_close_price = float(sb_prices[\"AGG\"][\"close\"])\n",
    "\n",
    "# Print the AGG closing price\n",
    "print(f\"The current price of AGG: ${agg_close_price: .2f}.\")"
   ]
  },
  {
   "cell_type": "code",
   "execution_count": 250,
   "metadata": {},
   "outputs": [
    {
     "name": "stdout",
     "output_type": "stream",
     "text": [
      "The current price of SPY: $ 437.79.\n"
     ]
    }
   ],
   "source": [
    "# Access the closing price for SPY from the Alpaca DataFrame\n",
    "# Converting the value to a floating point number\n",
    "spy_close_price = float(sb_prices[\"SPY\"][\"close\"])\n",
    "\n",
    "# Print the SPY closing price\n",
    "print(f\"The current price of SPY: ${spy_close_price: .2f}.\")"
   ]
  },
  {
   "cell_type": "markdown",
   "metadata": {},
   "source": [
    "#### Step 6: Calculate the value, in US dollars, of the current amount of shares in each of the stock and bond portions of the portfolio, and print the results."
   ]
  },
  {
   "cell_type": "code",
   "execution_count": 251,
   "metadata": {},
   "outputs": [
    {
     "name": "stdout",
     "output_type": "stream",
     "text": [
      "The current value of the bond portfolio: $ 20794.00.\n"
     ]
    }
   ],
   "source": [
    "# Calculate the current value of the bond portion of the portfolio\n",
    "agg_value = agg_shares * agg_close_price\n",
    "\n",
    "# Print the current value of the bond portfolio\n",
    "print(f\"The current value of the bond portfolio: ${agg_value: .2f}.\")\n"
   ]
  },
  {
   "cell_type": "code",
   "execution_count": 252,
   "metadata": {},
   "outputs": [
    {
     "name": "stdout",
     "output_type": "stream",
     "text": [
      "The current value of the stock portion of the portfolio: $ 48156.90.\n"
     ]
    }
   ],
   "source": [
    "# Calculate the current value of the stock portion of the portfolio\n",
    "spy_value = spy_shares * spy_close_price\n",
    "\n",
    "# Print the current value of the stock portfolio\n",
    "print(f\"The current value of the stock portion of the portfolio: ${spy_value: .2f}.\")"
   ]
  },
  {
   "cell_type": "code",
   "execution_count": 253,
   "metadata": {},
   "outputs": [
    {
     "name": "stdout",
     "output_type": "stream",
     "text": [
      "The current balance of the stock and bond portion of the portfolio: $ 68950.90.\n"
     ]
    }
   ],
   "source": [
    "# Calculate the total value of the stock and bond portion of the portfolio\n",
    "total_stocks_bonds = agg_value + spy_value\n",
    "\n",
    "# Print the current balance of the stock and bond portion of the portfolio\n",
    "print(f\"The current balance of the stock and bond portion of the portfolio: ${total_stocks_bonds: .2f}.\")"
   ]
  },
  {
   "cell_type": "code",
   "execution_count": 254,
   "metadata": {},
   "outputs": [
    {
     "name": "stdout",
     "output_type": "stream",
     "text": [
      "The current total value of the member's entire savings portfolio: $ 133218.03.\n"
     ]
    }
   ],
   "source": [
    "# Calculate the total value of the member's entire savings portfolio\n",
    "# Add the value of the cryptocurrency wallet to the value of the total stocks and bonds\n",
    "total_portfolio = total_crypto_wallet + total_stocks_bonds\n",
    "\n",
    "# Print current total value of the member's entire savings portfolio\n",
    "total_portfolio\n",
    "print(f\"The current total value of the member's entire savings portfolio: ${total_portfolio: .2f}.\")"
   ]
  },
  {
   "cell_type": "markdown",
   "metadata": {},
   "source": [
    "### Evaluate the Emergency Fund\n",
    "\n",
    "In this section, you’ll use the valuations for the cryptocurrency wallet and for the stock and bond portions of the portfolio to determine if the credit union member has enough savings to build an emergency fund into their financial plan. To do this, complete the following steps:\n",
    "\n",
    "1. Create a Python list named `savings_data` that has two elements. The first element contains the total value of the cryptocurrency wallet. The second element contains the total value of the stock and bond portions of the portfolio.\n",
    "\n",
    "2. Use the `savings_data` list to create a Pandas DataFrame named `savings_df`, and then display this DataFrame. The function to create the DataFrame should take the following three parameters:\n",
    "\n",
    "    - `savings_data`: Use the list that you just created.\n",
    "\n",
    "    - `columns`: Set this parameter equal to a Python list with a single value called `amount`.\n",
    "\n",
    "    - `index`: Set this parameter equal to a Python list with the values of `crypto` and `stock/bond`.\n",
    "\n",
    "3. Use the `savings_df` DataFrame to plot a pie chart that visualizes the composition of the member’s portfolio. The y-axis of the pie chart uses `amount`. Be sure to add a title.\n",
    "\n",
    "4. Using Python, determine if the current portfolio has enough to create an emergency fund as part of the member’s financial plan. Ideally, an emergency fund should equal to three times the member’s monthly income. To do this, implement the following steps:\n",
    "\n",
    "    1. Create a variable named `emergency_fund_value`, and set it equal to three times the value of the member’s `monthly_income` of $12000. (You set this earlier in Part 1).\n",
    "\n",
    "    2. Create a series of three if statements to determine if the member’s total portfolio is large enough to fund the emergency portfolio:\n",
    "\n",
    "        1. If the total portfolio value is greater than the emergency fund value, display a message congratulating the member for having enough money in this fund.\n",
    "\n",
    "        2. Else if the total portfolio value is equal to the emergency fund value, display a message congratulating the member on reaching this important financial goal.\n",
    "\n",
    "        3. Else the total portfolio is less than the emergency fund value, so display a message showing how many dollars away the member is from reaching the goal. (Subtract the total portfolio value from the emergency fund value.)\n"
   ]
  },
  {
   "cell_type": "markdown",
   "metadata": {},
   "source": [
    "#### Step 1: Create a Python list named `savings_data` that has two elements. The first element contains the total value of the cryptocurrency wallet. The second element contains the total value of the stock and bond portions of the portfolio."
   ]
  },
  {
   "cell_type": "code",
   "execution_count": 255,
   "metadata": {},
   "outputs": [
    {
     "data": {
      "text/plain": [
       "[64267.128, 68950.9]"
      ]
     },
     "execution_count": 255,
     "metadata": {},
     "output_type": "execute_result"
    }
   ],
   "source": [
    "# Consolidate financial assets data into a Python list\n",
    "savings_data = [total_crypto_wallet, total_stocks_bonds]\n",
    " \n",
    "# Review the Python list savings_data\n",
    "savings_data"
   ]
  },
  {
   "cell_type": "markdown",
   "metadata": {},
   "source": [
    "#### Step 2: Use the `savings_data` list to create a Pandas DataFrame named `savings_df`, and then display this DataFrame. The function to create the DataFrame should take the following three parameters:\n",
    "\n",
    "- `savings_data`: Use the list that you just created.\n",
    "\n",
    "- `columns`: Set this parameter equal to a Python list with a single value called `amount`.\n",
    "\n",
    "- `index`: Set this parameter equal to a Python list with the values of `crypto` and `stock/bond`.\n"
   ]
  },
  {
   "cell_type": "code",
   "execution_count": 256,
   "metadata": {},
   "outputs": [
    {
     "data": {
      "text/html": [
       "<div>\n",
       "<style scoped>\n",
       "    .dataframe tbody tr th:only-of-type {\n",
       "        vertical-align: middle;\n",
       "    }\n",
       "\n",
       "    .dataframe tbody tr th {\n",
       "        vertical-align: top;\n",
       "    }\n",
       "\n",
       "    .dataframe thead th {\n",
       "        text-align: right;\n",
       "    }\n",
       "</style>\n",
       "<table border=\"1\" class=\"dataframe\">\n",
       "  <thead>\n",
       "    <tr style=\"text-align: right;\">\n",
       "      <th></th>\n",
       "      <th>amount</th>\n",
       "    </tr>\n",
       "  </thead>\n",
       "  <tbody>\n",
       "    <tr>\n",
       "      <th>crypto</th>\n",
       "      <td>64267.128</td>\n",
       "    </tr>\n",
       "    <tr>\n",
       "      <th>stock/bond</th>\n",
       "      <td>68950.900</td>\n",
       "    </tr>\n",
       "  </tbody>\n",
       "</table>\n",
       "</div>"
      ],
      "text/plain": [
       "               amount\n",
       "crypto      64267.128\n",
       "stock/bond  68950.900"
      ]
     },
     "execution_count": 256,
     "metadata": {},
     "output_type": "execute_result"
    }
   ],
   "source": [
    "# Create a Pandas DataFrame called savings_df \n",
    "savings_df = pd.DataFrame(data=savings_data, columns=[\"amount\"], index=[\"crypto\", \"stock/bond\"])\n",
    "\n",
    "# Display the savings_df DataFrame\n",
    "savings_df\n"
   ]
  },
  {
   "cell_type": "markdown",
   "metadata": {},
   "source": [
    "#### Step 3: Use the `savings_df` DataFrame to plot a pie chart that visualizes the composition of the member’s portfolio. The y-axis of the pie chart uses `amount`. Be sure to add a title."
   ]
  },
  {
   "cell_type": "code",
   "execution_count": 257,
   "metadata": {},
   "outputs": [
    {
     "data": {
      "text/plain": [
       "<AxesSubplot:title={'center':'Portfolio Composition - 2022-04-14'}, ylabel='amount'>"
      ]
     },
     "execution_count": 257,
     "metadata": {},
     "output_type": "execute_result"
    },
    {
     "data": {
      "image/png": "[encoded data removed]",
      "text/plain": [
       "<Figure size 432x288 with 1 Axes>"
      ]
     },
     "metadata": {},
     "output_type": "display_data"
    }
   ],
   "source": [
    "# Plot the total value of the member's portfolio (crypto and stock/bond) in a pie chart\n",
    "savings_df.plot.pie(y=\"amount\", title=\"Portfolio Composition - 2022-04-14\")\n"
   ]
  },
  {
   "cell_type": "markdown",
   "metadata": {},
   "source": [
    "#### Step 4: Using Python, determine if the current portfolio has enough to create an emergency fund as part of the member’s financial plan. Ideally, an emergency fund should equal to three times the member’s monthly income. To do this, implement the following steps:\n",
    "\n",
    "Step 1. Create a variable named `emergency_fund_value`, and set it equal to three times the value of the member’s `monthly_income` of 12000. (You set this earlier in Part 1).\n",
    "\n",
    "Step 2. Create a series of three if statements to determine if the member’s total portfolio is large enough to fund the emergency portfolio:\n",
    "\n",
    "* If the total portfolio value is greater than the emergency fund value, display a message congratulating the member for having enough money in this fund.\n",
    "\n",
    "* Else if the total portfolio value is equal to the emergency fund value, display a message congratulating the member on reaching this important financial goal.\n",
    "\n",
    "* Else the total portfolio is less than the emergency fund value, so display a message showing how many dollars away the member is from reaching the goal. (Subtract the total portfolio value from the emergency fund value.)\n"
   ]
  },
  {
   "cell_type": "markdown",
   "metadata": {},
   "source": [
    "##### Step 4-1: Create a variable named `emergency_fund_value`, and set it equal to three times the value of the member’s `monthly_income` of 12000. (You set this earlier in Part 1)."
   ]
  },
  {
   "cell_type": "code",
   "execution_count": 258,
   "metadata": {},
   "outputs": [
    {
     "name": "stdout",
     "output_type": "stream",
     "text": [
      "The value of the emergency fund: $36000.\n"
     ]
    }
   ],
   "source": [
    "# Create a variable named emergency_fund_value\n",
    "emergency_fund_value = monthly_income * 3\n",
    "print(f\"The value of the emergency fund: ${emergency_fund_value}.\")"
   ]
  },
  {
   "cell_type": "markdown",
   "metadata": {},
   "source": [
    "##### Step 4-2: Create a series of three if statements to determine if the member’s total portfolio is large enough to fund the emergency portfolio:\n",
    "\n",
    "* If the total portfolio value is greater than the emergency fund value, display a message congratulating the member for having enough money in this fund.\n",
    "\n",
    "* Else if the total portfolio value is equal to the emergency fund value, display a message congratulating the member on reaching this important financial goal.\n",
    "\n",
    "* Else the total portfolio is less than the emergency fund value, so display a message showing how many dollars away the member is from reaching the goal. (Subtract the total portfolio value from the emergency fund value.)"
   ]
  },
  {
   "cell_type": "code",
   "execution_count": 259,
   "metadata": {},
   "outputs": [
    {
     "name": "stdout",
     "output_type": "stream",
     "text": [
      "Congratulations, you have enough money in your portfolio to fund an emergency portfolio.\n"
     ]
    }
   ],
   "source": [
    "# Evaluate the possibility of creating an emergency fund with 3 conditions:\n",
    "if total_portfolio > emergency_fund_value:\n",
    "    print(\"Congratulations, you have enough money in your portfolio to fund an emergency portfolio.\")\n",
    "elif total_portfolio == emergency_fund_value:\n",
    "    print(\"Congratulations, you have reached an important financial goal! You now have just enough money in your portfolio to fund an emergency portfolio.\")\n",
    "else:\n",
    "    amount_remaining = emergency_fund_value - total_portfolio\n",
    "    print(f\"Sorry, you do not have enough money to fund an emergency portfolio. To meet this goal, you need {amount_remaining} more in your portfolio.\")\n",
    "    \n"
   ]
  },
  {
   "cell_type": "markdown",
   "metadata": {},
   "source": [
    "## Part 2: Create a Financial Planner for Retirement"
   ]
  },
  {
   "cell_type": "markdown",
   "metadata": {},
   "source": [
    "### Create the Monte Carlo Simulation\n",
    "\n",
    "In this section, you’ll use the MCForecastTools library to create a Monte Carlo simulation for the member’s savings portfolio. To do this, complete the following steps:\n",
    "\n",
    "1. Make an API call via the Alpaca SDK to get 3 years of historical closing prices for a traditional 60/40 portfolio split: 60% stocks (SPY) and 40% bonds (AGG).\n",
    "\n",
    "2. Run a Monte Carlo simulation of 500 samples and 30 years for the 60/40 portfolio, and then plot the results.The following image shows the overlay line plot resulting from a simulation with these characteristics. However, because a random number generator is used to run each live Monte Carlo simulation, your image will differ slightly from this exact image:\n",
    "\n",
    "![A screenshot depicts the resulting plot.](Images/5-4-monte-carlo-line-plot.png)\n",
    "\n",
    "3. Plot the probability distribution of the Monte Carlo simulation. Plot the probability distribution of the Monte Carlo simulation. The following image shows the histogram plot resulting from a simulation with these characteristics. However, because a random number generator is used to run each live Monte Carlo simulation, your image will differ slightly from this exact image:\n",
    "\n",
    "![A screenshot depicts the histogram plot.](Images/5-4-monte-carlo-histogram.png)\n",
    "\n",
    "4. Generate the summary statistics for the Monte Carlo simulation.\n",
    "\n"
   ]
  },
  {
   "cell_type": "markdown",
   "metadata": {},
   "source": [
    "#### Step 1: Make an API call via the Alpaca SDK to get 3 years of historical closing prices for a traditional 60/40 portfolio split: 60% stocks (SPY) and 40% bonds (AGG)."
   ]
  },
  {
   "cell_type": "code",
   "execution_count": 260,
   "metadata": {},
   "outputs": [],
   "source": [
    "# Set start and end dates of 3 years back from your current date\n",
    "# Alternatively, you can use an end date of 2020-08-07 and work 3 years back from that date \n",
    "start_date = pd.Timestamp(\"2019-04-14\", tz=\"America/New_York\").isoformat()\n",
    "end_date = pd.Timestamp(\"2022-04-14\", tz=\"America/New_York\").isoformat()"
   ]
  },
  {
   "cell_type": "code",
   "execution_count": 261,
   "metadata": {},
   "outputs": [
    {
     "data": {
      "text/html": [
       "<div>\n",
       "<style scoped>\n",
       "    .dataframe tbody tr th:only-of-type {\n",
       "        vertical-align: middle;\n",
       "    }\n",
       "\n",
       "    .dataframe tbody tr th {\n",
       "        vertical-align: top;\n",
       "    }\n",
       "\n",
       "    .dataframe thead tr th {\n",
       "        text-align: left;\n",
       "    }\n",
       "\n",
       "    .dataframe thead tr:last-of-type th {\n",
       "        text-align: right;\n",
       "    }\n",
       "</style>\n",
       "<table border=\"1\" class=\"dataframe\">\n",
       "  <thead>\n",
       "    <tr>\n",
       "      <th></th>\n",
       "      <th colspan=\"7\" halign=\"left\">SPY</th>\n",
       "      <th colspan=\"7\" halign=\"left\">AGG</th>\n",
       "    </tr>\n",
       "    <tr>\n",
       "      <th></th>\n",
       "      <th>open</th>\n",
       "      <th>high</th>\n",
       "      <th>low</th>\n",
       "      <th>close</th>\n",
       "      <th>volume</th>\n",
       "      <th>trade_count</th>\n",
       "      <th>vwap</th>\n",
       "      <th>open</th>\n",
       "      <th>high</th>\n",
       "      <th>low</th>\n",
       "      <th>close</th>\n",
       "      <th>volume</th>\n",
       "      <th>trade_count</th>\n",
       "      <th>vwap</th>\n",
       "    </tr>\n",
       "    <tr>\n",
       "      <th>timestamp</th>\n",
       "      <th></th>\n",
       "      <th></th>\n",
       "      <th></th>\n",
       "      <th></th>\n",
       "      <th></th>\n",
       "      <th></th>\n",
       "      <th></th>\n",
       "      <th></th>\n",
       "      <th></th>\n",
       "      <th></th>\n",
       "      <th></th>\n",
       "      <th></th>\n",
       "      <th></th>\n",
       "      <th></th>\n",
       "    </tr>\n",
       "  </thead>\n",
       "  <tbody>\n",
       "    <tr>\n",
       "      <th>2022-04-08 04:00:00+00:00</th>\n",
       "      <td>448.04</td>\n",
       "      <td>450.6300</td>\n",
       "      <td>445.9400</td>\n",
       "      <td>447.57</td>\n",
       "      <td>79148376</td>\n",
       "      <td>573491</td>\n",
       "      <td>448.250805</td>\n",
       "      <td>104.82</td>\n",
       "      <td>105.010</td>\n",
       "      <td>104.615</td>\n",
       "      <td>104.73</td>\n",
       "      <td>6501822</td>\n",
       "      <td>24900</td>\n",
       "      <td>104.804999</td>\n",
       "    </tr>\n",
       "    <tr>\n",
       "      <th>2022-04-11 04:00:00+00:00</th>\n",
       "      <td>444.11</td>\n",
       "      <td>445.0000</td>\n",
       "      <td>439.3900</td>\n",
       "      <td>439.92</td>\n",
       "      <td>89825549</td>\n",
       "      <td>779421</td>\n",
       "      <td>442.206374</td>\n",
       "      <td>104.44</td>\n",
       "      <td>104.505</td>\n",
       "      <td>104.170</td>\n",
       "      <td>104.28</td>\n",
       "      <td>8377902</td>\n",
       "      <td>29767</td>\n",
       "      <td>104.312835</td>\n",
       "    </tr>\n",
       "    <tr>\n",
       "      <th>2022-04-12 04:00:00+00:00</th>\n",
       "      <td>443.02</td>\n",
       "      <td>445.7500</td>\n",
       "      <td>436.6501</td>\n",
       "      <td>438.29</td>\n",
       "      <td>84020734</td>\n",
       "      <td>694115</td>\n",
       "      <td>440.815476</td>\n",
       "      <td>104.83</td>\n",
       "      <td>104.920</td>\n",
       "      <td>104.580</td>\n",
       "      <td>104.61</td>\n",
       "      <td>8448652</td>\n",
       "      <td>29955</td>\n",
       "      <td>104.740856</td>\n",
       "    </tr>\n",
       "    <tr>\n",
       "      <th>2022-04-13 04:00:00+00:00</th>\n",
       "      <td>437.96</td>\n",
       "      <td>444.1100</td>\n",
       "      <td>437.8400</td>\n",
       "      <td>443.31</td>\n",
       "      <td>73734315</td>\n",
       "      <td>563285</td>\n",
       "      <td>441.262058</td>\n",
       "      <td>104.77</td>\n",
       "      <td>105.090</td>\n",
       "      <td>104.740</td>\n",
       "      <td>104.82</td>\n",
       "      <td>6868550</td>\n",
       "      <td>27348</td>\n",
       "      <td>104.889799</td>\n",
       "    </tr>\n",
       "    <tr>\n",
       "      <th>2022-04-14 04:00:00+00:00</th>\n",
       "      <td>443.44</td>\n",
       "      <td>444.7301</td>\n",
       "      <td>437.6800</td>\n",
       "      <td>437.79</td>\n",
       "      <td>98667135</td>\n",
       "      <td>703727</td>\n",
       "      <td>440.305786</td>\n",
       "      <td>104.73</td>\n",
       "      <td>104.740</td>\n",
       "      <td>103.930</td>\n",
       "      <td>103.97</td>\n",
       "      <td>8505987</td>\n",
       "      <td>30443</td>\n",
       "      <td>104.171733</td>\n",
       "    </tr>\n",
       "  </tbody>\n",
       "</table>\n",
       "</div>"
      ],
      "text/plain": [
       "                              SPY                                        \\\n",
       "                             open      high       low   close    volume   \n",
       "timestamp                                                                 \n",
       "2022-04-08 04:00:00+00:00  448.04  450.6300  445.9400  447.57  79148376   \n",
       "2022-04-11 04:00:00+00:00  444.11  445.0000  439.3900  439.92  89825549   \n",
       "2022-04-12 04:00:00+00:00  443.02  445.7500  436.6501  438.29  84020734   \n",
       "2022-04-13 04:00:00+00:00  437.96  444.1100  437.8400  443.31  73734315   \n",
       "2022-04-14 04:00:00+00:00  443.44  444.7301  437.6800  437.79  98667135   \n",
       "\n",
       "                                                      AGG                    \\\n",
       "                          trade_count        vwap    open     high      low   \n",
       "timestamp                                                                     \n",
       "2022-04-08 04:00:00+00:00      573491  448.250805  104.82  105.010  104.615   \n",
       "2022-04-11 04:00:00+00:00      779421  442.206374  104.44  104.505  104.170   \n",
       "2022-04-12 04:00:00+00:00      694115  440.815476  104.83  104.920  104.580   \n",
       "2022-04-13 04:00:00+00:00      563285  441.262058  104.77  105.090  104.740   \n",
       "2022-04-14 04:00:00+00:00      703727  440.305786  104.73  104.740  103.930   \n",
       "\n",
       "                                                                    \n",
       "                            close   volume trade_count        vwap  \n",
       "timestamp                                                           \n",
       "2022-04-08 04:00:00+00:00  104.73  6501822       24900  104.804999  \n",
       "2022-04-11 04:00:00+00:00  104.28  8377902       29767  104.312835  \n",
       "2022-04-12 04:00:00+00:00  104.61  8448652       29955  104.740856  \n",
       "2022-04-13 04:00:00+00:00  104.82  6868550       27348  104.889799  \n",
       "2022-04-14 04:00:00+00:00  103.97  8505987       30443  104.171733  "
      ]
     },
     "execution_count": 261,
     "metadata": {},
     "output_type": "execute_result"
    }
   ],
   "source": [
    "# Use the Alpaca get_bars function to make the API call to get the 3 years worth of pricing data\n",
    "# The tickers and timeframe parameters should have been set in Part 1 of this activity \n",
    "# The start and end dates should be updated with the information set above\n",
    "# Remember to add the df property to the end of the call so the response is returned as a DataFrame\n",
    "sb_port_prices = alpaca.get_bars(\n",
    "    tickers,\n",
    "    timeframe,\n",
    "    start=start_date,\n",
    "    end=end_date,\n",
    ").df\n",
    "\n",
    "\n",
    "spy = sb_port_prices[sb_port_prices['symbol']=='SPY'].drop('symbol', axis=1)\n",
    "agg = sb_port_prices[sb_port_prices['symbol']=='AGG'].drop('symbol', axis=1)\n",
    "\n",
    "\n",
    "# Concatenate the ticker DataFrames\n",
    "sb_prices = pd.concat([spy, agg], axis=1, keys=[\"SPY\", \"AGG\"])\n",
    "\n",
    "# Review the first and last five rows of the resulting DataFrame \n",
    "sb_prices.head()\n",
    "sb_prices.tail()\n"
   ]
  },
  {
   "cell_type": "markdown",
   "metadata": {},
   "source": [
    "#### Step 2: Run a Monte Carlo simulation of 500 samples and 30 years for the 60/40 portfolio, and then plot the results."
   ]
  },
  {
   "cell_type": "code",
   "execution_count": 262,
   "metadata": {},
   "outputs": [
    {
     "data": {
      "text/html": [
       "<div>\n",
       "<style scoped>\n",
       "    .dataframe tbody tr th:only-of-type {\n",
       "        vertical-align: middle;\n",
       "    }\n",
       "\n",
       "    .dataframe tbody tr th {\n",
       "        vertical-align: top;\n",
       "    }\n",
       "\n",
       "    .dataframe thead tr th {\n",
       "        text-align: left;\n",
       "    }\n",
       "\n",
       "    .dataframe thead tr:last-of-type th {\n",
       "        text-align: right;\n",
       "    }\n",
       "</style>\n",
       "<table border=\"1\" class=\"dataframe\">\n",
       "  <thead>\n",
       "    <tr>\n",
       "      <th></th>\n",
       "      <th colspan=\"8\" halign=\"left\">SPY</th>\n",
       "      <th colspan=\"8\" halign=\"left\">AGG</th>\n",
       "    </tr>\n",
       "    <tr>\n",
       "      <th></th>\n",
       "      <th>open</th>\n",
       "      <th>high</th>\n",
       "      <th>low</th>\n",
       "      <th>close</th>\n",
       "      <th>volume</th>\n",
       "      <th>trade_count</th>\n",
       "      <th>vwap</th>\n",
       "      <th>daily_return</th>\n",
       "      <th>open</th>\n",
       "      <th>high</th>\n",
       "      <th>low</th>\n",
       "      <th>close</th>\n",
       "      <th>volume</th>\n",
       "      <th>trade_count</th>\n",
       "      <th>vwap</th>\n",
       "      <th>daily_return</th>\n",
       "    </tr>\n",
       "    <tr>\n",
       "      <th>timestamp</th>\n",
       "      <th></th>\n",
       "      <th></th>\n",
       "      <th></th>\n",
       "      <th></th>\n",
       "      <th></th>\n",
       "      <th></th>\n",
       "      <th></th>\n",
       "      <th></th>\n",
       "      <th></th>\n",
       "      <th></th>\n",
       "      <th></th>\n",
       "      <th></th>\n",
       "      <th></th>\n",
       "      <th></th>\n",
       "      <th></th>\n",
       "      <th></th>\n",
       "    </tr>\n",
       "  </thead>\n",
       "  <tbody>\n",
       "    <tr>\n",
       "      <th>2019-04-15 04:00:00+00:00</th>\n",
       "      <td>290.27</td>\n",
       "      <td>290.350</td>\n",
       "      <td>289.075</td>\n",
       "      <td>289.97</td>\n",
       "      <td>50222730</td>\n",
       "      <td>199622</td>\n",
       "      <td>289.773677</td>\n",
       "      <td>NaN</td>\n",
       "      <td>108.21</td>\n",
       "      <td>108.3000</td>\n",
       "      <td>108.21</td>\n",
       "      <td>108.25</td>\n",
       "      <td>2546204</td>\n",
       "      <td>10053</td>\n",
       "      <td>108.253507</td>\n",
       "      <td>NaN</td>\n",
       "    </tr>\n",
       "    <tr>\n",
       "      <th>2019-04-16 04:00:00+00:00</th>\n",
       "      <td>290.96</td>\n",
       "      <td>291.010</td>\n",
       "      <td>289.500</td>\n",
       "      <td>290.16</td>\n",
       "      <td>52154597</td>\n",
       "      <td>206469</td>\n",
       "      <td>290.277078</td>\n",
       "      <td>0.000655</td>\n",
       "      <td>108.12</td>\n",
       "      <td>108.2100</td>\n",
       "      <td>108.02</td>\n",
       "      <td>108.06</td>\n",
       "      <td>4093950</td>\n",
       "      <td>12649</td>\n",
       "      <td>108.108731</td>\n",
       "      <td>-0.001755</td>\n",
       "    </tr>\n",
       "    <tr>\n",
       "      <th>2019-04-17 04:00:00+00:00</th>\n",
       "      <td>291.41</td>\n",
       "      <td>291.425</td>\n",
       "      <td>288.990</td>\n",
       "      <td>289.45</td>\n",
       "      <td>58268470</td>\n",
       "      <td>245037</td>\n",
       "      <td>289.770682</td>\n",
       "      <td>-0.002447</td>\n",
       "      <td>108.09</td>\n",
       "      <td>108.1899</td>\n",
       "      <td>108.05</td>\n",
       "      <td>108.05</td>\n",
       "      <td>3390171</td>\n",
       "      <td>9569</td>\n",
       "      <td>108.090758</td>\n",
       "      <td>-0.000093</td>\n",
       "    </tr>\n",
       "    <tr>\n",
       "      <th>2019-04-18 04:00:00+00:00</th>\n",
       "      <td>290.12</td>\n",
       "      <td>290.320</td>\n",
       "      <td>288.660</td>\n",
       "      <td>290.02</td>\n",
       "      <td>69414428</td>\n",
       "      <td>231296</td>\n",
       "      <td>289.794161</td>\n",
       "      <td>0.001969</td>\n",
       "      <td>108.23</td>\n",
       "      <td>108.2900</td>\n",
       "      <td>108.16</td>\n",
       "      <td>108.19</td>\n",
       "      <td>2217221</td>\n",
       "      <td>8388</td>\n",
       "      <td>108.211849</td>\n",
       "      <td>0.001296</td>\n",
       "    </tr>\n",
       "    <tr>\n",
       "      <th>2019-04-22 04:00:00+00:00</th>\n",
       "      <td>289.17</td>\n",
       "      <td>290.435</td>\n",
       "      <td>289.070</td>\n",
       "      <td>290.27</td>\n",
       "      <td>40520264</td>\n",
       "      <td>170767</td>\n",
       "      <td>290.002934</td>\n",
       "      <td>0.000862</td>\n",
       "      <td>108.13</td>\n",
       "      <td>108.1600</td>\n",
       "      <td>108.05</td>\n",
       "      <td>108.06</td>\n",
       "      <td>5725616</td>\n",
       "      <td>9161</td>\n",
       "      <td>108.098893</td>\n",
       "      <td>-0.001202</td>\n",
       "    </tr>\n",
       "  </tbody>\n",
       "</table>\n",
       "</div>"
      ],
      "text/plain": [
       "                              SPY                                      \\\n",
       "                             open     high      low   close    volume   \n",
       "timestamp                                                               \n",
       "2019-04-15 04:00:00+00:00  290.27  290.350  289.075  289.97  50222730   \n",
       "2019-04-16 04:00:00+00:00  290.96  291.010  289.500  290.16  52154597   \n",
       "2019-04-17 04:00:00+00:00  291.41  291.425  288.990  289.45  58268470   \n",
       "2019-04-18 04:00:00+00:00  290.12  290.320  288.660  290.02  69414428   \n",
       "2019-04-22 04:00:00+00:00  289.17  290.435  289.070  290.27  40520264   \n",
       "\n",
       "                                                                   AGG  \\\n",
       "                          trade_count        vwap daily_return    open   \n",
       "timestamp                                                                \n",
       "2019-04-15 04:00:00+00:00      199622  289.773677          NaN  108.21   \n",
       "2019-04-16 04:00:00+00:00      206469  290.277078     0.000655  108.12   \n",
       "2019-04-17 04:00:00+00:00      245037  289.770682    -0.002447  108.09   \n",
       "2019-04-18 04:00:00+00:00      231296  289.794161     0.001969  108.23   \n",
       "2019-04-22 04:00:00+00:00      170767  290.002934     0.000862  108.13   \n",
       "\n",
       "                                                                          \\\n",
       "                               high     low   close   volume trade_count   \n",
       "timestamp                                                                  \n",
       "2019-04-15 04:00:00+00:00  108.3000  108.21  108.25  2546204       10053   \n",
       "2019-04-16 04:00:00+00:00  108.2100  108.02  108.06  4093950       12649   \n",
       "2019-04-17 04:00:00+00:00  108.1899  108.05  108.05  3390171        9569   \n",
       "2019-04-18 04:00:00+00:00  108.2900  108.16  108.19  2217221        8388   \n",
       "2019-04-22 04:00:00+00:00  108.1600  108.05  108.06  5725616        9161   \n",
       "\n",
       "                                                    \n",
       "                                 vwap daily_return  \n",
       "timestamp                                           \n",
       "2019-04-15 04:00:00+00:00  108.253507          NaN  \n",
       "2019-04-16 04:00:00+00:00  108.108731    -0.001755  \n",
       "2019-04-17 04:00:00+00:00  108.090758    -0.000093  \n",
       "2019-04-18 04:00:00+00:00  108.211849     0.001296  \n",
       "2019-04-22 04:00:00+00:00  108.098893    -0.001202  "
      ]
     },
     "execution_count": 262,
     "metadata": {},
     "output_type": "execute_result"
    }
   ],
   "source": [
    "# Configure the Monte Carlo simulation to forecast 30 years cumulative returns\n",
    "# The weights should be split 40% to AGG and 60% to SPY.\n",
    "# Run 500 samples.\n",
    "MC_sb_thirty = MCSimulation(\n",
    "    portfolio_data = sb_prices,\n",
    "    weights = [.6, .4],\n",
    "    num_simulation = 500,\n",
    "    num_trading_days = 252*30)\n",
    "\n",
    "# Review the simulation input data\n",
    "MC_sb_thirty.portfolio_data.head()\n"
   ]
  },
  {
   "cell_type": "code",
   "execution_count": 263,
   "metadata": {},
   "outputs": [
    {
     "name": "stdout",
     "output_type": "stream",
     "text": [
      "Running Monte Carlo simulation number 0.\n",
      "Running Monte Carlo simulation number 10.\n",
      "Running Monte Carlo simulation number 20.\n",
      "Running Monte Carlo simulation number 30.\n",
      "Running Monte Carlo simulation number 40.\n",
      "Running Monte Carlo simulation number 50.\n",
      "Running Monte Carlo simulation number 60.\n",
      "Running Monte Carlo simulation number 70.\n",
      "Running Monte Carlo simulation number 80.\n",
      "Running Monte Carlo simulation number 90.\n",
      "Running Monte Carlo simulation number 100.\n"
     ]
    },
    {
     "name": "stderr",
     "output_type": "stream",
     "text": [
      "/Users/nicoleroberts/Dropbox/My Mac (Nicole’s MacBook Pro)/Desktop/Nicole_Roberts_Portfolio/Challenge_5_Financial_Planning/MCForecastTools.py:117: PerformanceWarning: DataFrame is highly fragmented.  This is usually the result of calling `frame.insert` many times, which has poor performance.  Consider joining all columns at once using pd.concat(axis=1) instead.  To get a de-fragmented frame, use `newframe = frame.copy()`\n",
      "  portfolio_cumulative_returns[n] = (1 + sim_df.fillna(0)).cumprod()\n"
     ]
    },
    {
     "name": "stdout",
     "output_type": "stream",
     "text": [
      "Running Monte Carlo simulation number 110.\n",
      "Running Monte Carlo simulation number 120.\n",
      "Running Monte Carlo simulation number 130.\n",
      "Running Monte Carlo simulation number 140.\n",
      "Running Monte Carlo simulation number 150.\n",
      "Running Monte Carlo simulation number 160.\n",
      "Running Monte Carlo simulation number 170.\n",
      "Running Monte Carlo simulation number 180.\n",
      "Running Monte Carlo simulation number 190.\n",
      "Running Monte Carlo simulation number 200.\n",
      "Running Monte Carlo simulation number 210.\n",
      "Running Monte Carlo simulation number 220.\n",
      "Running Monte Carlo simulation number 230.\n",
      "Running Monte Carlo simulation number 240.\n",
      "Running Monte Carlo simulation number 250.\n",
      "Running Monte Carlo simulation number 260.\n",
      "Running Monte Carlo simulation number 270.\n",
      "Running Monte Carlo simulation number 280.\n",
      "Running Monte Carlo simulation number 290.\n",
      "Running Monte Carlo simulation number 300.\n",
      "Running Monte Carlo simulation number 310.\n",
      "Running Monte Carlo simulation number 320.\n",
      "Running Monte Carlo simulation number 330.\n",
      "Running Monte Carlo simulation number 340.\n",
      "Running Monte Carlo simulation number 350.\n",
      "Running Monte Carlo simulation number 360.\n",
      "Running Monte Carlo simulation number 370.\n",
      "Running Monte Carlo simulation number 380.\n",
      "Running Monte Carlo simulation number 390.\n",
      "Running Monte Carlo simulation number 400.\n",
      "Running Monte Carlo simulation number 410.\n",
      "Running Monte Carlo simulation number 420.\n",
      "Running Monte Carlo simulation number 430.\n",
      "Running Monte Carlo simulation number 440.\n",
      "Running Monte Carlo simulation number 450.\n",
      "Running Monte Carlo simulation number 460.\n",
      "Running Monte Carlo simulation number 470.\n",
      "Running Monte Carlo simulation number 480.\n",
      "Running Monte Carlo simulation number 490.\n"
     ]
    },
    {
     "data": {
      "text/html": [
       "<div>\n",
       "<style scoped>\n",
       "    .dataframe tbody tr th:only-of-type {\n",
       "        vertical-align: middle;\n",
       "    }\n",
       "\n",
       "    .dataframe tbody tr th {\n",
       "        vertical-align: top;\n",
       "    }\n",
       "\n",
       "    .dataframe thead th {\n",
       "        text-align: right;\n",
       "    }\n",
       "</style>\n",
       "<table border=\"1\" class=\"dataframe\">\n",
       "  <thead>\n",
       "    <tr style=\"text-align: right;\">\n",
       "      <th></th>\n",
       "      <th>0</th>\n",
       "      <th>1</th>\n",
       "      <th>2</th>\n",
       "      <th>3</th>\n",
       "      <th>4</th>\n",
       "      <th>5</th>\n",
       "      <th>6</th>\n",
       "      <th>7</th>\n",
       "      <th>8</th>\n",
       "      <th>9</th>\n",
       "      <th>...</th>\n",
       "      <th>490</th>\n",
       "      <th>491</th>\n",
       "      <th>492</th>\n",
       "      <th>493</th>\n",
       "      <th>494</th>\n",
       "      <th>495</th>\n",
       "      <th>496</th>\n",
       "      <th>497</th>\n",
       "      <th>498</th>\n",
       "      <th>499</th>\n",
       "    </tr>\n",
       "  </thead>\n",
       "  <tbody>\n",
       "    <tr>\n",
       "      <th>0</th>\n",
       "      <td>1.000000</td>\n",
       "      <td>1.000000</td>\n",
       "      <td>1.000000</td>\n",
       "      <td>1.000000</td>\n",
       "      <td>1.000000</td>\n",
       "      <td>1.000000</td>\n",
       "      <td>1.000000</td>\n",
       "      <td>1.000000</td>\n",
       "      <td>1.000000</td>\n",
       "      <td>1.000000</td>\n",
       "      <td>...</td>\n",
       "      <td>1.000000</td>\n",
       "      <td>1.000000</td>\n",
       "      <td>1.000000</td>\n",
       "      <td>1.000000</td>\n",
       "      <td>1.000000</td>\n",
       "      <td>1.000000</td>\n",
       "      <td>1.000000</td>\n",
       "      <td>1.000000</td>\n",
       "      <td>1.000000</td>\n",
       "      <td>1.000000</td>\n",
       "    </tr>\n",
       "    <tr>\n",
       "      <th>1</th>\n",
       "      <td>0.991009</td>\n",
       "      <td>1.001547</td>\n",
       "      <td>0.997377</td>\n",
       "      <td>0.985499</td>\n",
       "      <td>0.991721</td>\n",
       "      <td>0.995290</td>\n",
       "      <td>0.997653</td>\n",
       "      <td>1.000300</td>\n",
       "      <td>0.995290</td>\n",
       "      <td>1.005869</td>\n",
       "      <td>...</td>\n",
       "      <td>1.012093</td>\n",
       "      <td>1.001179</td>\n",
       "      <td>0.988818</td>\n",
       "      <td>1.013313</td>\n",
       "      <td>1.003272</td>\n",
       "      <td>0.995086</td>\n",
       "      <td>0.991110</td>\n",
       "      <td>0.988435</td>\n",
       "      <td>1.005368</td>\n",
       "      <td>1.010285</td>\n",
       "    </tr>\n",
       "    <tr>\n",
       "      <th>2</th>\n",
       "      <td>0.998979</td>\n",
       "      <td>1.002796</td>\n",
       "      <td>0.999396</td>\n",
       "      <td>0.998747</td>\n",
       "      <td>0.997427</td>\n",
       "      <td>0.992439</td>\n",
       "      <td>0.992545</td>\n",
       "      <td>0.994606</td>\n",
       "      <td>0.993415</td>\n",
       "      <td>1.003411</td>\n",
       "      <td>...</td>\n",
       "      <td>1.021258</td>\n",
       "      <td>1.003967</td>\n",
       "      <td>1.001209</td>\n",
       "      <td>0.998038</td>\n",
       "      <td>1.005247</td>\n",
       "      <td>1.002362</td>\n",
       "      <td>0.981515</td>\n",
       "      <td>0.978553</td>\n",
       "      <td>1.023532</td>\n",
       "      <td>1.015807</td>\n",
       "    </tr>\n",
       "    <tr>\n",
       "      <th>3</th>\n",
       "      <td>0.990711</td>\n",
       "      <td>1.022098</td>\n",
       "      <td>1.007097</td>\n",
       "      <td>1.000533</td>\n",
       "      <td>1.000838</td>\n",
       "      <td>1.001559</td>\n",
       "      <td>0.994279</td>\n",
       "      <td>1.003496</td>\n",
       "      <td>0.993686</td>\n",
       "      <td>1.001938</td>\n",
       "      <td>...</td>\n",
       "      <td>1.028034</td>\n",
       "      <td>0.995787</td>\n",
       "      <td>0.993135</td>\n",
       "      <td>0.990721</td>\n",
       "      <td>1.020036</td>\n",
       "      <td>1.018350</td>\n",
       "      <td>0.982630</td>\n",
       "      <td>0.986952</td>\n",
       "      <td>1.017591</td>\n",
       "      <td>1.016312</td>\n",
       "    </tr>\n",
       "    <tr>\n",
       "      <th>4</th>\n",
       "      <td>1.001802</td>\n",
       "      <td>1.035910</td>\n",
       "      <td>1.008511</td>\n",
       "      <td>1.003017</td>\n",
       "      <td>1.015644</td>\n",
       "      <td>0.995866</td>\n",
       "      <td>0.995343</td>\n",
       "      <td>1.006623</td>\n",
       "      <td>0.996008</td>\n",
       "      <td>0.997983</td>\n",
       "      <td>...</td>\n",
       "      <td>1.033146</td>\n",
       "      <td>0.988083</td>\n",
       "      <td>1.009077</td>\n",
       "      <td>0.999946</td>\n",
       "      <td>1.011350</td>\n",
       "      <td>1.022089</td>\n",
       "      <td>0.985122</td>\n",
       "      <td>0.983477</td>\n",
       "      <td>1.028322</td>\n",
       "      <td>1.011898</td>\n",
       "    </tr>\n",
       "    <tr>\n",
       "      <th>...</th>\n",
       "      <td>...</td>\n",
       "      <td>...</td>\n",
       "      <td>...</td>\n",
       "      <td>...</td>\n",
       "      <td>...</td>\n",
       "      <td>...</td>\n",
       "      <td>...</td>\n",
       "      <td>...</td>\n",
       "      <td>...</td>\n",
       "      <td>...</td>\n",
       "      <td>...</td>\n",
       "      <td>...</td>\n",
       "      <td>...</td>\n",
       "      <td>...</td>\n",
       "      <td>...</td>\n",
       "      <td>...</td>\n",
       "      <td>...</td>\n",
       "      <td>...</td>\n",
       "      <td>...</td>\n",
       "      <td>...</td>\n",
       "      <td>...</td>\n",
       "    </tr>\n",
       "    <tr>\n",
       "      <th>7556</th>\n",
       "      <td>11.820333</td>\n",
       "      <td>9.204651</td>\n",
       "      <td>12.751676</td>\n",
       "      <td>7.722453</td>\n",
       "      <td>5.211530</td>\n",
       "      <td>18.730396</td>\n",
       "      <td>6.157526</td>\n",
       "      <td>32.206767</td>\n",
       "      <td>1.545709</td>\n",
       "      <td>6.438389</td>\n",
       "      <td>...</td>\n",
       "      <td>11.789789</td>\n",
       "      <td>4.426233</td>\n",
       "      <td>18.977771</td>\n",
       "      <td>22.446156</td>\n",
       "      <td>2.114518</td>\n",
       "      <td>14.408416</td>\n",
       "      <td>5.431208</td>\n",
       "      <td>22.635530</td>\n",
       "      <td>11.664411</td>\n",
       "      <td>7.214123</td>\n",
       "    </tr>\n",
       "    <tr>\n",
       "      <th>7557</th>\n",
       "      <td>11.724730</td>\n",
       "      <td>9.095482</td>\n",
       "      <td>12.601812</td>\n",
       "      <td>7.772913</td>\n",
       "      <td>5.252421</td>\n",
       "      <td>18.593949</td>\n",
       "      <td>6.124957</td>\n",
       "      <td>32.276450</td>\n",
       "      <td>1.530731</td>\n",
       "      <td>6.467268</td>\n",
       "      <td>...</td>\n",
       "      <td>11.803247</td>\n",
       "      <td>4.377880</td>\n",
       "      <td>19.196391</td>\n",
       "      <td>22.480843</td>\n",
       "      <td>2.110434</td>\n",
       "      <td>14.353839</td>\n",
       "      <td>5.398562</td>\n",
       "      <td>22.528358</td>\n",
       "      <td>11.604976</td>\n",
       "      <td>7.229622</td>\n",
       "    </tr>\n",
       "    <tr>\n",
       "      <th>7558</th>\n",
       "      <td>11.747781</td>\n",
       "      <td>9.102947</td>\n",
       "      <td>12.684468</td>\n",
       "      <td>7.930850</td>\n",
       "      <td>5.222738</td>\n",
       "      <td>18.989727</td>\n",
       "      <td>6.075774</td>\n",
       "      <td>32.416071</td>\n",
       "      <td>1.518231</td>\n",
       "      <td>6.503265</td>\n",
       "      <td>...</td>\n",
       "      <td>11.739144</td>\n",
       "      <td>4.410160</td>\n",
       "      <td>19.365225</td>\n",
       "      <td>22.299857</td>\n",
       "      <td>2.106918</td>\n",
       "      <td>14.213161</td>\n",
       "      <td>5.429242</td>\n",
       "      <td>22.271620</td>\n",
       "      <td>11.594989</td>\n",
       "      <td>7.330883</td>\n",
       "    </tr>\n",
       "    <tr>\n",
       "      <th>7559</th>\n",
       "      <td>11.624740</td>\n",
       "      <td>9.088673</td>\n",
       "      <td>12.812478</td>\n",
       "      <td>7.905405</td>\n",
       "      <td>5.236487</td>\n",
       "      <td>18.847638</td>\n",
       "      <td>6.063937</td>\n",
       "      <td>32.414008</td>\n",
       "      <td>1.517336</td>\n",
       "      <td>6.380315</td>\n",
       "      <td>...</td>\n",
       "      <td>11.719660</td>\n",
       "      <td>4.466445</td>\n",
       "      <td>19.200292</td>\n",
       "      <td>22.153082</td>\n",
       "      <td>2.070816</td>\n",
       "      <td>14.312127</td>\n",
       "      <td>5.475813</td>\n",
       "      <td>22.166058</td>\n",
       "      <td>11.615598</td>\n",
       "      <td>7.320866</td>\n",
       "    </tr>\n",
       "    <tr>\n",
       "      <th>7560</th>\n",
       "      <td>11.590699</td>\n",
       "      <td>9.037096</td>\n",
       "      <td>12.824714</td>\n",
       "      <td>7.984675</td>\n",
       "      <td>5.186267</td>\n",
       "      <td>19.110979</td>\n",
       "      <td>6.115944</td>\n",
       "      <td>32.174037</td>\n",
       "      <td>1.516870</td>\n",
       "      <td>6.318924</td>\n",
       "      <td>...</td>\n",
       "      <td>11.556232</td>\n",
       "      <td>4.398913</td>\n",
       "      <td>19.130620</td>\n",
       "      <td>22.109302</td>\n",
       "      <td>2.081293</td>\n",
       "      <td>14.351777</td>\n",
       "      <td>5.469451</td>\n",
       "      <td>22.096853</td>\n",
       "      <td>11.731829</td>\n",
       "      <td>7.300933</td>\n",
       "    </tr>\n",
       "  </tbody>\n",
       "</table>\n",
       "<p>7561 rows × 500 columns</p>\n",
       "</div>"
      ],
      "text/plain": [
       "            0         1          2         3         4          5         6    \\\n",
       "0      1.000000  1.000000   1.000000  1.000000  1.000000   1.000000  1.000000   \n",
       "1      0.991009  1.001547   0.997377  0.985499  0.991721   0.995290  0.997653   \n",
       "2      0.998979  1.002796   0.999396  0.998747  0.997427   0.992439  0.992545   \n",
       "3      0.990711  1.022098   1.007097  1.000533  1.000838   1.001559  0.994279   \n",
       "4      1.001802  1.035910   1.008511  1.003017  1.015644   0.995866  0.995343   \n",
       "...         ...       ...        ...       ...       ...        ...       ...   \n",
       "7556  11.820333  9.204651  12.751676  7.722453  5.211530  18.730396  6.157526   \n",
       "7557  11.724730  9.095482  12.601812  7.772913  5.252421  18.593949  6.124957   \n",
       "7558  11.747781  9.102947  12.684468  7.930850  5.222738  18.989727  6.075774   \n",
       "7559  11.624740  9.088673  12.812478  7.905405  5.236487  18.847638  6.063937   \n",
       "7560  11.590699  9.037096  12.824714  7.984675  5.186267  19.110979  6.115944   \n",
       "\n",
       "            7         8         9    ...        490       491        492  \\\n",
       "0      1.000000  1.000000  1.000000  ...   1.000000  1.000000   1.000000   \n",
       "1      1.000300  0.995290  1.005869  ...   1.012093  1.001179   0.988818   \n",
       "2      0.994606  0.993415  1.003411  ...   1.021258  1.003967   1.001209   \n",
       "3      1.003496  0.993686  1.001938  ...   1.028034  0.995787   0.993135   \n",
       "4      1.006623  0.996008  0.997983  ...   1.033146  0.988083   1.009077   \n",
       "...         ...       ...       ...  ...        ...       ...        ...   \n",
       "7556  32.206767  1.545709  6.438389  ...  11.789789  4.426233  18.977771   \n",
       "7557  32.276450  1.530731  6.467268  ...  11.803247  4.377880  19.196391   \n",
       "7558  32.416071  1.518231  6.503265  ...  11.739144  4.410160  19.365225   \n",
       "7559  32.414008  1.517336  6.380315  ...  11.719660  4.466445  19.200292   \n",
       "7560  32.174037  1.516870  6.318924  ...  11.556232  4.398913  19.130620   \n",
       "\n",
       "            493       494        495       496        497        498       499  \n",
       "0      1.000000  1.000000   1.000000  1.000000   1.000000   1.000000  1.000000  \n",
       "1      1.013313  1.003272   0.995086  0.991110   0.988435   1.005368  1.010285  \n",
       "2      0.998038  1.005247   1.002362  0.981515   0.978553   1.023532  1.015807  \n",
       "3      0.990721  1.020036   1.018350  0.982630   0.986952   1.017591  1.016312  \n",
       "4      0.999946  1.011350   1.022089  0.985122   0.983477   1.028322  1.011898  \n",
       "...         ...       ...        ...       ...        ...        ...       ...  \n",
       "7556  22.446156  2.114518  14.408416  5.431208  22.635530  11.664411  7.214123  \n",
       "7557  22.480843  2.110434  14.353839  5.398562  22.528358  11.604976  7.229622  \n",
       "7558  22.299857  2.106918  14.213161  5.429242  22.271620  11.594989  7.330883  \n",
       "7559  22.153082  2.070816  14.312127  5.475813  22.166058  11.615598  7.320866  \n",
       "7560  22.109302  2.081293  14.351777  5.469451  22.096853  11.731829  7.300933  \n",
       "\n",
       "[7561 rows x 500 columns]"
      ]
     },
     "execution_count": 263,
     "metadata": {},
     "output_type": "execute_result"
    }
   ],
   "source": [
    "# Run the Monte Carlo simulation to forecast 30 years cumulative returns\n",
    "MC_sb_thirty.calc_cumulative_return()"
   ]
  },
  {
   "cell_type": "code",
   "execution_count": 264,
   "metadata": {},
   "outputs": [
    {
     "data": {
      "image/png": "[encoded data removed]",
      "text/plain": [
       "<Figure size 432x288 with 1 Axes>"
      ]
     },
     "metadata": {
      "needs_background": "light"
     },
     "output_type": "display_data"
    }
   ],
   "source": [
    "# Visualize the 30-year Monte Carlo simulation by creating an\n",
    "# overlay line plot\n",
    "sb_thirty_line_plot = MC_sb_thirty.plot_simulation()"
   ]
  },
  {
   "cell_type": "markdown",
   "metadata": {},
   "source": [
    "#### Step 3: Plot the probability distribution of the Monte Carlo simulation."
   ]
  },
  {
   "cell_type": "code",
   "execution_count": 265,
   "metadata": {},
   "outputs": [
    {
     "data": {
      "image/png": "[encoded data removed]",
      "text/plain": [
       "<Figure size 432x288 with 1 Axes>"
      ]
     },
     "metadata": {
      "needs_background": "light"
     },
     "output_type": "display_data"
    }
   ],
   "source": [
    "# Visualize the probability distribution of the 30-year Monte Carlo simulation \n",
    "sb_thirty_distribution_plot = MC_sb_thirty.plot_distribution()\n"
   ]
  },
  {
   "cell_type": "markdown",
   "metadata": {},
   "source": [
    "#### Step 4: Generate the summary statistics for the Monte Carlo simulation."
   ]
  },
  {
   "cell_type": "code",
   "execution_count": 266,
   "metadata": {},
   "outputs": [
    {
     "name": "stdout",
     "output_type": "stream",
     "text": [
      "count           500.000000\n",
      "mean             15.352012\n",
      "std              12.281380\n",
      "min               1.516870\n",
      "25%               6.965710\n",
      "50%              11.556997\n",
      "75%              20.100397\n",
      "max             101.818909\n",
      "95% CI Lower      2.866388\n",
      "95% CI Upper     44.257656\n",
      "Name: 7560, dtype: float64\n"
     ]
    }
   ],
   "source": [
    "# Generate summary statistics from the 30-year Monte Carlo simulation results\n",
    "# Save the results as a variable\n",
    "sb_thirty_yr_table = MC_sb_thirty.summarize_cumulative_return()\n",
    "\n",
    "# Review the 30-year Monte Carlo summary statistics\n",
    "print(sb_thirty_yr_table)\n"
   ]
  },
  {
   "cell_type": "markdown",
   "metadata": {},
   "source": [
    "### Analyze the Retirement Portfolio Forecasts\n",
    "\n",
    "Using the current value of only the stock and bond portion of the member's portfolio and the summary statistics that you generated from the Monte Carlo simulation, answer the following question in your Jupyter notebook:\n",
    "\n",
    "-  What are the lower and upper bounds for the expected value of the portfolio with a 95% confidence interval?\n"
   ]
  },
  {
   "cell_type": "code",
   "execution_count": 267,
   "metadata": {},
   "outputs": [
    {
     "name": "stdout",
     "output_type": "stream",
     "text": [
      "The current balance of the stock and bond portion of the member's portfolio: $ 68950.90.\n"
     ]
    }
   ],
   "source": [
    "# Print the current balance of the stock and bond portion of the members portfolio\n",
    "current_sb_amount = savings_df.loc[\"stock/bond\"][\"amount\"]\n",
    "print(f\"The current balance of the stock and bond portion of the member's portfolio: ${current_sb_amount: .2f}.\")"
   ]
  },
  {
   "cell_type": "code",
   "execution_count": 268,
   "metadata": {},
   "outputs": [
    {
     "name": "stdout",
     "output_type": "stream",
     "text": [
      "There is a 95% chance that an initial investment of $ 68950.90 in a portfolio with a 60/40 split between SPY and AGG respectively over the next 30 years will end within the range of $197640.04 and $3051605.23.\n"
     ]
    }
   ],
   "source": [
    "# Use the lower and upper `95%` confidence intervals to calculate the range of the possible outcomes for the current stock/bond portfolio\n",
    "ci_lower_thirty_cumulative_return = round(sb_thirty_yr_table[8] * current_sb_amount, 2)\n",
    "ci_upper_thirty_cumulative_return = round(sb_thirty_yr_table[9] * current_sb_amount, 2)\n",
    "\n",
    "# Print the result of your calculations\n",
    "print(f\"There is a 95% chance that an initial investment of ${current_sb_amount: .2f} in a portfolio\"\n",
    "      f\" with a 60/40 split between SPY and AGG respectively over the next 30 years will end within the range of\"\n",
    "      f\" ${ci_lower_thirty_cumulative_return} and ${ci_upper_thirty_cumulative_return}.\")"
   ]
  },
  {
   "cell_type": "markdown",
   "metadata": {},
   "source": [
    "### Forecast Cumulative Returns in 10 Years\n",
    "\n",
    "The CTO of the credit union is impressed with your work on these planning tools but wonders if 30 years is a long time to wait until retirement. So, your next task is to adjust the retirement portfolio and run a new Monte Carlo simulation to find out if the changes will allow members to retire earlier.\n",
    "\n",
    "For this new Monte Carlo simulation, do the following: \n",
    "\n",
    "- Forecast the cumulative returns for 10 years from now. Because of the shortened investment horizon (30 years to 10 years), the portfolio needs to invest more heavily in the riskier asset&mdash;that is, stock&mdash;to help accumulate wealth for retirement. \n",
    "\n",
    "- Adjust the weights of the retirement portfolio so that the composition for the Monte Carlo simulation consists of 20% bonds and 80% stocks. \n",
    "\n",
    "- Run the simulation over 500 samples, and use the same data that the API call to Alpaca generated.\n",
    "\n",
    "- Based on the new Monte Carlo simulation, answer the following questions in your Jupyter notebook:\n",
    "\n",
    "    - Using the current value of only the stock and bond portion of the member's portfolio and the summary statistics that you generated from the new Monte Carlo simulation, what are the lower and upper bounds for the expected value of the portfolio (with the new weights) with a 95% confidence interval?\n",
    "\n",
    "    - Will weighting the portfolio more heavily toward stocks allow the credit union members to retire after only 10 years?\n"
   ]
  },
  {
   "cell_type": "code",
   "execution_count": 269,
   "metadata": {},
   "outputs": [
    {
     "data": {
      "text/html": [
       "<div>\n",
       "<style scoped>\n",
       "    .dataframe tbody tr th:only-of-type {\n",
       "        vertical-align: middle;\n",
       "    }\n",
       "\n",
       "    .dataframe tbody tr th {\n",
       "        vertical-align: top;\n",
       "    }\n",
       "\n",
       "    .dataframe thead tr th {\n",
       "        text-align: left;\n",
       "    }\n",
       "\n",
       "    .dataframe thead tr:last-of-type th {\n",
       "        text-align: right;\n",
       "    }\n",
       "</style>\n",
       "<table border=\"1\" class=\"dataframe\">\n",
       "  <thead>\n",
       "    <tr>\n",
       "      <th></th>\n",
       "      <th colspan=\"8\" halign=\"left\">SPY</th>\n",
       "      <th colspan=\"8\" halign=\"left\">AGG</th>\n",
       "    </tr>\n",
       "    <tr>\n",
       "      <th></th>\n",
       "      <th>open</th>\n",
       "      <th>high</th>\n",
       "      <th>low</th>\n",
       "      <th>close</th>\n",
       "      <th>volume</th>\n",
       "      <th>trade_count</th>\n",
       "      <th>vwap</th>\n",
       "      <th>daily_return</th>\n",
       "      <th>open</th>\n",
       "      <th>high</th>\n",
       "      <th>low</th>\n",
       "      <th>close</th>\n",
       "      <th>volume</th>\n",
       "      <th>trade_count</th>\n",
       "      <th>vwap</th>\n",
       "      <th>daily_return</th>\n",
       "    </tr>\n",
       "    <tr>\n",
       "      <th>timestamp</th>\n",
       "      <th></th>\n",
       "      <th></th>\n",
       "      <th></th>\n",
       "      <th></th>\n",
       "      <th></th>\n",
       "      <th></th>\n",
       "      <th></th>\n",
       "      <th></th>\n",
       "      <th></th>\n",
       "      <th></th>\n",
       "      <th></th>\n",
       "      <th></th>\n",
       "      <th></th>\n",
       "      <th></th>\n",
       "      <th></th>\n",
       "      <th></th>\n",
       "    </tr>\n",
       "  </thead>\n",
       "  <tbody>\n",
       "    <tr>\n",
       "      <th>2019-04-15 04:00:00+00:00</th>\n",
       "      <td>290.27</td>\n",
       "      <td>290.350</td>\n",
       "      <td>289.075</td>\n",
       "      <td>289.97</td>\n",
       "      <td>50222730</td>\n",
       "      <td>199622</td>\n",
       "      <td>289.773677</td>\n",
       "      <td>NaN</td>\n",
       "      <td>108.21</td>\n",
       "      <td>108.3000</td>\n",
       "      <td>108.21</td>\n",
       "      <td>108.25</td>\n",
       "      <td>2546204</td>\n",
       "      <td>10053</td>\n",
       "      <td>108.253507</td>\n",
       "      <td>NaN</td>\n",
       "    </tr>\n",
       "    <tr>\n",
       "      <th>2019-04-16 04:00:00+00:00</th>\n",
       "      <td>290.96</td>\n",
       "      <td>291.010</td>\n",
       "      <td>289.500</td>\n",
       "      <td>290.16</td>\n",
       "      <td>52154597</td>\n",
       "      <td>206469</td>\n",
       "      <td>290.277078</td>\n",
       "      <td>0.000655</td>\n",
       "      <td>108.12</td>\n",
       "      <td>108.2100</td>\n",
       "      <td>108.02</td>\n",
       "      <td>108.06</td>\n",
       "      <td>4093950</td>\n",
       "      <td>12649</td>\n",
       "      <td>108.108731</td>\n",
       "      <td>-0.001755</td>\n",
       "    </tr>\n",
       "    <tr>\n",
       "      <th>2019-04-17 04:00:00+00:00</th>\n",
       "      <td>291.41</td>\n",
       "      <td>291.425</td>\n",
       "      <td>288.990</td>\n",
       "      <td>289.45</td>\n",
       "      <td>58268470</td>\n",
       "      <td>245037</td>\n",
       "      <td>289.770682</td>\n",
       "      <td>-0.002447</td>\n",
       "      <td>108.09</td>\n",
       "      <td>108.1899</td>\n",
       "      <td>108.05</td>\n",
       "      <td>108.05</td>\n",
       "      <td>3390171</td>\n",
       "      <td>9569</td>\n",
       "      <td>108.090758</td>\n",
       "      <td>-0.000093</td>\n",
       "    </tr>\n",
       "    <tr>\n",
       "      <th>2019-04-18 04:00:00+00:00</th>\n",
       "      <td>290.12</td>\n",
       "      <td>290.320</td>\n",
       "      <td>288.660</td>\n",
       "      <td>290.02</td>\n",
       "      <td>69414428</td>\n",
       "      <td>231296</td>\n",
       "      <td>289.794161</td>\n",
       "      <td>0.001969</td>\n",
       "      <td>108.23</td>\n",
       "      <td>108.2900</td>\n",
       "      <td>108.16</td>\n",
       "      <td>108.19</td>\n",
       "      <td>2217221</td>\n",
       "      <td>8388</td>\n",
       "      <td>108.211849</td>\n",
       "      <td>0.001296</td>\n",
       "    </tr>\n",
       "    <tr>\n",
       "      <th>2019-04-22 04:00:00+00:00</th>\n",
       "      <td>289.17</td>\n",
       "      <td>290.435</td>\n",
       "      <td>289.070</td>\n",
       "      <td>290.27</td>\n",
       "      <td>40520264</td>\n",
       "      <td>170767</td>\n",
       "      <td>290.002934</td>\n",
       "      <td>0.000862</td>\n",
       "      <td>108.13</td>\n",
       "      <td>108.1600</td>\n",
       "      <td>108.05</td>\n",
       "      <td>108.06</td>\n",
       "      <td>5725616</td>\n",
       "      <td>9161</td>\n",
       "      <td>108.098893</td>\n",
       "      <td>-0.001202</td>\n",
       "    </tr>\n",
       "  </tbody>\n",
       "</table>\n",
       "</div>"
      ],
      "text/plain": [
       "                              SPY                                      \\\n",
       "                             open     high      low   close    volume   \n",
       "timestamp                                                               \n",
       "2019-04-15 04:00:00+00:00  290.27  290.350  289.075  289.97  50222730   \n",
       "2019-04-16 04:00:00+00:00  290.96  291.010  289.500  290.16  52154597   \n",
       "2019-04-17 04:00:00+00:00  291.41  291.425  288.990  289.45  58268470   \n",
       "2019-04-18 04:00:00+00:00  290.12  290.320  288.660  290.02  69414428   \n",
       "2019-04-22 04:00:00+00:00  289.17  290.435  289.070  290.27  40520264   \n",
       "\n",
       "                                                                   AGG  \\\n",
       "                          trade_count        vwap daily_return    open   \n",
       "timestamp                                                                \n",
       "2019-04-15 04:00:00+00:00      199622  289.773677          NaN  108.21   \n",
       "2019-04-16 04:00:00+00:00      206469  290.277078     0.000655  108.12   \n",
       "2019-04-17 04:00:00+00:00      245037  289.770682    -0.002447  108.09   \n",
       "2019-04-18 04:00:00+00:00      231296  289.794161     0.001969  108.23   \n",
       "2019-04-22 04:00:00+00:00      170767  290.002934     0.000862  108.13   \n",
       "\n",
       "                                                                          \\\n",
       "                               high     low   close   volume trade_count   \n",
       "timestamp                                                                  \n",
       "2019-04-15 04:00:00+00:00  108.3000  108.21  108.25  2546204       10053   \n",
       "2019-04-16 04:00:00+00:00  108.2100  108.02  108.06  4093950       12649   \n",
       "2019-04-17 04:00:00+00:00  108.1899  108.05  108.05  3390171        9569   \n",
       "2019-04-18 04:00:00+00:00  108.2900  108.16  108.19  2217221        8388   \n",
       "2019-04-22 04:00:00+00:00  108.1600  108.05  108.06  5725616        9161   \n",
       "\n",
       "                                                    \n",
       "                                 vwap daily_return  \n",
       "timestamp                                           \n",
       "2019-04-15 04:00:00+00:00  108.253507          NaN  \n",
       "2019-04-16 04:00:00+00:00  108.108731    -0.001755  \n",
       "2019-04-17 04:00:00+00:00  108.090758    -0.000093  \n",
       "2019-04-18 04:00:00+00:00  108.211849     0.001296  \n",
       "2019-04-22 04:00:00+00:00  108.098893    -0.001202  "
      ]
     },
     "execution_count": 269,
     "metadata": {},
     "output_type": "execute_result"
    }
   ],
   "source": [
    "# Configure a Monte Carlo simulation to forecast 10 years cumulative returns\n",
    "# The weights should be split 20% to AGG and 80% to SPY.\n",
    "# Run 500 samples.\n",
    "MC_sb_ten = MCSimulation(\n",
    "    portfolio_data = sb_prices,\n",
    "    weights = [.8, .2],\n",
    "    num_simulation = 500,\n",
    "    num_trading_days = 252*10)\n",
    "\n",
    "# Review the simulation input data\n",
    "MC_sb_ten.portfolio_data.head()\n"
   ]
  },
  {
   "cell_type": "code",
   "execution_count": 270,
   "metadata": {},
   "outputs": [
    {
     "name": "stdout",
     "output_type": "stream",
     "text": [
      "Running Monte Carlo simulation number 0.\n",
      "Running Monte Carlo simulation number 10.\n",
      "Running Monte Carlo simulation number 20.\n",
      "Running Monte Carlo simulation number 30.\n",
      "Running Monte Carlo simulation number 40.\n",
      "Running Monte Carlo simulation number 50.\n",
      "Running Monte Carlo simulation number 60.\n",
      "Running Monte Carlo simulation number 70.\n",
      "Running Monte Carlo simulation number 80.\n",
      "Running Monte Carlo simulation number 90.\n",
      "Running Monte Carlo simulation number 100.\n"
     ]
    },
    {
     "name": "stderr",
     "output_type": "stream",
     "text": [
      "/Users/nicoleroberts/Dropbox/My Mac (Nicole’s MacBook Pro)/Desktop/Nicole_Roberts_Portfolio/Challenge_5_Financial_Planning/MCForecastTools.py:117: PerformanceWarning: DataFrame is highly fragmented.  This is usually the result of calling `frame.insert` many times, which has poor performance.  Consider joining all columns at once using pd.concat(axis=1) instead.  To get a de-fragmented frame, use `newframe = frame.copy()`\n",
      "  portfolio_cumulative_returns[n] = (1 + sim_df.fillna(0)).cumprod()\n"
     ]
    },
    {
     "name": "stdout",
     "output_type": "stream",
     "text": [
      "Running Monte Carlo simulation number 110.\n",
      "Running Monte Carlo simulation number 120.\n",
      "Running Monte Carlo simulation number 130.\n",
      "Running Monte Carlo simulation number 140.\n",
      "Running Monte Carlo simulation number 150.\n",
      "Running Monte Carlo simulation number 160.\n",
      "Running Monte Carlo simulation number 170.\n",
      "Running Monte Carlo simulation number 180.\n",
      "Running Monte Carlo simulation number 190.\n",
      "Running Monte Carlo simulation number 200.\n",
      "Running Monte Carlo simulation number 210.\n",
      "Running Monte Carlo simulation number 220.\n",
      "Running Monte Carlo simulation number 230.\n",
      "Running Monte Carlo simulation number 240.\n",
      "Running Monte Carlo simulation number 250.\n",
      "Running Monte Carlo simulation number 260.\n",
      "Running Monte Carlo simulation number 270.\n",
      "Running Monte Carlo simulation number 280.\n",
      "Running Monte Carlo simulation number 290.\n",
      "Running Monte Carlo simulation number 300.\n",
      "Running Monte Carlo simulation number 310.\n",
      "Running Monte Carlo simulation number 320.\n",
      "Running Monte Carlo simulation number 330.\n",
      "Running Monte Carlo simulation number 340.\n",
      "Running Monte Carlo simulation number 350.\n",
      "Running Monte Carlo simulation number 360.\n",
      "Running Monte Carlo simulation number 370.\n",
      "Running Monte Carlo simulation number 380.\n",
      "Running Monte Carlo simulation number 390.\n",
      "Running Monte Carlo simulation number 400.\n",
      "Running Monte Carlo simulation number 410.\n",
      "Running Monte Carlo simulation number 420.\n",
      "Running Monte Carlo simulation number 430.\n",
      "Running Monte Carlo simulation number 440.\n",
      "Running Monte Carlo simulation number 450.\n",
      "Running Monte Carlo simulation number 460.\n",
      "Running Monte Carlo simulation number 470.\n",
      "Running Monte Carlo simulation number 480.\n",
      "Running Monte Carlo simulation number 490.\n"
     ]
    },
    {
     "data": {
      "text/html": [
       "<div>\n",
       "<style scoped>\n",
       "    .dataframe tbody tr th:only-of-type {\n",
       "        vertical-align: middle;\n",
       "    }\n",
       "\n",
       "    .dataframe tbody tr th {\n",
       "        vertical-align: top;\n",
       "    }\n",
       "\n",
       "    .dataframe thead th {\n",
       "        text-align: right;\n",
       "    }\n",
       "</style>\n",
       "<table border=\"1\" class=\"dataframe\">\n",
       "  <thead>\n",
       "    <tr style=\"text-align: right;\">\n",
       "      <th></th>\n",
       "      <th>0</th>\n",
       "      <th>1</th>\n",
       "      <th>2</th>\n",
       "      <th>3</th>\n",
       "      <th>4</th>\n",
       "      <th>5</th>\n",
       "      <th>6</th>\n",
       "      <th>7</th>\n",
       "      <th>8</th>\n",
       "      <th>9</th>\n",
       "      <th>...</th>\n",
       "      <th>490</th>\n",
       "      <th>491</th>\n",
       "      <th>492</th>\n",
       "      <th>493</th>\n",
       "      <th>494</th>\n",
       "      <th>495</th>\n",
       "      <th>496</th>\n",
       "      <th>497</th>\n",
       "      <th>498</th>\n",
       "      <th>499</th>\n",
       "    </tr>\n",
       "  </thead>\n",
       "  <tbody>\n",
       "    <tr>\n",
       "      <th>0</th>\n",
       "      <td>1.000000</td>\n",
       "      <td>1.000000</td>\n",
       "      <td>1.000000</td>\n",
       "      <td>1.000000</td>\n",
       "      <td>1.000000</td>\n",
       "      <td>1.000000</td>\n",
       "      <td>1.000000</td>\n",
       "      <td>1.000000</td>\n",
       "      <td>1.000000</td>\n",
       "      <td>1.000000</td>\n",
       "      <td>...</td>\n",
       "      <td>1.000000</td>\n",
       "      <td>1.000000</td>\n",
       "      <td>1.000000</td>\n",
       "      <td>1.000000</td>\n",
       "      <td>1.000000</td>\n",
       "      <td>1.000000</td>\n",
       "      <td>1.000000</td>\n",
       "      <td>1.000000</td>\n",
       "      <td>1.000000</td>\n",
       "      <td>1.000000</td>\n",
       "    </tr>\n",
       "    <tr>\n",
       "      <th>1</th>\n",
       "      <td>0.993416</td>\n",
       "      <td>0.994655</td>\n",
       "      <td>0.996196</td>\n",
       "      <td>1.016252</td>\n",
       "      <td>1.000420</td>\n",
       "      <td>1.012356</td>\n",
       "      <td>1.008807</td>\n",
       "      <td>1.018759</td>\n",
       "      <td>0.993470</td>\n",
       "      <td>0.978728</td>\n",
       "      <td>...</td>\n",
       "      <td>0.997284</td>\n",
       "      <td>0.997699</td>\n",
       "      <td>0.994437</td>\n",
       "      <td>0.987269</td>\n",
       "      <td>0.992207</td>\n",
       "      <td>0.992509</td>\n",
       "      <td>0.987093</td>\n",
       "      <td>1.000265</td>\n",
       "      <td>1.005278</td>\n",
       "      <td>0.991275</td>\n",
       "    </tr>\n",
       "    <tr>\n",
       "      <th>2</th>\n",
       "      <td>0.989178</td>\n",
       "      <td>0.983289</td>\n",
       "      <td>1.001558</td>\n",
       "      <td>1.024730</td>\n",
       "      <td>0.999087</td>\n",
       "      <td>1.043305</td>\n",
       "      <td>1.008497</td>\n",
       "      <td>0.985815</td>\n",
       "      <td>0.981217</td>\n",
       "      <td>0.973488</td>\n",
       "      <td>...</td>\n",
       "      <td>0.986267</td>\n",
       "      <td>0.997924</td>\n",
       "      <td>0.976953</td>\n",
       "      <td>0.990684</td>\n",
       "      <td>1.000459</td>\n",
       "      <td>0.969783</td>\n",
       "      <td>0.981319</td>\n",
       "      <td>0.999370</td>\n",
       "      <td>1.001498</td>\n",
       "      <td>0.999229</td>\n",
       "    </tr>\n",
       "    <tr>\n",
       "      <th>3</th>\n",
       "      <td>0.996960</td>\n",
       "      <td>0.971415</td>\n",
       "      <td>1.016507</td>\n",
       "      <td>1.024778</td>\n",
       "      <td>0.989940</td>\n",
       "      <td>1.043483</td>\n",
       "      <td>1.002077</td>\n",
       "      <td>1.000747</td>\n",
       "      <td>0.979621</td>\n",
       "      <td>0.951363</td>\n",
       "      <td>...</td>\n",
       "      <td>1.002217</td>\n",
       "      <td>1.005761</td>\n",
       "      <td>0.976645</td>\n",
       "      <td>1.008136</td>\n",
       "      <td>1.011232</td>\n",
       "      <td>0.965416</td>\n",
       "      <td>0.979582</td>\n",
       "      <td>1.000129</td>\n",
       "      <td>0.997085</td>\n",
       "      <td>1.009087</td>\n",
       "    </tr>\n",
       "    <tr>\n",
       "      <th>4</th>\n",
       "      <td>0.989811</td>\n",
       "      <td>0.967398</td>\n",
       "      <td>1.023133</td>\n",
       "      <td>1.008060</td>\n",
       "      <td>0.991920</td>\n",
       "      <td>1.032266</td>\n",
       "      <td>1.008188</td>\n",
       "      <td>1.011829</td>\n",
       "      <td>0.984404</td>\n",
       "      <td>0.935578</td>\n",
       "      <td>...</td>\n",
       "      <td>1.006364</td>\n",
       "      <td>1.007623</td>\n",
       "      <td>0.956980</td>\n",
       "      <td>1.006520</td>\n",
       "      <td>0.983676</td>\n",
       "      <td>0.961029</td>\n",
       "      <td>0.986247</td>\n",
       "      <td>1.005357</td>\n",
       "      <td>0.999586</td>\n",
       "      <td>1.019457</td>\n",
       "    </tr>\n",
       "    <tr>\n",
       "      <th>...</th>\n",
       "      <td>...</td>\n",
       "      <td>...</td>\n",
       "      <td>...</td>\n",
       "      <td>...</td>\n",
       "      <td>...</td>\n",
       "      <td>...</td>\n",
       "      <td>...</td>\n",
       "      <td>...</td>\n",
       "      <td>...</td>\n",
       "      <td>...</td>\n",
       "      <td>...</td>\n",
       "      <td>...</td>\n",
       "      <td>...</td>\n",
       "      <td>...</td>\n",
       "      <td>...</td>\n",
       "      <td>...</td>\n",
       "      <td>...</td>\n",
       "      <td>...</td>\n",
       "      <td>...</td>\n",
       "      <td>...</td>\n",
       "      <td>...</td>\n",
       "    </tr>\n",
       "    <tr>\n",
       "      <th>2516</th>\n",
       "      <td>4.157412</td>\n",
       "      <td>1.871159</td>\n",
       "      <td>3.881497</td>\n",
       "      <td>2.052414</td>\n",
       "      <td>2.254955</td>\n",
       "      <td>4.197385</td>\n",
       "      <td>5.867169</td>\n",
       "      <td>2.052826</td>\n",
       "      <td>2.782903</td>\n",
       "      <td>5.954503</td>\n",
       "      <td>...</td>\n",
       "      <td>5.542419</td>\n",
       "      <td>3.968157</td>\n",
       "      <td>2.801864</td>\n",
       "      <td>2.569148</td>\n",
       "      <td>1.849455</td>\n",
       "      <td>5.349018</td>\n",
       "      <td>3.949516</td>\n",
       "      <td>3.065040</td>\n",
       "      <td>9.337041</td>\n",
       "      <td>1.861496</td>\n",
       "    </tr>\n",
       "    <tr>\n",
       "      <th>2517</th>\n",
       "      <td>4.167477</td>\n",
       "      <td>1.877330</td>\n",
       "      <td>3.857506</td>\n",
       "      <td>2.079476</td>\n",
       "      <td>2.183347</td>\n",
       "      <td>4.272487</td>\n",
       "      <td>5.930693</td>\n",
       "      <td>2.048504</td>\n",
       "      <td>2.737847</td>\n",
       "      <td>5.869820</td>\n",
       "      <td>...</td>\n",
       "      <td>5.489044</td>\n",
       "      <td>3.906666</td>\n",
       "      <td>2.766445</td>\n",
       "      <td>2.563228</td>\n",
       "      <td>1.856078</td>\n",
       "      <td>5.182463</td>\n",
       "      <td>3.949828</td>\n",
       "      <td>3.177386</td>\n",
       "      <td>9.205094</td>\n",
       "      <td>1.853249</td>\n",
       "    </tr>\n",
       "    <tr>\n",
       "      <th>2518</th>\n",
       "      <td>4.196571</td>\n",
       "      <td>1.892659</td>\n",
       "      <td>3.795047</td>\n",
       "      <td>2.061081</td>\n",
       "      <td>2.193657</td>\n",
       "      <td>4.252707</td>\n",
       "      <td>5.877825</td>\n",
       "      <td>2.056953</td>\n",
       "      <td>2.759878</td>\n",
       "      <td>5.855282</td>\n",
       "      <td>...</td>\n",
       "      <td>5.532275</td>\n",
       "      <td>3.923443</td>\n",
       "      <td>2.750429</td>\n",
       "      <td>2.625083</td>\n",
       "      <td>1.791127</td>\n",
       "      <td>5.226406</td>\n",
       "      <td>3.905934</td>\n",
       "      <td>3.164206</td>\n",
       "      <td>9.194393</td>\n",
       "      <td>1.846614</td>\n",
       "    </tr>\n",
       "    <tr>\n",
       "      <th>2519</th>\n",
       "      <td>4.192969</td>\n",
       "      <td>1.871415</td>\n",
       "      <td>3.831915</td>\n",
       "      <td>2.077728</td>\n",
       "      <td>2.206912</td>\n",
       "      <td>4.205235</td>\n",
       "      <td>5.937517</td>\n",
       "      <td>2.106822</td>\n",
       "      <td>2.733222</td>\n",
       "      <td>5.878516</td>\n",
       "      <td>...</td>\n",
       "      <td>5.529748</td>\n",
       "      <td>3.971027</td>\n",
       "      <td>2.739563</td>\n",
       "      <td>2.564502</td>\n",
       "      <td>1.768257</td>\n",
       "      <td>5.153726</td>\n",
       "      <td>3.917015</td>\n",
       "      <td>3.208580</td>\n",
       "      <td>9.253936</td>\n",
       "      <td>1.865511</td>\n",
       "    </tr>\n",
       "    <tr>\n",
       "      <th>2520</th>\n",
       "      <td>4.198037</td>\n",
       "      <td>1.825129</td>\n",
       "      <td>3.890835</td>\n",
       "      <td>2.099820</td>\n",
       "      <td>2.220356</td>\n",
       "      <td>4.165568</td>\n",
       "      <td>5.809885</td>\n",
       "      <td>2.118476</td>\n",
       "      <td>2.683343</td>\n",
       "      <td>5.813242</td>\n",
       "      <td>...</td>\n",
       "      <td>5.532779</td>\n",
       "      <td>3.920517</td>\n",
       "      <td>2.755269</td>\n",
       "      <td>2.524474</td>\n",
       "      <td>1.755292</td>\n",
       "      <td>5.232503</td>\n",
       "      <td>3.939586</td>\n",
       "      <td>3.176880</td>\n",
       "      <td>9.404376</td>\n",
       "      <td>1.839009</td>\n",
       "    </tr>\n",
       "  </tbody>\n",
       "</table>\n",
       "<p>2521 rows × 500 columns</p>\n",
       "</div>"
      ],
      "text/plain": [
       "           0         1         2         3         4         5         6    \\\n",
       "0     1.000000  1.000000  1.000000  1.000000  1.000000  1.000000  1.000000   \n",
       "1     0.993416  0.994655  0.996196  1.016252  1.000420  1.012356  1.008807   \n",
       "2     0.989178  0.983289  1.001558  1.024730  0.999087  1.043305  1.008497   \n",
       "3     0.996960  0.971415  1.016507  1.024778  0.989940  1.043483  1.002077   \n",
       "4     0.989811  0.967398  1.023133  1.008060  0.991920  1.032266  1.008188   \n",
       "...        ...       ...       ...       ...       ...       ...       ...   \n",
       "2516  4.157412  1.871159  3.881497  2.052414  2.254955  4.197385  5.867169   \n",
       "2517  4.167477  1.877330  3.857506  2.079476  2.183347  4.272487  5.930693   \n",
       "2518  4.196571  1.892659  3.795047  2.061081  2.193657  4.252707  5.877825   \n",
       "2519  4.192969  1.871415  3.831915  2.077728  2.206912  4.205235  5.937517   \n",
       "2520  4.198037  1.825129  3.890835  2.099820  2.220356  4.165568  5.809885   \n",
       "\n",
       "           7         8         9    ...       490       491       492  \\\n",
       "0     1.000000  1.000000  1.000000  ...  1.000000  1.000000  1.000000   \n",
       "1     1.018759  0.993470  0.978728  ...  0.997284  0.997699  0.994437   \n",
       "2     0.985815  0.981217  0.973488  ...  0.986267  0.997924  0.976953   \n",
       "3     1.000747  0.979621  0.951363  ...  1.002217  1.005761  0.976645   \n",
       "4     1.011829  0.984404  0.935578  ...  1.006364  1.007623  0.956980   \n",
       "...        ...       ...       ...  ...       ...       ...       ...   \n",
       "2516  2.052826  2.782903  5.954503  ...  5.542419  3.968157  2.801864   \n",
       "2517  2.048504  2.737847  5.869820  ...  5.489044  3.906666  2.766445   \n",
       "2518  2.056953  2.759878  5.855282  ...  5.532275  3.923443  2.750429   \n",
       "2519  2.106822  2.733222  5.878516  ...  5.529748  3.971027  2.739563   \n",
       "2520  2.118476  2.683343  5.813242  ...  5.532779  3.920517  2.755269   \n",
       "\n",
       "           493       494       495       496       497       498       499  \n",
       "0     1.000000  1.000000  1.000000  1.000000  1.000000  1.000000  1.000000  \n",
       "1     0.987269  0.992207  0.992509  0.987093  1.000265  1.005278  0.991275  \n",
       "2     0.990684  1.000459  0.969783  0.981319  0.999370  1.001498  0.999229  \n",
       "3     1.008136  1.011232  0.965416  0.979582  1.000129  0.997085  1.009087  \n",
       "4     1.006520  0.983676  0.961029  0.986247  1.005357  0.999586  1.019457  \n",
       "...        ...       ...       ...       ...       ...       ...       ...  \n",
       "2516  2.569148  1.849455  5.349018  3.949516  3.065040  9.337041  1.861496  \n",
       "2517  2.563228  1.856078  5.182463  3.949828  3.177386  9.205094  1.853249  \n",
       "2518  2.625083  1.791127  5.226406  3.905934  3.164206  9.194393  1.846614  \n",
       "2519  2.564502  1.768257  5.153726  3.917015  3.208580  9.253936  1.865511  \n",
       "2520  2.524474  1.755292  5.232503  3.939586  3.176880  9.404376  1.839009  \n",
       "\n",
       "[2521 rows x 500 columns]"
      ]
     },
     "execution_count": 270,
     "metadata": {},
     "output_type": "execute_result"
    }
   ],
   "source": [
    "# Run the Monte Carlo simulation to forecast 10 years cumulative returns\n",
    "MC_sb_ten.calc_cumulative_return()"
   ]
  },
  {
   "cell_type": "code",
   "execution_count": 271,
   "metadata": {},
   "outputs": [
    {
     "data": {
      "image/png": "[encoded data removed]",
      "text/plain": [
       "<Figure size 432x288 with 1 Axes>"
      ]
     },
     "metadata": {
      "needs_background": "light"
     },
     "output_type": "display_data"
    }
   ],
   "source": [
    "# Visualize the 10-year Monte Carlo simulation by creating an\n",
    "# overlay line plot\n",
    "sb_ten_line_plot = MC_sb_ten.plot_simulation()\n"
   ]
  },
  {
   "cell_type": "code",
   "execution_count": 272,
   "metadata": {},
   "outputs": [
    {
     "data": {
      "image/png": "[encoded data removed]",
      "text/plain": [
       "<Figure size 432x288 with 1 Axes>"
      ]
     },
     "metadata": {
      "needs_background": "light"
     },
     "output_type": "display_data"
    }
   ],
   "source": [
    "# Visualize the probability distribution of the 10-year Monte Carlo simulation \n",
    "# by plotting a histogram\n",
    "sb_ten_distribution_plot = MC_sb_ten.plot_distribution()\n"
   ]
  },
  {
   "cell_type": "code",
   "execution_count": 273,
   "metadata": {},
   "outputs": [
    {
     "name": "stdout",
     "output_type": "stream",
     "text": [
      "count           500.000000\n",
      "mean              3.599605\n",
      "std               2.258469\n",
      "min               0.560731\n",
      "25%               2.075826\n",
      "50%               3.148619\n",
      "75%               4.350554\n",
      "max              18.637531\n",
      "95% CI Lower      0.984997\n",
      "95% CI Upper      9.560650\n",
      "Name: 2520, dtype: float64\n"
     ]
    }
   ],
   "source": [
    "# Generate summary statistics from the 10-year Monte Carlo simulation results\n",
    "# Save the results as a variable\n",
    "sb_ten_yr_table = MC_sb_ten.summarize_cumulative_return()\n",
    "\n",
    "# Review the 10-year Monte Carlo summary statistics\n",
    "print(sb_ten_yr_table)\n"
   ]
  },
  {
   "cell_type": "markdown",
   "metadata": {},
   "source": [
    "### Answer the following questions:"
   ]
  },
  {
   "cell_type": "markdown",
   "metadata": {},
   "source": [
    "#### Question: Using the current value of only the stock and bond portion of the member's portfolio and the summary statistics that you generated from the new Monte Carlo simulation, what are the lower and upper bounds for the expected value of the portfolio (with the new weights) with a 95% confidence interval?"
   ]
  },
  {
   "cell_type": "code",
   "execution_count": 274,
   "metadata": {},
   "outputs": [
    {
     "name": "stdout",
     "output_type": "stream",
     "text": [
      "The current balance of the stock and bond portion of the member's portfolio: $ 68950.90.\n"
     ]
    }
   ],
   "source": [
    "# Print the current balance of the stock and bond portion of the members portfolio\n",
    "current_sb_amount = savings_df.loc[\"stock/bond\"][\"amount\"]\n",
    "print(f\"The current balance of the stock and bond portion of the member's portfolio: ${current_sb_amount: .2f}.\")\n"
   ]
  },
  {
   "cell_type": "code",
   "execution_count": 276,
   "metadata": {},
   "outputs": [
    {
     "name": "stdout",
     "output_type": "stream",
     "text": [
      "There is a 95% chance that an initial investment of $ 68950.90 in a portfolio with an 80/20 split between SPY and AGG respectively over the next 10 years will end within the range of $67916.45 and $659215.4.\n"
     ]
    }
   ],
   "source": [
    "# Use the lower and upper `95%` confidence intervals to calculate the range of the possible outcomes for the current stock/bond portfolio\n",
    "ci_lower_ten_cumulative_return = round(sb_ten_yr_table[8] * current_sb_amount, 2)\n",
    "ci_upper_ten_cumulative_return = round(sb_ten_yr_table[9] * current_sb_amount, 2)\n",
    "\n",
    "# Print the result of your calculations\n",
    "print(f\"There is a 95% chance that an initial investment of ${current_sb_amount: .2f} in a portfolio\"\n",
    "      f\" with an 80/20 split between SPY and AGG respectively over the next 10 years will end within the range of\"\n",
    "      f\" ${ci_lower_ten_cumulative_return} and ${ci_upper_ten_cumulative_return}.\")\n"
   ]
  },
  {
   "cell_type": "markdown",
   "metadata": {},
   "source": [
    "#### Question: Will weighting the portfolio more heavily to stocks allow the credit union members to retire after only 10 years?"
   ]
  },
  {
   "cell_type": "raw",
   "metadata": {},
   "source": [
    "Weighting the portfolio more heavily to stocks will not allow the credit union members to retire after only 10 years. With a stock-heavy portfolio split 80/20 between SPY and AGG respectively over the next 10 years, credit union members will end up with between $77,946.43 - $651,630.48 with 95% confidence. At the lower end, this is not enough, especially when accounting for black swan events, and the higher end is unlikely. Of these two solutions, credit union members are therefor better off investing their portfolios by way of a 60/40 split between SPY and AGG respectively over the next 30 years to end up within the range of $202,053.25 - $3,659,167.77. This will help provide for a more comfortable retirement."
   ]
  },
  {
   "cell_type": "code",
   "execution_count": null,
   "metadata": {},
   "outputs": [],
   "source": []
  }
 ],
 "metadata": {
  "kernelspec": {
   "display_name": "Python 3 (ipykernel)",
   "language": "python",
   "name": "python3"
  },
  "language_info": {
   "codemirror_mode": {
    "name": "ipython",
    "version": 3
   },
   "file_extension": ".py",
   "mimetype": "text/x-python",
   "name": "python",
   "nbconvert_exporter": "python",
   "pygments_lexer": "ipython3",
   "version": "3.7.11"
  }
 },
 "nbformat": 4,
 "nbformat_minor": 4
}
