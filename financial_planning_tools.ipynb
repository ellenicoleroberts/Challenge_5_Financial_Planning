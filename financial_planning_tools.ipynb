{
 "cells": [
  {
   "cell_type": "markdown",
   "metadata": {},
   "source": [
    "# Financial Planning with APIs and Simulations\n",
    "\n",
    "In this Challenge, you’ll create two financial analysis tools by using a single Jupyter notebook:\n",
    "\n",
    "Part 1: A financial planner for emergencies. The members will be able to use this tool to visualize their current savings. The members can then determine if they have enough reserves for an emergency fund.\n",
    "\n",
    "Part 2: A financial planner for retirement. This tool will forecast the performance of their retirement portfolio in 30 years. To do this, the tool will make an Alpaca API call via the Alpaca SDK to get historical price data for use in Monte Carlo simulations.\n",
    "\n",
    "You’ll use the information from the Monte Carlo simulation to answer questions about the portfolio in your Jupyter notebook.\n",
    "\n"
   ]
  },
  {
   "cell_type": "code",
   "execution_count": 355,
   "metadata": {},
   "outputs": [],
   "source": [
    "# Import the required libraries and dependencies\n",
    "import os\n",
    "import requests\n",
    "import json\n",
    "import pandas as pd\n",
    "from dotenv import load_dotenv\n",
    "import alpaca_trade_api as tradeapi\n",
    "from MCForecastTools import MCSimulation\n",
    "\n",
    "%matplotlib inline"
   ]
  },
  {
   "cell_type": "code",
   "execution_count": 356,
   "metadata": {},
   "outputs": [
    {
     "data": {
      "text/plain": [
       "True"
      ]
     },
     "execution_count": 356,
     "metadata": {},
     "output_type": "execute_result"
    }
   ],
   "source": [
    "# Load the environment variables from the .env file\n",
    "#by calling the load_dotenv function\n",
    "load_dotenv(\".env\")"
   ]
  },
  {
   "cell_type": "markdown",
   "metadata": {},
   "source": [
    "## Part 1: Create a Financial Planner for Emergencies"
   ]
  },
  {
   "cell_type": "markdown",
   "metadata": {},
   "source": [
    "### Evaluate the Cryptocurrency Wallet by Using the Requests Library\n",
    "\n",
    "In this section, you’ll determine the current value of a member’s cryptocurrency wallet. You’ll collect the current prices for the Bitcoin and Ethereum cryptocurrencies by using the Python Requests library. For the prototype, you’ll assume that the member holds the 1.2 Bitcoins (BTC) and 5.3 Ethereum coins (ETH). To do all this, complete the following steps:\n",
    "\n",
    "1. Create a variable named `monthly_income`, and set its value to `12000`.\n",
    "\n",
    "2. Use the Requests library to get the current price (in US dollars) of Bitcoin (BTC) and Ethereum (ETH) by using the API endpoints that the starter code supplies.\n",
    "\n",
    "3. Navigate the JSON response object to access the current price of each coin, and store each in a variable.\n",
    "\n",
    "    > **Hint** Note the specific identifier for each cryptocurrency in the API JSON response. The Bitcoin identifier is `1`, and the Ethereum identifier is `1027`.\n",
    "\n",
    "4. Calculate the value, in US dollars, of the current amount of each cryptocurrency and of the entire cryptocurrency wallet.\n",
    "\n"
   ]
  },
  {
   "cell_type": "code",
   "execution_count": 357,
   "metadata": {},
   "outputs": [],
   "source": [
    "# The current number of coins for each cryptocurrency asset held in the portfolio.\n",
    "btc_coins = 1.2\n",
    "eth_coins = 5.3"
   ]
  },
  {
   "cell_type": "markdown",
   "metadata": {},
   "source": [
    "#### Step 1: Create a variable named `monthly_income`, and set its value to `12000`."
   ]
  },
  {
   "cell_type": "code",
   "execution_count": 358,
   "metadata": {},
   "outputs": [],
   "source": [
    "# The monthly amount for the member's household income\n",
    "monthly_income = 12000\n"
   ]
  },
  {
   "cell_type": "markdown",
   "metadata": {},
   "source": [
    "#### Review the endpoint URLs for the API calls to Free Crypto API in order to get the current pricing information for both BTC and ETH."
   ]
  },
  {
   "cell_type": "code",
   "execution_count": 359,
   "metadata": {},
   "outputs": [],
   "source": [
    "# The Free Crypto API Call endpoint URLs for the held cryptocurrency assets\n",
    "btc_url = \"https://api.alternative.me/v2/ticker/Bitcoin/?convert=USD\"\n",
    "eth_url = \"https://api.alternative.me/v2/ticker/Ethereum/?convert=USD\""
   ]
  },
  {
   "cell_type": "markdown",
   "metadata": {},
   "source": [
    "#### Step 2. Use the Requests library to get the current price (in US dollars) of Bitcoin (BTC) and Ethereum (ETH) by using the API endpoints that the starter code supplied."
   ]
  },
  {
   "cell_type": "code",
   "execution_count": 360,
   "metadata": {},
   "outputs": [
    {
     "name": "stdout",
     "output_type": "stream",
     "text": [
      "{\n",
      "    \"data\": {\n",
      "        \"1\": {\n",
      "            \"circulating_supply\": 19021381,\n",
      "            \"id\": 1,\n",
      "            \"last_updated\": 1650852830,\n",
      "            \"max_supply\": 21000000,\n",
      "            \"name\": \"Bitcoin\",\n",
      "            \"quotes\": {\n",
      "                \"USD\": {\n",
      "                    \"market_cap\": 744431931315,\n",
      "                    \"percent_change_1h\": 0.496375047359162,\n",
      "                    \"percent_change_24h\": -1.22413525817917,\n",
      "                    \"percent_change_7d\": -1.56767827803986,\n",
      "                    \"percentage_change_1h\": 0.496375047359162,\n",
      "                    \"percentage_change_24h\": -1.22413525817917,\n",
      "                    \"percentage_change_7d\": -1.56767827803986,\n",
      "                    \"price\": 39116.0,\n",
      "                    \"volume_24h\": 18035786238\n",
      "                }\n",
      "            },\n",
      "            \"rank\": 1,\n",
      "            \"symbol\": \"BTC\",\n",
      "            \"total_supply\": 19021381,\n",
      "            \"website_slug\": \"bitcoin\"\n",
      "        }\n",
      "    },\n",
      "    \"metadata\": {\n",
      "        \"error\": null,\n",
      "        \"num_cryptocurrencies\": 3106,\n",
      "        \"timestamp\": 1650852830\n",
      "    }\n",
      "}\n"
     ]
    }
   ],
   "source": [
    "# Using the Python requests library, make an API call to access the current price of BTC\n",
    "btc_response = requests.get(btc_url).json()\n",
    "\n",
    "# Use the json.dumps function to review the response data from the API call\n",
    "# Use the indent and sort_keys parameters to make the response object readable\n",
    "print(json.dumps(btc_response, indent=4, sort_keys=True))"
   ]
  },
  {
   "cell_type": "code",
   "execution_count": 361,
   "metadata": {},
   "outputs": [
    {
     "name": "stdout",
     "output_type": "stream",
     "text": [
      "{\n",
      "    \"data\": {\n",
      "        \"1027\": {\n",
      "            \"circulating_supply\": 120516358,\n",
      "            \"id\": 1027,\n",
      "            \"last_updated\": 1650852739,\n",
      "            \"max_supply\": 0,\n",
      "            \"name\": \"Ethereum\",\n",
      "            \"quotes\": {\n",
      "                \"USD\": {\n",
      "                    \"market_cap\": 345663892938,\n",
      "                    \"percent_change_1h\": 0.168447484261928,\n",
      "                    \"percent_change_24h\": -2.24753546688761,\n",
      "                    \"percent_change_7d\": -4.2799279540771,\n",
      "                    \"percentage_change_1h\": 0.168447484261928,\n",
      "                    \"percentage_change_24h\": -2.24753546688761,\n",
      "                    \"percentage_change_7d\": -4.2799279540771,\n",
      "                    \"price\": 2867.5,\n",
      "                    \"volume_24h\": 10480123453\n",
      "                }\n",
      "            },\n",
      "            \"rank\": 2,\n",
      "            \"symbol\": \"ETH\",\n",
      "            \"total_supply\": 120516358,\n",
      "            \"website_slug\": \"ethereum\"\n",
      "        }\n",
      "    },\n",
      "    \"metadata\": {\n",
      "        \"error\": null,\n",
      "        \"num_cryptocurrencies\": 3106,\n",
      "        \"timestamp\": 1650852739\n",
      "    }\n",
      "}\n"
     ]
    }
   ],
   "source": [
    "# Using the Python requests library, make an API call to access the current price of BTC\n",
    "eth_response = requests.get(eth_url).json()\n",
    "\n",
    "# Use the json.dumps function to review the response data from the API call\n",
    "# Use the indent and sort_keys parameters to make the response object readable\n",
    "print(json.dumps(eth_response, indent=4, sort_keys=True))"
   ]
  },
  {
   "cell_type": "markdown",
   "metadata": {},
   "source": [
    "#### Step 3: Navigate the JSON response object to access the current price of each coin, and store each in a variable."
   ]
  },
  {
   "cell_type": "code",
   "execution_count": 362,
   "metadata": {},
   "outputs": [
    {
     "name": "stdout",
     "output_type": "stream",
     "text": [
      "The current price of BTC: $ 39116.00.\n"
     ]
    }
   ],
   "source": [
    "# Navigate the BTC response object to access the current price of BTC\n",
    "btc_price = btc_response[\"data\"][\"1\"][\"quotes\"][\"USD\"][\"price\"]\n",
    "\n",
    "# Print the current price of BTC\n",
    "print(f\"The current price of BTC: ${btc_price: .2f}.\")\n"
   ]
  },
  {
   "cell_type": "code",
   "execution_count": 363,
   "metadata": {},
   "outputs": [
    {
     "name": "stdout",
     "output_type": "stream",
     "text": [
      "The current price of ETH: $ 2867.50.\n"
     ]
    }
   ],
   "source": [
    "# Navigate the BTC response object to access the current price of ETH\n",
    "eth_price = eth_response[\"data\"][\"1027\"][\"quotes\"][\"USD\"][\"price\"]\n",
    "\n",
    "# Print the current price of ETH\n",
    "print(f\"The current price of ETH: ${eth_price: .2f}.\")\n"
   ]
  },
  {
   "cell_type": "markdown",
   "metadata": {},
   "source": [
    "### Step 4: Calculate the value, in US dollars, of the current amount of each cryptocurrency and of the entire cryptocurrency wallet."
   ]
  },
  {
   "cell_type": "code",
   "execution_count": 364,
   "metadata": {},
   "outputs": [
    {
     "name": "stdout",
     "output_type": "stream",
     "text": [
      "The current value of the holding in BTC: $ 46939.20.\n"
     ]
    }
   ],
   "source": [
    "# Compute the current value of the BTC holding \n",
    "btc_value = btc_coins * btc_price\n",
    "\n",
    "# Print current value of the holding in BTC\n",
    "print(f\"The current value of the holding in BTC: ${btc_value: .2f}.\")"
   ]
  },
  {
   "cell_type": "code",
   "execution_count": 365,
   "metadata": {},
   "outputs": [
    {
     "name": "stdout",
     "output_type": "stream",
     "text": [
      "The current value of the holding in ETH: $ 15197.75.\n"
     ]
    }
   ],
   "source": [
    "# Compute the current value of the ETH holding \n",
    "eth_value = eth_coins * eth_price\n",
    "\n",
    "# Print current value of your holding in ETH\n",
    "print(f\"The current value of the holding in ETH: ${eth_value: .2f}.\")"
   ]
  },
  {
   "cell_type": "code",
   "execution_count": 366,
   "metadata": {},
   "outputs": [
    {
     "name": "stdout",
     "output_type": "stream",
     "text": [
      "Current cryptocurrency wallet balance: $ 62136.95.\n"
     ]
    }
   ],
   "source": [
    "# Compute the total value of the cryptocurrency wallet\n",
    "# Add the value of the BTC holding to the value of the ETH holding\n",
    "total_crypto_wallet = btc_value + eth_value\n",
    "\n",
    "# Print current cryptocurrency wallet balance\n",
    "print(f\"Current cryptocurrency wallet balance: ${total_crypto_wallet: .2f}.\")\n"
   ]
  },
  {
   "cell_type": "markdown",
   "metadata": {},
   "source": [
    "### Evaluate the Stock and Bond Holdings by Using the Alpaca SDK\n",
    "\n",
    "In this section, you’ll determine the current value of a member’s stock and bond holdings. You’ll make an API call to Alpaca via the Alpaca SDK to get the current closing prices of the SPDR S&P 500 ETF Trust (ticker: SPY) and of the iShares Core US Aggregate Bond ETF (ticker: AGG). For the prototype, assume that the member holds 110 shares of SPY, which represents the stock portion of their portfolio, and 200 shares of AGG, which represents the bond portion. To do all this, complete the following steps:\n",
    "\n",
    "1. In the `Starter_Code` folder, create an environment file (`.env`) to store the values of your Alpaca API key and Alpaca secret key.\n",
    "\n",
    "2. Set the variables for the Alpaca API and secret keys. Using the Alpaca SDK, create the Alpaca `tradeapi.REST` object. In this object, include the parameters for the Alpaca API key, the secret key, and the version number.\n",
    "\n",
    "3. Set the following parameters for the Alpaca API call:\n",
    "\n",
    "    - `tickers`: Use the tickers for the member’s stock and bond holdings.\n",
    "\n",
    "    - `timeframe`: Use a time frame of one day.\n",
    "\n",
    "    - `start_date` and `end_date`: Use the same date for these parameters, and format them with the date of the previous weekday (or `2020-08-07`). This is because you want the one closing price for the most-recent trading day.\n",
    "\n",
    "4. Get the current closing prices for `SPY` and `AGG` by using the Alpaca `get_bars` function. Format the response as a Pandas DataFrame by including the `df` property at the end of the `get_bars` function.\n",
    "\n",
    "5. Navigating the Alpaca response DataFrame, select the `SPY` and `AGG` closing prices, and store them as variables.\n",
    "\n",
    "6. Calculate the value, in US dollars, of the current amount of shares in each of the stock and bond portions of the portfolio, and print the results.\n"
   ]
  },
  {
   "cell_type": "markdown",
   "metadata": {},
   "source": [
    "#### Review the total number of shares held in both (SPY) and (AGG)."
   ]
  },
  {
   "cell_type": "code",
   "execution_count": 367,
   "metadata": {},
   "outputs": [],
   "source": [
    "# Current amount of shares held in both the stock (SPY) and bond (AGG) portion of the portfolio.\n",
    "spy_shares = 110\n",
    "agg_shares = 200\n"
   ]
  },
  {
   "cell_type": "markdown",
   "metadata": {},
   "source": [
    "#### Step 1: In the `Starter_Code` folder, create an environment file (`.env`) to store the values of your Alpaca API key and Alpaca secret key."
   ]
  },
  {
   "cell_type": "markdown",
   "metadata": {},
   "source": [
    "#### Step 2: Set the variables for the Alpaca API and secret keys. Using the Alpaca SDK, create the Alpaca `tradeapi.REST` object. In this object, include the parameters for the Alpaca API key, the secret key, and the version number."
   ]
  },
  {
   "cell_type": "code",
   "execution_count": 368,
   "metadata": {},
   "outputs": [],
   "source": [
    "# Set the variables for the Alpaca API and secret keys\n",
    "alpaca_api_key = os.getenv(\"ALPACA_API_KEY\")\n",
    "alpaca_secret_key = os.getenv(\"ALPACA_SECRET_KEY\")\n",
    "\n",
    "# Create the Alpaca tradeapi.REST object\n",
    "alpaca = tradeapi.REST(\n",
    "    alpaca_api_key,\n",
    "    alpaca_secret_key,\n",
    "    api_version=\"v2\")"
   ]
  },
  {
   "cell_type": "markdown",
   "metadata": {},
   "source": [
    "#### Step 3: Set the following parameters for the Alpaca API call:\n",
    "\n",
    "- `tickers`: Use the tickers for the member’s stock and bond holdings.\n",
    "\n",
    "- `timeframe`: Use a time frame of one day.\n",
    "\n",
    "- `start_date` and `end_date`: Use the same date for these parameters, and format them with the date of the previous weekday (or `2020-08-07`). This is because you want the one closing price for the most-recent trading day.\n"
   ]
  },
  {
   "cell_type": "code",
   "execution_count": 369,
   "metadata": {},
   "outputs": [],
   "source": [
    "# Set the tickers for both the bond and stock portion of the portfolio\n",
    "tickers = [\"SPY\", \"AGG\"]\n",
    "\n",
    "# Set timeframe to 1Day\n",
    "timeframe = \"1Day\"\n",
    "\n",
    "# Format current date as ISO format\n",
    "\n",
    "# Set both the start and end date at the date of your prior weekday \n",
    "# This will give you the closing price of the previous trading day\n",
    "# Alternatively you can use a start and end date of 2020-08-07\n",
    "start_date = pd.Timestamp(\"2022-04-14\", tz=\"America/New_York\").isoformat()\n",
    "end_date = pd.Timestamp(\"2022-04-14\", tz=\"America/New_York\").isoformat()"
   ]
  },
  {
   "cell_type": "markdown",
   "metadata": {},
   "source": [
    "#### Step 4: Get the current closing prices for `SPY` and `AGG` by using the Alpaca `get_bars` function. Format the response as a Pandas DataFrame by including the `df` property at the end of the `get_bars` function."
   ]
  },
  {
   "cell_type": "code",
   "execution_count": 370,
   "metadata": {},
   "outputs": [
    {
     "data": {
      "text/html": [
       "<div>\n",
       "<style scoped>\n",
       "    .dataframe tbody tr th:only-of-type {\n",
       "        vertical-align: middle;\n",
       "    }\n",
       "\n",
       "    .dataframe tbody tr th {\n",
       "        vertical-align: top;\n",
       "    }\n",
       "\n",
       "    .dataframe thead tr th {\n",
       "        text-align: left;\n",
       "    }\n",
       "\n",
       "    .dataframe thead tr:last-of-type th {\n",
       "        text-align: right;\n",
       "    }\n",
       "</style>\n",
       "<table border=\"1\" class=\"dataframe\">\n",
       "  <thead>\n",
       "    <tr>\n",
       "      <th></th>\n",
       "      <th colspan=\"7\" halign=\"left\">SPY</th>\n",
       "      <th colspan=\"7\" halign=\"left\">AGG</th>\n",
       "    </tr>\n",
       "    <tr>\n",
       "      <th></th>\n",
       "      <th>open</th>\n",
       "      <th>high</th>\n",
       "      <th>low</th>\n",
       "      <th>close</th>\n",
       "      <th>volume</th>\n",
       "      <th>trade_count</th>\n",
       "      <th>vwap</th>\n",
       "      <th>open</th>\n",
       "      <th>high</th>\n",
       "      <th>low</th>\n",
       "      <th>close</th>\n",
       "      <th>volume</th>\n",
       "      <th>trade_count</th>\n",
       "      <th>vwap</th>\n",
       "    </tr>\n",
       "    <tr>\n",
       "      <th>timestamp</th>\n",
       "      <th></th>\n",
       "      <th></th>\n",
       "      <th></th>\n",
       "      <th></th>\n",
       "      <th></th>\n",
       "      <th></th>\n",
       "      <th></th>\n",
       "      <th></th>\n",
       "      <th></th>\n",
       "      <th></th>\n",
       "      <th></th>\n",
       "      <th></th>\n",
       "      <th></th>\n",
       "      <th></th>\n",
       "    </tr>\n",
       "  </thead>\n",
       "  <tbody>\n",
       "    <tr>\n",
       "      <th>2022-04-14 04:00:00+00:00</th>\n",
       "      <td>443.44</td>\n",
       "      <td>444.7301</td>\n",
       "      <td>437.68</td>\n",
       "      <td>437.79</td>\n",
       "      <td>98667135</td>\n",
       "      <td>703727</td>\n",
       "      <td>440.305786</td>\n",
       "      <td>104.73</td>\n",
       "      <td>104.74</td>\n",
       "      <td>103.93</td>\n",
       "      <td>103.97</td>\n",
       "      <td>8505987</td>\n",
       "      <td>30443</td>\n",
       "      <td>104.171733</td>\n",
       "    </tr>\n",
       "  </tbody>\n",
       "</table>\n",
       "</div>"
      ],
      "text/plain": [
       "                              SPY                                      \\\n",
       "                             open      high     low   close    volume   \n",
       "timestamp                                                               \n",
       "2022-04-14 04:00:00+00:00  443.44  444.7301  437.68  437.79  98667135   \n",
       "\n",
       "                                                      AGG                  \\\n",
       "                          trade_count        vwap    open    high     low   \n",
       "timestamp                                                                   \n",
       "2022-04-14 04:00:00+00:00      703727  440.305786  104.73  104.74  103.93   \n",
       "\n",
       "                                                                    \n",
       "                            close   volume trade_count        vwap  \n",
       "timestamp                                                           \n",
       "2022-04-14 04:00:00+00:00  103.97  8505987       30443  104.171733  "
      ]
     },
     "execution_count": 370,
     "metadata": {},
     "output_type": "execute_result"
    }
   ],
   "source": [
    "# Use the Alpaca get_bars function to get current closing prices the portfolio\n",
    "# Be sure to set the `df` property after the function to format the response object as a DataFrame\n",
    "\n",
    "stock_bond_prices = alpaca.get_bars(\n",
    "    tickers,\n",
    "    timeframe,\n",
    "    start=start_date,\n",
    "    end=end_date\n",
    ").df\n",
    "\n",
    "\n",
    "# Reorganize the DataFrame\n",
    "# Separate ticker data\n",
    "spy = stock_bond_prices[stock_bond_prices['symbol']=='SPY'].drop('symbol', axis=1)\n",
    "agg = stock_bond_prices[stock_bond_prices['symbol']=='AGG'].drop('symbol', axis=1)\n",
    "\n",
    "\n",
    "# Concatenate the ticker DataFrames\n",
    "sb_prices = pd.concat([spy, agg], axis=1, keys=[\"SPY\", \"AGG\"])\n",
    "\n",
    "# Review the first five rows of the resulting DataFrame \n",
    "sb_prices.head()"
   ]
  },
  {
   "cell_type": "markdown",
   "metadata": {},
   "source": [
    "#### Step 5: Navigating the Alpaca response DataFrame, select the `SPY` and `AGG` closing prices, and store them as variables."
   ]
  },
  {
   "cell_type": "code",
   "execution_count": 371,
   "metadata": {},
   "outputs": [
    {
     "name": "stdout",
     "output_type": "stream",
     "text": [
      "The current price of AGG: $ 103.97.\n"
     ]
    }
   ],
   "source": [
    "# Access the closing price for AGG from the Alpaca DataFrame\n",
    "# Converting the value to a floating point number\n",
    "agg_close_price = float(sb_prices[\"AGG\"][\"close\"])\n",
    "\n",
    "# Print the AGG closing price\n",
    "print(f\"The current price of AGG: ${agg_close_price: .2f}.\")"
   ]
  },
  {
   "cell_type": "code",
   "execution_count": 372,
   "metadata": {},
   "outputs": [
    {
     "name": "stdout",
     "output_type": "stream",
     "text": [
      "The current price of SPY: $ 437.79.\n"
     ]
    }
   ],
   "source": [
    "# Access the closing price for SPY from the Alpaca DataFrame\n",
    "# Converting the value to a floating point number\n",
    "spy_close_price = float(sb_prices[\"SPY\"][\"close\"])\n",
    "\n",
    "# Print the SPY closing price\n",
    "print(f\"The current price of SPY: ${spy_close_price: .2f}.\")"
   ]
  },
  {
   "cell_type": "markdown",
   "metadata": {},
   "source": [
    "#### Step 6: Calculate the value, in US dollars, of the current amount of shares in each of the stock and bond portions of the portfolio, and print the results."
   ]
  },
  {
   "cell_type": "code",
   "execution_count": 373,
   "metadata": {},
   "outputs": [
    {
     "name": "stdout",
     "output_type": "stream",
     "text": [
      "The current value of the bond portfolio: $ 20794.00.\n"
     ]
    }
   ],
   "source": [
    "# Calculate the current value of the bond portion of the portfolio\n",
    "agg_value = agg_shares * agg_close_price\n",
    "\n",
    "# Print the current value of the bond portfolio\n",
    "print(f\"The current value of the bond portfolio: ${agg_value: .2f}.\")\n"
   ]
  },
  {
   "cell_type": "code",
   "execution_count": 374,
   "metadata": {},
   "outputs": [
    {
     "name": "stdout",
     "output_type": "stream",
     "text": [
      "The current value of the stock portion of the portfolio: $ 48156.90.\n"
     ]
    }
   ],
   "source": [
    "# Calculate the current value of the stock portion of the portfolio\n",
    "spy_value = spy_shares * spy_close_price\n",
    "\n",
    "# Print the current value of the stock portfolio\n",
    "print(f\"The current value of the stock portion of the portfolio: ${spy_value: .2f}.\")"
   ]
  },
  {
   "cell_type": "code",
   "execution_count": 375,
   "metadata": {},
   "outputs": [
    {
     "name": "stdout",
     "output_type": "stream",
     "text": [
      "The current balance of the stock and bond portion of the portfolio: $ 68950.90.\n"
     ]
    }
   ],
   "source": [
    "# Calculate the total value of the stock and bond portion of the portfolio\n",
    "total_stocks_bonds = agg_value + spy_value\n",
    "\n",
    "# Print the current balance of the stock and bond portion of the portfolio\n",
    "print(f\"The current balance of the stock and bond portion of the portfolio: ${total_stocks_bonds: .2f}.\")"
   ]
  },
  {
   "cell_type": "code",
   "execution_count": 376,
   "metadata": {},
   "outputs": [
    {
     "name": "stdout",
     "output_type": "stream",
     "text": [
      "The current total value of the member's entire savings portfolio: $ 131087.85.\n"
     ]
    }
   ],
   "source": [
    "# Calculate the total value of the member's entire savings portfolio\n",
    "# Add the value of the cryptocurrency wallet to the value of the total stocks and bonds\n",
    "total_portfolio = total_crypto_wallet + total_stocks_bonds\n",
    "\n",
    "# Print current total value of the member's entire savings portfolio\n",
    "total_portfolio\n",
    "print(f\"The current total value of the member's entire savings portfolio: ${total_portfolio: .2f}.\")"
   ]
  },
  {
   "cell_type": "markdown",
   "metadata": {},
   "source": [
    "### Evaluate the Emergency Fund\n",
    "\n",
    "In this section, you’ll use the valuations for the cryptocurrency wallet and for the stock and bond portions of the portfolio to determine if the credit union member has enough savings to build an emergency fund into their financial plan. To do this, complete the following steps:\n",
    "\n",
    "1. Create a Python list named `savings_data` that has two elements. The first element contains the total value of the cryptocurrency wallet. The second element contains the total value of the stock and bond portions of the portfolio.\n",
    "\n",
    "2. Use the `savings_data` list to create a Pandas DataFrame named `savings_df`, and then display this DataFrame. The function to create the DataFrame should take the following three parameters:\n",
    "\n",
    "    - `savings_data`: Use the list that you just created.\n",
    "\n",
    "    - `columns`: Set this parameter equal to a Python list with a single value called `amount`.\n",
    "\n",
    "    - `index`: Set this parameter equal to a Python list with the values of `crypto` and `stock/bond`.\n",
    "\n",
    "3. Use the `savings_df` DataFrame to plot a pie chart that visualizes the composition of the member’s portfolio. The y-axis of the pie chart uses `amount`. Be sure to add a title.\n",
    "\n",
    "4. Using Python, determine if the current portfolio has enough to create an emergency fund as part of the member’s financial plan. Ideally, an emergency fund should equal to three times the member’s monthly income. To do this, implement the following steps:\n",
    "\n",
    "    1. Create a variable named `emergency_fund_value`, and set it equal to three times the value of the member’s `monthly_income` of $12000. (You set this earlier in Part 1).\n",
    "\n",
    "    2. Create a series of three if statements to determine if the member’s total portfolio is large enough to fund the emergency portfolio:\n",
    "\n",
    "        1. If the total portfolio value is greater than the emergency fund value, display a message congratulating the member for having enough money in this fund.\n",
    "\n",
    "        2. Else if the total portfolio value is equal to the emergency fund value, display a message congratulating the member on reaching this important financial goal.\n",
    "\n",
    "        3. Else the total portfolio is less than the emergency fund value, so display a message showing how many dollars away the member is from reaching the goal. (Subtract the total portfolio value from the emergency fund value.)\n"
   ]
  },
  {
   "cell_type": "markdown",
   "metadata": {},
   "source": [
    "#### Step 1: Create a Python list named `savings_data` that has two elements. The first element contains the total value of the cryptocurrency wallet. The second element contains the total value of the stock and bond portions of the portfolio."
   ]
  },
  {
   "cell_type": "code",
   "execution_count": 377,
   "metadata": {},
   "outputs": [
    {
     "data": {
      "text/plain": [
       "[62136.95, 68950.9]"
      ]
     },
     "execution_count": 377,
     "metadata": {},
     "output_type": "execute_result"
    }
   ],
   "source": [
    "# Consolidate financial assets data into a Python list\n",
    "savings_data = [total_crypto_wallet, total_stocks_bonds]\n",
    " \n",
    "# Review the Python list savings_data\n",
    "savings_data"
   ]
  },
  {
   "cell_type": "markdown",
   "metadata": {},
   "source": [
    "#### Step 2: Use the `savings_data` list to create a Pandas DataFrame named `savings_df`, and then display this DataFrame. The function to create the DataFrame should take the following three parameters:\n",
    "\n",
    "- `savings_data`: Use the list that you just created.\n",
    "\n",
    "- `columns`: Set this parameter equal to a Python list with a single value called `amount`.\n",
    "\n",
    "- `index`: Set this parameter equal to a Python list with the values of `crypto` and `stock/bond`.\n"
   ]
  },
  {
   "cell_type": "code",
   "execution_count": 378,
   "metadata": {},
   "outputs": [
    {
     "data": {
      "text/html": [
       "<div>\n",
       "<style scoped>\n",
       "    .dataframe tbody tr th:only-of-type {\n",
       "        vertical-align: middle;\n",
       "    }\n",
       "\n",
       "    .dataframe tbody tr th {\n",
       "        vertical-align: top;\n",
       "    }\n",
       "\n",
       "    .dataframe thead th {\n",
       "        text-align: right;\n",
       "    }\n",
       "</style>\n",
       "<table border=\"1\" class=\"dataframe\">\n",
       "  <thead>\n",
       "    <tr style=\"text-align: right;\">\n",
       "      <th></th>\n",
       "      <th>amount</th>\n",
       "    </tr>\n",
       "  </thead>\n",
       "  <tbody>\n",
       "    <tr>\n",
       "      <th>crypto</th>\n",
       "      <td>62136.95</td>\n",
       "    </tr>\n",
       "    <tr>\n",
       "      <th>stock/bond</th>\n",
       "      <td>68950.90</td>\n",
       "    </tr>\n",
       "  </tbody>\n",
       "</table>\n",
       "</div>"
      ],
      "text/plain": [
       "              amount\n",
       "crypto      62136.95\n",
       "stock/bond  68950.90"
      ]
     },
     "execution_count": 378,
     "metadata": {},
     "output_type": "execute_result"
    }
   ],
   "source": [
    "# Create a Pandas DataFrame called savings_df \n",
    "savings_df = pd.DataFrame(data=savings_data, columns=[\"amount\"], index=[\"crypto\", \"stock/bond\"])\n",
    "\n",
    "# Display the savings_df DataFrame\n",
    "savings_df\n"
   ]
  },
  {
   "cell_type": "markdown",
   "metadata": {},
   "source": [
    "#### Step 3: Use the `savings_df` DataFrame to plot a pie chart that visualizes the composition of the member’s portfolio. The y-axis of the pie chart uses `amount`. Be sure to add a title."
   ]
  },
  {
   "cell_type": "code",
   "execution_count": 379,
   "metadata": {},
   "outputs": [
    {
     "data": {
      "text/plain": [
       "<AxesSubplot:title={'center':'Portfolio Composition - 2022-04-14'}, ylabel='amount'>"
      ]
     },
     "execution_count": 379,
     "metadata": {},
     "output_type": "execute_result"
    },
    {
     "data": {
      "image/png": "[encoded data removed]",
      "text/plain": [
       "<Figure size 432x288 with 1 Axes>"
      ]
     },
     "metadata": {},
     "output_type": "display_data"
    }
   ],
   "source": [
    "# Plot the total value of the member's portfolio (crypto and stock/bond) in a pie chart\n",
    "savings_df.plot.pie(y=\"amount\", title=\"Portfolio Composition - 2022-04-14\")\n"
   ]
  },
  {
   "cell_type": "markdown",
   "metadata": {},
   "source": [
    "#### Step 4: Using Python, determine if the current portfolio has enough to create an emergency fund as part of the member’s financial plan. Ideally, an emergency fund should equal to three times the member’s monthly income. To do this, implement the following steps:\n",
    "\n",
    "Step 1. Create a variable named `emergency_fund_value`, and set it equal to three times the value of the member’s `monthly_income` of 12000. (You set this earlier in Part 1).\n",
    "\n",
    "Step 2. Create a series of three if statements to determine if the member’s total portfolio is large enough to fund the emergency portfolio:\n",
    "\n",
    "* If the total portfolio value is greater than the emergency fund value, display a message congratulating the member for having enough money in this fund.\n",
    "\n",
    "* Else if the total portfolio value is equal to the emergency fund value, display a message congratulating the member on reaching this important financial goal.\n",
    "\n",
    "* Else the total portfolio is less than the emergency fund value, so display a message showing how many dollars away the member is from reaching the goal. (Subtract the total portfolio value from the emergency fund value.)\n"
   ]
  },
  {
   "cell_type": "markdown",
   "metadata": {},
   "source": [
    "##### Step 4-1: Create a variable named `emergency_fund_value`, and set it equal to three times the value of the member’s `monthly_income` of 12000. (You set this earlier in Part 1)."
   ]
  },
  {
   "cell_type": "code",
   "execution_count": 380,
   "metadata": {},
   "outputs": [
    {
     "name": "stdout",
     "output_type": "stream",
     "text": [
      "The value of the emergency fund: $36000.\n"
     ]
    }
   ],
   "source": [
    "# Create a variable named emergency_fund_value\n",
    "emergency_fund_value = monthly_income * 3\n",
    "print(f\"The value of the emergency fund: ${emergency_fund_value}.\")"
   ]
  },
  {
   "cell_type": "markdown",
   "metadata": {},
   "source": [
    "##### Step 4-2: Create a series of three if statements to determine if the member’s total portfolio is large enough to fund the emergency portfolio:\n",
    "\n",
    "* If the total portfolio value is greater than the emergency fund value, display a message congratulating the member for having enough money in this fund.\n",
    "\n",
    "* Else if the total portfolio value is equal to the emergency fund value, display a message congratulating the member on reaching this important financial goal.\n",
    "\n",
    "* Else the total portfolio is less than the emergency fund value, so display a message showing how many dollars away the member is from reaching the goal. (Subtract the total portfolio value from the emergency fund value.)"
   ]
  },
  {
   "cell_type": "code",
   "execution_count": 381,
   "metadata": {},
   "outputs": [
    {
     "name": "stdout",
     "output_type": "stream",
     "text": [
      "Congratulations, you have enough money in your portfolio to fund an emergency portfolio.\n"
     ]
    }
   ],
   "source": [
    "# Evaluate the possibility of creating an emergency fund with 3 conditions:\n",
    "if total_portfolio > emergency_fund_value:\n",
    "    print(\"Congratulations, you have enough money in your portfolio to fund an emergency portfolio.\")\n",
    "elif total_portfolio == emergency_fund_value:\n",
    "    print(\"Congratulations, you have reached an important financial goal! You now have just enough money in your portfolio to fund an emergency portfolio.\")\n",
    "else:\n",
    "    amount_remaining = emergency_fund_value - total_portfolio\n",
    "    print(f\"Sorry, you do not have enough money to fund an emergency portfolio. To meet this goal, you need {amount_remaining} more in your portfolio.\")\n",
    "    \n"
   ]
  },
  {
   "cell_type": "markdown",
   "metadata": {},
   "source": [
    "## Part 2: Create a Financial Planner for Retirement"
   ]
  },
  {
   "cell_type": "markdown",
   "metadata": {},
   "source": [
    "### Create the Monte Carlo Simulation\n",
    "\n",
    "In this section, you’ll use the MCForecastTools library to create a Monte Carlo simulation for the member’s savings portfolio. To do this, complete the following steps:\n",
    "\n",
    "1. Make an API call via the Alpaca SDK to get 3 years of historical closing prices for a traditional 60/40 portfolio split: 60% stocks (SPY) and 40% bonds (AGG).\n",
    "\n",
    "2. Run a Monte Carlo simulation of 500 samples and 30 years for the 60/40 portfolio, and then plot the results.The following image shows the overlay line plot resulting from a simulation with these characteristics. However, because a random number generator is used to run each live Monte Carlo simulation, your image will differ slightly from this exact image:\n",
    "\n",
    "![A screenshot depicts the resulting plot.](Images/5-4-monte-carlo-line-plot.png)\n",
    "\n",
    "3. Plot the probability distribution of the Monte Carlo simulation. Plot the probability distribution of the Monte Carlo simulation. The following image shows the histogram plot resulting from a simulation with these characteristics. However, because a random number generator is used to run each live Monte Carlo simulation, your image will differ slightly from this exact image:\n",
    "\n",
    "![A screenshot depicts the histogram plot.](Images/5-4-monte-carlo-histogram.png)\n",
    "\n",
    "4. Generate the summary statistics for the Monte Carlo simulation.\n",
    "\n"
   ]
  },
  {
   "cell_type": "markdown",
   "metadata": {},
   "source": [
    "#### Step 1: Make an API call via the Alpaca SDK to get 3 years of historical closing prices for a traditional 60/40 portfolio split: 60% stocks (SPY) and 40% bonds (AGG)."
   ]
  },
  {
   "cell_type": "code",
   "execution_count": 382,
   "metadata": {},
   "outputs": [],
   "source": [
    "# Set start and end dates of 3 years back from your current date\n",
    "# Alternatively, you can use an end date of 2020-08-07 and work 3 years back from that date \n",
    "start_date = pd.Timestamp(\"2019-04-14\", tz=\"America/New_York\").isoformat()\n",
    "end_date = pd.Timestamp(\"2022-04-14\", tz=\"America/New_York\").isoformat()"
   ]
  },
  {
   "cell_type": "code",
   "execution_count": 383,
   "metadata": {},
   "outputs": [
    {
     "data": {
      "text/html": [
       "<div>\n",
       "<style scoped>\n",
       "    .dataframe tbody tr th:only-of-type {\n",
       "        vertical-align: middle;\n",
       "    }\n",
       "\n",
       "    .dataframe tbody tr th {\n",
       "        vertical-align: top;\n",
       "    }\n",
       "\n",
       "    .dataframe thead tr th {\n",
       "        text-align: left;\n",
       "    }\n",
       "\n",
       "    .dataframe thead tr:last-of-type th {\n",
       "        text-align: right;\n",
       "    }\n",
       "</style>\n",
       "<table border=\"1\" class=\"dataframe\">\n",
       "  <thead>\n",
       "    <tr>\n",
       "      <th></th>\n",
       "      <th colspan=\"7\" halign=\"left\">SPY</th>\n",
       "      <th colspan=\"7\" halign=\"left\">AGG</th>\n",
       "    </tr>\n",
       "    <tr>\n",
       "      <th></th>\n",
       "      <th>open</th>\n",
       "      <th>high</th>\n",
       "      <th>low</th>\n",
       "      <th>close</th>\n",
       "      <th>volume</th>\n",
       "      <th>trade_count</th>\n",
       "      <th>vwap</th>\n",
       "      <th>open</th>\n",
       "      <th>high</th>\n",
       "      <th>low</th>\n",
       "      <th>close</th>\n",
       "      <th>volume</th>\n",
       "      <th>trade_count</th>\n",
       "      <th>vwap</th>\n",
       "    </tr>\n",
       "    <tr>\n",
       "      <th>timestamp</th>\n",
       "      <th></th>\n",
       "      <th></th>\n",
       "      <th></th>\n",
       "      <th></th>\n",
       "      <th></th>\n",
       "      <th></th>\n",
       "      <th></th>\n",
       "      <th></th>\n",
       "      <th></th>\n",
       "      <th></th>\n",
       "      <th></th>\n",
       "      <th></th>\n",
       "      <th></th>\n",
       "      <th></th>\n",
       "    </tr>\n",
       "  </thead>\n",
       "  <tbody>\n",
       "    <tr>\n",
       "      <th>2022-04-08 04:00:00+00:00</th>\n",
       "      <td>448.04</td>\n",
       "      <td>450.6300</td>\n",
       "      <td>445.9400</td>\n",
       "      <td>447.57</td>\n",
       "      <td>79148376</td>\n",
       "      <td>573491</td>\n",
       "      <td>448.250805</td>\n",
       "      <td>104.82</td>\n",
       "      <td>105.010</td>\n",
       "      <td>104.615</td>\n",
       "      <td>104.73</td>\n",
       "      <td>6501822</td>\n",
       "      <td>24900</td>\n",
       "      <td>104.804999</td>\n",
       "    </tr>\n",
       "    <tr>\n",
       "      <th>2022-04-11 04:00:00+00:00</th>\n",
       "      <td>444.11</td>\n",
       "      <td>445.0000</td>\n",
       "      <td>439.3900</td>\n",
       "      <td>439.92</td>\n",
       "      <td>89825549</td>\n",
       "      <td>779421</td>\n",
       "      <td>442.206374</td>\n",
       "      <td>104.44</td>\n",
       "      <td>104.505</td>\n",
       "      <td>104.170</td>\n",
       "      <td>104.28</td>\n",
       "      <td>8377902</td>\n",
       "      <td>29767</td>\n",
       "      <td>104.312835</td>\n",
       "    </tr>\n",
       "    <tr>\n",
       "      <th>2022-04-12 04:00:00+00:00</th>\n",
       "      <td>443.02</td>\n",
       "      <td>445.7500</td>\n",
       "      <td>436.6501</td>\n",
       "      <td>438.29</td>\n",
       "      <td>84020734</td>\n",
       "      <td>694115</td>\n",
       "      <td>440.815476</td>\n",
       "      <td>104.83</td>\n",
       "      <td>104.920</td>\n",
       "      <td>104.580</td>\n",
       "      <td>104.61</td>\n",
       "      <td>8448652</td>\n",
       "      <td>29955</td>\n",
       "      <td>104.740856</td>\n",
       "    </tr>\n",
       "    <tr>\n",
       "      <th>2022-04-13 04:00:00+00:00</th>\n",
       "      <td>437.96</td>\n",
       "      <td>444.1100</td>\n",
       "      <td>437.8400</td>\n",
       "      <td>443.31</td>\n",
       "      <td>73734315</td>\n",
       "      <td>563285</td>\n",
       "      <td>441.262058</td>\n",
       "      <td>104.77</td>\n",
       "      <td>105.090</td>\n",
       "      <td>104.740</td>\n",
       "      <td>104.82</td>\n",
       "      <td>6868550</td>\n",
       "      <td>27348</td>\n",
       "      <td>104.889799</td>\n",
       "    </tr>\n",
       "    <tr>\n",
       "      <th>2022-04-14 04:00:00+00:00</th>\n",
       "      <td>443.44</td>\n",
       "      <td>444.7301</td>\n",
       "      <td>437.6800</td>\n",
       "      <td>437.79</td>\n",
       "      <td>98667135</td>\n",
       "      <td>703727</td>\n",
       "      <td>440.305786</td>\n",
       "      <td>104.73</td>\n",
       "      <td>104.740</td>\n",
       "      <td>103.930</td>\n",
       "      <td>103.97</td>\n",
       "      <td>8505987</td>\n",
       "      <td>30443</td>\n",
       "      <td>104.171733</td>\n",
       "    </tr>\n",
       "  </tbody>\n",
       "</table>\n",
       "</div>"
      ],
      "text/plain": [
       "                              SPY                                        \\\n",
       "                             open      high       low   close    volume   \n",
       "timestamp                                                                 \n",
       "2022-04-08 04:00:00+00:00  448.04  450.6300  445.9400  447.57  79148376   \n",
       "2022-04-11 04:00:00+00:00  444.11  445.0000  439.3900  439.92  89825549   \n",
       "2022-04-12 04:00:00+00:00  443.02  445.7500  436.6501  438.29  84020734   \n",
       "2022-04-13 04:00:00+00:00  437.96  444.1100  437.8400  443.31  73734315   \n",
       "2022-04-14 04:00:00+00:00  443.44  444.7301  437.6800  437.79  98667135   \n",
       "\n",
       "                                                      AGG                    \\\n",
       "                          trade_count        vwap    open     high      low   \n",
       "timestamp                                                                     \n",
       "2022-04-08 04:00:00+00:00      573491  448.250805  104.82  105.010  104.615   \n",
       "2022-04-11 04:00:00+00:00      779421  442.206374  104.44  104.505  104.170   \n",
       "2022-04-12 04:00:00+00:00      694115  440.815476  104.83  104.920  104.580   \n",
       "2022-04-13 04:00:00+00:00      563285  441.262058  104.77  105.090  104.740   \n",
       "2022-04-14 04:00:00+00:00      703727  440.305786  104.73  104.740  103.930   \n",
       "\n",
       "                                                                    \n",
       "                            close   volume trade_count        vwap  \n",
       "timestamp                                                           \n",
       "2022-04-08 04:00:00+00:00  104.73  6501822       24900  104.804999  \n",
       "2022-04-11 04:00:00+00:00  104.28  8377902       29767  104.312835  \n",
       "2022-04-12 04:00:00+00:00  104.61  8448652       29955  104.740856  \n",
       "2022-04-13 04:00:00+00:00  104.82  6868550       27348  104.889799  \n",
       "2022-04-14 04:00:00+00:00  103.97  8505987       30443  104.171733  "
      ]
     },
     "execution_count": 383,
     "metadata": {},
     "output_type": "execute_result"
    }
   ],
   "source": [
    "# Use the Alpaca get_bars function to make the API call to get the 3 years worth of pricing data\n",
    "# The tickers and timeframe parameters should have been set in Part 1 of this activity \n",
    "# The start and end dates should be updated with the information set above\n",
    "# Remember to add the df property to the end of the call so the response is returned as a DataFrame\n",
    "sb_port_prices = alpaca.get_bars(\n",
    "    tickers,\n",
    "    timeframe,\n",
    "    start=start_date,\n",
    "    end=end_date,\n",
    ").df\n",
    "\n",
    "\n",
    "spy = sb_port_prices[sb_port_prices['symbol']=='SPY'].drop('symbol', axis=1)\n",
    "agg = sb_port_prices[sb_port_prices['symbol']=='AGG'].drop('symbol', axis=1)\n",
    "\n",
    "\n",
    "# Concatenate the ticker DataFrames\n",
    "sb_prices = pd.concat([spy, agg], axis=1, keys=[\"SPY\", \"AGG\"])\n",
    "\n",
    "# Review the first and last five rows of the resulting DataFrame \n",
    "sb_prices.head()\n",
    "sb_prices.tail()\n"
   ]
  },
  {
   "cell_type": "markdown",
   "metadata": {},
   "source": [
    "#### Step 2: Run a Monte Carlo simulation of 500 samples and 30 years for the 60/40 portfolio, and then plot the results."
   ]
  },
  {
   "cell_type": "code",
   "execution_count": 384,
   "metadata": {},
   "outputs": [
    {
     "data": {
      "text/html": [
       "<div>\n",
       "<style scoped>\n",
       "    .dataframe tbody tr th:only-of-type {\n",
       "        vertical-align: middle;\n",
       "    }\n",
       "\n",
       "    .dataframe tbody tr th {\n",
       "        vertical-align: top;\n",
       "    }\n",
       "\n",
       "    .dataframe thead tr th {\n",
       "        text-align: left;\n",
       "    }\n",
       "\n",
       "    .dataframe thead tr:last-of-type th {\n",
       "        text-align: right;\n",
       "    }\n",
       "</style>\n",
       "<table border=\"1\" class=\"dataframe\">\n",
       "  <thead>\n",
       "    <tr>\n",
       "      <th></th>\n",
       "      <th colspan=\"8\" halign=\"left\">SPY</th>\n",
       "      <th colspan=\"8\" halign=\"left\">AGG</th>\n",
       "    </tr>\n",
       "    <tr>\n",
       "      <th></th>\n",
       "      <th>open</th>\n",
       "      <th>high</th>\n",
       "      <th>low</th>\n",
       "      <th>close</th>\n",
       "      <th>volume</th>\n",
       "      <th>trade_count</th>\n",
       "      <th>vwap</th>\n",
       "      <th>daily_return</th>\n",
       "      <th>open</th>\n",
       "      <th>high</th>\n",
       "      <th>low</th>\n",
       "      <th>close</th>\n",
       "      <th>volume</th>\n",
       "      <th>trade_count</th>\n",
       "      <th>vwap</th>\n",
       "      <th>daily_return</th>\n",
       "    </tr>\n",
       "    <tr>\n",
       "      <th>timestamp</th>\n",
       "      <th></th>\n",
       "      <th></th>\n",
       "      <th></th>\n",
       "      <th></th>\n",
       "      <th></th>\n",
       "      <th></th>\n",
       "      <th></th>\n",
       "      <th></th>\n",
       "      <th></th>\n",
       "      <th></th>\n",
       "      <th></th>\n",
       "      <th></th>\n",
       "      <th></th>\n",
       "      <th></th>\n",
       "      <th></th>\n",
       "      <th></th>\n",
       "    </tr>\n",
       "  </thead>\n",
       "  <tbody>\n",
       "    <tr>\n",
       "      <th>2019-04-15 04:00:00+00:00</th>\n",
       "      <td>290.27</td>\n",
       "      <td>290.350</td>\n",
       "      <td>289.075</td>\n",
       "      <td>289.97</td>\n",
       "      <td>50222730</td>\n",
       "      <td>199622</td>\n",
       "      <td>289.773677</td>\n",
       "      <td>NaN</td>\n",
       "      <td>108.21</td>\n",
       "      <td>108.3000</td>\n",
       "      <td>108.21</td>\n",
       "      <td>108.25</td>\n",
       "      <td>2546204</td>\n",
       "      <td>10053</td>\n",
       "      <td>108.253507</td>\n",
       "      <td>NaN</td>\n",
       "    </tr>\n",
       "    <tr>\n",
       "      <th>2019-04-16 04:00:00+00:00</th>\n",
       "      <td>290.96</td>\n",
       "      <td>291.010</td>\n",
       "      <td>289.500</td>\n",
       "      <td>290.16</td>\n",
       "      <td>52154597</td>\n",
       "      <td>206469</td>\n",
       "      <td>290.277078</td>\n",
       "      <td>0.000655</td>\n",
       "      <td>108.12</td>\n",
       "      <td>108.2100</td>\n",
       "      <td>108.02</td>\n",
       "      <td>108.06</td>\n",
       "      <td>4093950</td>\n",
       "      <td>12649</td>\n",
       "      <td>108.108731</td>\n",
       "      <td>-0.001755</td>\n",
       "    </tr>\n",
       "    <tr>\n",
       "      <th>2019-04-17 04:00:00+00:00</th>\n",
       "      <td>291.41</td>\n",
       "      <td>291.425</td>\n",
       "      <td>288.990</td>\n",
       "      <td>289.45</td>\n",
       "      <td>58268470</td>\n",
       "      <td>245037</td>\n",
       "      <td>289.770682</td>\n",
       "      <td>-0.002447</td>\n",
       "      <td>108.09</td>\n",
       "      <td>108.1899</td>\n",
       "      <td>108.05</td>\n",
       "      <td>108.05</td>\n",
       "      <td>3390171</td>\n",
       "      <td>9569</td>\n",
       "      <td>108.090758</td>\n",
       "      <td>-0.000093</td>\n",
       "    </tr>\n",
       "    <tr>\n",
       "      <th>2019-04-18 04:00:00+00:00</th>\n",
       "      <td>290.12</td>\n",
       "      <td>290.320</td>\n",
       "      <td>288.660</td>\n",
       "      <td>290.02</td>\n",
       "      <td>69414428</td>\n",
       "      <td>231296</td>\n",
       "      <td>289.794161</td>\n",
       "      <td>0.001969</td>\n",
       "      <td>108.23</td>\n",
       "      <td>108.2900</td>\n",
       "      <td>108.16</td>\n",
       "      <td>108.19</td>\n",
       "      <td>2217221</td>\n",
       "      <td>8388</td>\n",
       "      <td>108.211849</td>\n",
       "      <td>0.001296</td>\n",
       "    </tr>\n",
       "    <tr>\n",
       "      <th>2019-04-22 04:00:00+00:00</th>\n",
       "      <td>289.17</td>\n",
       "      <td>290.435</td>\n",
       "      <td>289.070</td>\n",
       "      <td>290.27</td>\n",
       "      <td>40520264</td>\n",
       "      <td>170767</td>\n",
       "      <td>290.002934</td>\n",
       "      <td>0.000862</td>\n",
       "      <td>108.13</td>\n",
       "      <td>108.1600</td>\n",
       "      <td>108.05</td>\n",
       "      <td>108.06</td>\n",
       "      <td>5725616</td>\n",
       "      <td>9161</td>\n",
       "      <td>108.098893</td>\n",
       "      <td>-0.001202</td>\n",
       "    </tr>\n",
       "  </tbody>\n",
       "</table>\n",
       "</div>"
      ],
      "text/plain": [
       "                              SPY                                      \\\n",
       "                             open     high      low   close    volume   \n",
       "timestamp                                                               \n",
       "2019-04-15 04:00:00+00:00  290.27  290.350  289.075  289.97  50222730   \n",
       "2019-04-16 04:00:00+00:00  290.96  291.010  289.500  290.16  52154597   \n",
       "2019-04-17 04:00:00+00:00  291.41  291.425  288.990  289.45  58268470   \n",
       "2019-04-18 04:00:00+00:00  290.12  290.320  288.660  290.02  69414428   \n",
       "2019-04-22 04:00:00+00:00  289.17  290.435  289.070  290.27  40520264   \n",
       "\n",
       "                                                                   AGG  \\\n",
       "                          trade_count        vwap daily_return    open   \n",
       "timestamp                                                                \n",
       "2019-04-15 04:00:00+00:00      199622  289.773677          NaN  108.21   \n",
       "2019-04-16 04:00:00+00:00      206469  290.277078     0.000655  108.12   \n",
       "2019-04-17 04:00:00+00:00      245037  289.770682    -0.002447  108.09   \n",
       "2019-04-18 04:00:00+00:00      231296  289.794161     0.001969  108.23   \n",
       "2019-04-22 04:00:00+00:00      170767  290.002934     0.000862  108.13   \n",
       "\n",
       "                                                                          \\\n",
       "                               high     low   close   volume trade_count   \n",
       "timestamp                                                                  \n",
       "2019-04-15 04:00:00+00:00  108.3000  108.21  108.25  2546204       10053   \n",
       "2019-04-16 04:00:00+00:00  108.2100  108.02  108.06  4093950       12649   \n",
       "2019-04-17 04:00:00+00:00  108.1899  108.05  108.05  3390171        9569   \n",
       "2019-04-18 04:00:00+00:00  108.2900  108.16  108.19  2217221        8388   \n",
       "2019-04-22 04:00:00+00:00  108.1600  108.05  108.06  5725616        9161   \n",
       "\n",
       "                                                    \n",
       "                                 vwap daily_return  \n",
       "timestamp                                           \n",
       "2019-04-15 04:00:00+00:00  108.253507          NaN  \n",
       "2019-04-16 04:00:00+00:00  108.108731    -0.001755  \n",
       "2019-04-17 04:00:00+00:00  108.090758    -0.000093  \n",
       "2019-04-18 04:00:00+00:00  108.211849     0.001296  \n",
       "2019-04-22 04:00:00+00:00  108.098893    -0.001202  "
      ]
     },
     "execution_count": 384,
     "metadata": {},
     "output_type": "execute_result"
    }
   ],
   "source": [
    "# Configure the Monte Carlo simulation to forecast 30 years cumulative returns\n",
    "# The weights should be split 40% to AGG and 60% to SPY.\n",
    "# Run 500 samples.\n",
    "MC_sb_thirty = MCSimulation(\n",
    "    portfolio_data = sb_prices,\n",
    "    weights = [.6, .4],\n",
    "    num_simulation = 500,\n",
    "    num_trading_days = 252*30)\n",
    "\n",
    "# Review the simulation input data\n",
    "MC_sb_thirty.portfolio_data.head()\n"
   ]
  },
  {
   "cell_type": "code",
   "execution_count": 385,
   "metadata": {},
   "outputs": [
    {
     "name": "stdout",
     "output_type": "stream",
     "text": [
      "Running Monte Carlo simulation number 0.\n",
      "Running Monte Carlo simulation number 10.\n",
      "Running Monte Carlo simulation number 20.\n",
      "Running Monte Carlo simulation number 30.\n",
      "Running Monte Carlo simulation number 40.\n",
      "Running Monte Carlo simulation number 50.\n",
      "Running Monte Carlo simulation number 60.\n",
      "Running Monte Carlo simulation number 70.\n",
      "Running Monte Carlo simulation number 80.\n",
      "Running Monte Carlo simulation number 90.\n",
      "Running Monte Carlo simulation number 100.\n"
     ]
    },
    {
     "name": "stderr",
     "output_type": "stream",
     "text": [
      "/Users/nicoleroberts/Dropbox/My Mac (Nicole’s MacBook Pro)/Desktop/Nicole_Roberts_Portfolio/Challenge_5_Financial_Planning/MCForecastTools.py:117: PerformanceWarning: DataFrame is highly fragmented.  This is usually the result of calling `frame.insert` many times, which has poor performance.  Consider joining all columns at once using pd.concat(axis=1) instead.  To get a de-fragmented frame, use `newframe = frame.copy()`\n",
      "  portfolio_cumulative_returns[n] = (1 + sim_df.fillna(0)).cumprod()\n"
     ]
    },
    {
     "name": "stdout",
     "output_type": "stream",
     "text": [
      "Running Monte Carlo simulation number 110.\n",
      "Running Monte Carlo simulation number 120.\n",
      "Running Monte Carlo simulation number 130.\n",
      "Running Monte Carlo simulation number 140.\n",
      "Running Monte Carlo simulation number 150.\n",
      "Running Monte Carlo simulation number 160.\n",
      "Running Monte Carlo simulation number 170.\n",
      "Running Monte Carlo simulation number 180.\n",
      "Running Monte Carlo simulation number 190.\n",
      "Running Monte Carlo simulation number 200.\n",
      "Running Monte Carlo simulation number 210.\n",
      "Running Monte Carlo simulation number 220.\n",
      "Running Monte Carlo simulation number 230.\n",
      "Running Monte Carlo simulation number 240.\n",
      "Running Monte Carlo simulation number 250.\n",
      "Running Monte Carlo simulation number 260.\n",
      "Running Monte Carlo simulation number 270.\n",
      "Running Monte Carlo simulation number 280.\n",
      "Running Monte Carlo simulation number 290.\n",
      "Running Monte Carlo simulation number 300.\n",
      "Running Monte Carlo simulation number 310.\n",
      "Running Monte Carlo simulation number 320.\n",
      "Running Monte Carlo simulation number 330.\n",
      "Running Monte Carlo simulation number 340.\n",
      "Running Monte Carlo simulation number 350.\n",
      "Running Monte Carlo simulation number 360.\n",
      "Running Monte Carlo simulation number 370.\n",
      "Running Monte Carlo simulation number 380.\n",
      "Running Monte Carlo simulation number 390.\n",
      "Running Monte Carlo simulation number 400.\n",
      "Running Monte Carlo simulation number 410.\n",
      "Running Monte Carlo simulation number 420.\n",
      "Running Monte Carlo simulation number 430.\n",
      "Running Monte Carlo simulation number 440.\n",
      "Running Monte Carlo simulation number 450.\n",
      "Running Monte Carlo simulation number 460.\n",
      "Running Monte Carlo simulation number 470.\n",
      "Running Monte Carlo simulation number 480.\n",
      "Running Monte Carlo simulation number 490.\n"
     ]
    },
    {
     "data": {
      "text/html": [
       "<div>\n",
       "<style scoped>\n",
       "    .dataframe tbody tr th:only-of-type {\n",
       "        vertical-align: middle;\n",
       "    }\n",
       "\n",
       "    .dataframe tbody tr th {\n",
       "        vertical-align: top;\n",
       "    }\n",
       "\n",
       "    .dataframe thead th {\n",
       "        text-align: right;\n",
       "    }\n",
       "</style>\n",
       "<table border=\"1\" class=\"dataframe\">\n",
       "  <thead>\n",
       "    <tr style=\"text-align: right;\">\n",
       "      <th></th>\n",
       "      <th>0</th>\n",
       "      <th>1</th>\n",
       "      <th>2</th>\n",
       "      <th>3</th>\n",
       "      <th>4</th>\n",
       "      <th>5</th>\n",
       "      <th>6</th>\n",
       "      <th>7</th>\n",
       "      <th>8</th>\n",
       "      <th>9</th>\n",
       "      <th>...</th>\n",
       "      <th>490</th>\n",
       "      <th>491</th>\n",
       "      <th>492</th>\n",
       "      <th>493</th>\n",
       "      <th>494</th>\n",
       "      <th>495</th>\n",
       "      <th>496</th>\n",
       "      <th>497</th>\n",
       "      <th>498</th>\n",
       "      <th>499</th>\n",
       "    </tr>\n",
       "  </thead>\n",
       "  <tbody>\n",
       "    <tr>\n",
       "      <th>0</th>\n",
       "      <td>1.000000</td>\n",
       "      <td>1.000000</td>\n",
       "      <td>1.000000</td>\n",
       "      <td>1.000000</td>\n",
       "      <td>1.000000</td>\n",
       "      <td>1.000000</td>\n",
       "      <td>1.000000</td>\n",
       "      <td>1.000000</td>\n",
       "      <td>1.000000</td>\n",
       "      <td>1.000000</td>\n",
       "      <td>...</td>\n",
       "      <td>1.000000</td>\n",
       "      <td>1.000000</td>\n",
       "      <td>1.000000</td>\n",
       "      <td>1.000000</td>\n",
       "      <td>1.000000</td>\n",
       "      <td>1.000000</td>\n",
       "      <td>1.000000</td>\n",
       "      <td>1.000000</td>\n",
       "      <td>1.000000</td>\n",
       "      <td>1.000000</td>\n",
       "    </tr>\n",
       "    <tr>\n",
       "      <th>1</th>\n",
       "      <td>1.004916</td>\n",
       "      <td>1.015908</td>\n",
       "      <td>1.004933</td>\n",
       "      <td>0.995869</td>\n",
       "      <td>1.001113</td>\n",
       "      <td>0.991001</td>\n",
       "      <td>0.998708</td>\n",
       "      <td>0.999456</td>\n",
       "      <td>1.013301</td>\n",
       "      <td>1.007638</td>\n",
       "      <td>...</td>\n",
       "      <td>0.992337</td>\n",
       "      <td>0.985589</td>\n",
       "      <td>0.997744</td>\n",
       "      <td>0.994259</td>\n",
       "      <td>1.017551</td>\n",
       "      <td>1.005280</td>\n",
       "      <td>0.998447</td>\n",
       "      <td>0.984116</td>\n",
       "      <td>1.012284</td>\n",
       "      <td>0.988707</td>\n",
       "    </tr>\n",
       "    <tr>\n",
       "      <th>2</th>\n",
       "      <td>1.000855</td>\n",
       "      <td>1.011217</td>\n",
       "      <td>1.005282</td>\n",
       "      <td>0.995931</td>\n",
       "      <td>0.994473</td>\n",
       "      <td>0.992012</td>\n",
       "      <td>0.994148</td>\n",
       "      <td>0.985289</td>\n",
       "      <td>1.014673</td>\n",
       "      <td>1.001269</td>\n",
       "      <td>...</td>\n",
       "      <td>0.990852</td>\n",
       "      <td>0.980248</td>\n",
       "      <td>1.002803</td>\n",
       "      <td>0.987310</td>\n",
       "      <td>1.040141</td>\n",
       "      <td>0.989809</td>\n",
       "      <td>0.985331</td>\n",
       "      <td>0.974333</td>\n",
       "      <td>1.010194</td>\n",
       "      <td>0.979862</td>\n",
       "    </tr>\n",
       "    <tr>\n",
       "      <th>3</th>\n",
       "      <td>1.014617</td>\n",
       "      <td>1.005154</td>\n",
       "      <td>1.019509</td>\n",
       "      <td>1.004330</td>\n",
       "      <td>1.006259</td>\n",
       "      <td>0.986535</td>\n",
       "      <td>0.990183</td>\n",
       "      <td>0.969470</td>\n",
       "      <td>1.007183</td>\n",
       "      <td>0.995842</td>\n",
       "      <td>...</td>\n",
       "      <td>0.996499</td>\n",
       "      <td>0.976215</td>\n",
       "      <td>1.001698</td>\n",
       "      <td>0.989440</td>\n",
       "      <td>1.041109</td>\n",
       "      <td>0.993643</td>\n",
       "      <td>0.975165</td>\n",
       "      <td>0.963695</td>\n",
       "      <td>1.021224</td>\n",
       "      <td>0.983233</td>\n",
       "    </tr>\n",
       "    <tr>\n",
       "      <th>4</th>\n",
       "      <td>1.018433</td>\n",
       "      <td>0.995630</td>\n",
       "      <td>1.021490</td>\n",
       "      <td>1.009338</td>\n",
       "      <td>1.001821</td>\n",
       "      <td>0.990820</td>\n",
       "      <td>0.991637</td>\n",
       "      <td>0.973991</td>\n",
       "      <td>1.003861</td>\n",
       "      <td>0.993662</td>\n",
       "      <td>...</td>\n",
       "      <td>0.985553</td>\n",
       "      <td>0.973177</td>\n",
       "      <td>0.994842</td>\n",
       "      <td>0.993360</td>\n",
       "      <td>1.045905</td>\n",
       "      <td>0.988594</td>\n",
       "      <td>0.966394</td>\n",
       "      <td>0.978455</td>\n",
       "      <td>1.025488</td>\n",
       "      <td>0.976640</td>\n",
       "    </tr>\n",
       "    <tr>\n",
       "      <th>...</th>\n",
       "      <td>...</td>\n",
       "      <td>...</td>\n",
       "      <td>...</td>\n",
       "      <td>...</td>\n",
       "      <td>...</td>\n",
       "      <td>...</td>\n",
       "      <td>...</td>\n",
       "      <td>...</td>\n",
       "      <td>...</td>\n",
       "      <td>...</td>\n",
       "      <td>...</td>\n",
       "      <td>...</td>\n",
       "      <td>...</td>\n",
       "      <td>...</td>\n",
       "      <td>...</td>\n",
       "      <td>...</td>\n",
       "      <td>...</td>\n",
       "      <td>...</td>\n",
       "      <td>...</td>\n",
       "      <td>...</td>\n",
       "      <td>...</td>\n",
       "    </tr>\n",
       "    <tr>\n",
       "      <th>7556</th>\n",
       "      <td>3.264781</td>\n",
       "      <td>3.827688</td>\n",
       "      <td>24.939001</td>\n",
       "      <td>14.279755</td>\n",
       "      <td>10.191643</td>\n",
       "      <td>15.445919</td>\n",
       "      <td>17.077182</td>\n",
       "      <td>8.818299</td>\n",
       "      <td>46.052256</td>\n",
       "      <td>16.309639</td>\n",
       "      <td>...</td>\n",
       "      <td>4.623314</td>\n",
       "      <td>4.699786</td>\n",
       "      <td>29.398818</td>\n",
       "      <td>8.504106</td>\n",
       "      <td>29.226911</td>\n",
       "      <td>19.775040</td>\n",
       "      <td>18.941321</td>\n",
       "      <td>9.770665</td>\n",
       "      <td>6.761173</td>\n",
       "      <td>14.380919</td>\n",
       "    </tr>\n",
       "    <tr>\n",
       "      <th>7557</th>\n",
       "      <td>3.289593</td>\n",
       "      <td>3.797551</td>\n",
       "      <td>24.946683</td>\n",
       "      <td>14.009122</td>\n",
       "      <td>10.213527</td>\n",
       "      <td>15.304676</td>\n",
       "      <td>16.903712</td>\n",
       "      <td>8.864837</td>\n",
       "      <td>46.815986</td>\n",
       "      <td>16.136912</td>\n",
       "      <td>...</td>\n",
       "      <td>4.603826</td>\n",
       "      <td>4.712072</td>\n",
       "      <td>29.608173</td>\n",
       "      <td>8.492355</td>\n",
       "      <td>29.106960</td>\n",
       "      <td>19.751697</td>\n",
       "      <td>19.166008</td>\n",
       "      <td>9.696763</td>\n",
       "      <td>6.768130</td>\n",
       "      <td>14.763161</td>\n",
       "    </tr>\n",
       "    <tr>\n",
       "      <th>7558</th>\n",
       "      <td>3.285341</td>\n",
       "      <td>3.816759</td>\n",
       "      <td>25.102651</td>\n",
       "      <td>14.100612</td>\n",
       "      <td>10.163922</td>\n",
       "      <td>15.274996</td>\n",
       "      <td>16.621137</td>\n",
       "      <td>8.854407</td>\n",
       "      <td>47.338802</td>\n",
       "      <td>16.053243</td>\n",
       "      <td>...</td>\n",
       "      <td>4.573603</td>\n",
       "      <td>4.703170</td>\n",
       "      <td>29.886300</td>\n",
       "      <td>8.545419</td>\n",
       "      <td>29.182783</td>\n",
       "      <td>19.769395</td>\n",
       "      <td>19.317350</td>\n",
       "      <td>9.825429</td>\n",
       "      <td>6.832125</td>\n",
       "      <td>15.067914</td>\n",
       "    </tr>\n",
       "    <tr>\n",
       "      <th>7559</th>\n",
       "      <td>3.299282</td>\n",
       "      <td>3.846599</td>\n",
       "      <td>25.099790</td>\n",
       "      <td>14.211955</td>\n",
       "      <td>10.195673</td>\n",
       "      <td>15.370951</td>\n",
       "      <td>16.852675</td>\n",
       "      <td>8.729797</td>\n",
       "      <td>47.625936</td>\n",
       "      <td>16.136746</td>\n",
       "      <td>...</td>\n",
       "      <td>4.635449</td>\n",
       "      <td>4.663015</td>\n",
       "      <td>29.686613</td>\n",
       "      <td>8.641390</td>\n",
       "      <td>29.053037</td>\n",
       "      <td>19.981461</td>\n",
       "      <td>19.463893</td>\n",
       "      <td>9.938924</td>\n",
       "      <td>6.790716</td>\n",
       "      <td>15.125270</td>\n",
       "    </tr>\n",
       "    <tr>\n",
       "      <th>7560</th>\n",
       "      <td>3.270036</td>\n",
       "      <td>3.819937</td>\n",
       "      <td>24.875443</td>\n",
       "      <td>14.132363</td>\n",
       "      <td>10.175171</td>\n",
       "      <td>15.402168</td>\n",
       "      <td>16.691933</td>\n",
       "      <td>8.706735</td>\n",
       "      <td>47.994313</td>\n",
       "      <td>16.131001</td>\n",
       "      <td>...</td>\n",
       "      <td>4.639055</td>\n",
       "      <td>4.641009</td>\n",
       "      <td>29.388991</td>\n",
       "      <td>8.579466</td>\n",
       "      <td>29.035232</td>\n",
       "      <td>20.051732</td>\n",
       "      <td>19.179882</td>\n",
       "      <td>9.959521</td>\n",
       "      <td>6.751822</td>\n",
       "      <td>15.204446</td>\n",
       "    </tr>\n",
       "  </tbody>\n",
       "</table>\n",
       "<p>7561 rows × 500 columns</p>\n",
       "</div>"
      ],
      "text/plain": [
       "           0         1          2          3          4          5    \\\n",
       "0     1.000000  1.000000   1.000000   1.000000   1.000000   1.000000   \n",
       "1     1.004916  1.015908   1.004933   0.995869   1.001113   0.991001   \n",
       "2     1.000855  1.011217   1.005282   0.995931   0.994473   0.992012   \n",
       "3     1.014617  1.005154   1.019509   1.004330   1.006259   0.986535   \n",
       "4     1.018433  0.995630   1.021490   1.009338   1.001821   0.990820   \n",
       "...        ...       ...        ...        ...        ...        ...   \n",
       "7556  3.264781  3.827688  24.939001  14.279755  10.191643  15.445919   \n",
       "7557  3.289593  3.797551  24.946683  14.009122  10.213527  15.304676   \n",
       "7558  3.285341  3.816759  25.102651  14.100612  10.163922  15.274996   \n",
       "7559  3.299282  3.846599  25.099790  14.211955  10.195673  15.370951   \n",
       "7560  3.270036  3.819937  24.875443  14.132363  10.175171  15.402168   \n",
       "\n",
       "            6         7          8          9    ...       490       491  \\\n",
       "0      1.000000  1.000000   1.000000   1.000000  ...  1.000000  1.000000   \n",
       "1      0.998708  0.999456   1.013301   1.007638  ...  0.992337  0.985589   \n",
       "2      0.994148  0.985289   1.014673   1.001269  ...  0.990852  0.980248   \n",
       "3      0.990183  0.969470   1.007183   0.995842  ...  0.996499  0.976215   \n",
       "4      0.991637  0.973991   1.003861   0.993662  ...  0.985553  0.973177   \n",
       "...         ...       ...        ...        ...  ...       ...       ...   \n",
       "7556  17.077182  8.818299  46.052256  16.309639  ...  4.623314  4.699786   \n",
       "7557  16.903712  8.864837  46.815986  16.136912  ...  4.603826  4.712072   \n",
       "7558  16.621137  8.854407  47.338802  16.053243  ...  4.573603  4.703170   \n",
       "7559  16.852675  8.729797  47.625936  16.136746  ...  4.635449  4.663015   \n",
       "7560  16.691933  8.706735  47.994313  16.131001  ...  4.639055  4.641009   \n",
       "\n",
       "            492       493        494        495        496       497  \\\n",
       "0      1.000000  1.000000   1.000000   1.000000   1.000000  1.000000   \n",
       "1      0.997744  0.994259   1.017551   1.005280   0.998447  0.984116   \n",
       "2      1.002803  0.987310   1.040141   0.989809   0.985331  0.974333   \n",
       "3      1.001698  0.989440   1.041109   0.993643   0.975165  0.963695   \n",
       "4      0.994842  0.993360   1.045905   0.988594   0.966394  0.978455   \n",
       "...         ...       ...        ...        ...        ...       ...   \n",
       "7556  29.398818  8.504106  29.226911  19.775040  18.941321  9.770665   \n",
       "7557  29.608173  8.492355  29.106960  19.751697  19.166008  9.696763   \n",
       "7558  29.886300  8.545419  29.182783  19.769395  19.317350  9.825429   \n",
       "7559  29.686613  8.641390  29.053037  19.981461  19.463893  9.938924   \n",
       "7560  29.388991  8.579466  29.035232  20.051732  19.179882  9.959521   \n",
       "\n",
       "           498        499  \n",
       "0     1.000000   1.000000  \n",
       "1     1.012284   0.988707  \n",
       "2     1.010194   0.979862  \n",
       "3     1.021224   0.983233  \n",
       "4     1.025488   0.976640  \n",
       "...        ...        ...  \n",
       "7556  6.761173  14.380919  \n",
       "7557  6.768130  14.763161  \n",
       "7558  6.832125  15.067914  \n",
       "7559  6.790716  15.125270  \n",
       "7560  6.751822  15.204446  \n",
       "\n",
       "[7561 rows x 500 columns]"
      ]
     },
     "execution_count": 385,
     "metadata": {},
     "output_type": "execute_result"
    }
   ],
   "source": [
    "# Run the Monte Carlo simulation to forecast 30 years cumulative returns\n",
    "MC_sb_thirty.calc_cumulative_return()"
   ]
  },
  {
   "cell_type": "code",
   "execution_count": 334,
   "metadata": {},
   "outputs": [
    {
     "data": {
      "image/png": "[encoded data removed]",
      "text/plain": [
       "<Figure size 432x288 with 1 Axes>"
      ]
     },
     "metadata": {
      "needs_background": "light"
     },
     "output_type": "display_data"
    }
   ],
   "source": [
    "# Visualize the 30-year Monte Carlo simulation by creating an\n",
    "# overlay line plot\n",
    "sb_thirty_line_plot = MC_sb_thirty.plot_simulation()"
   ]
  },
  {
   "cell_type": "markdown",
   "metadata": {},
   "source": [
    "#### Step 3: Plot the probability distribution of the Monte Carlo simulation."
   ]
  },
  {
   "cell_type": "code",
   "execution_count": 335,
   "metadata": {},
   "outputs": [
    {
     "data": {
      "image/png": "[encoded data removed]",
      "text/plain": [
       "<Figure size 432x288 with 1 Axes>"
      ]
     },
     "metadata": {
      "needs_background": "light"
     },
     "output_type": "display_data"
    }
   ],
   "source": [
    "# Visualize the probability distribution of the 30-year Monte Carlo simulation \n",
    "sb_thirty_distribution_plot = MC_sb_thirty.plot_distribution()\n"
   ]
  },
  {
   "cell_type": "markdown",
   "metadata": {},
   "source": [
    "#### Step 4: Generate the summary statistics for the Monte Carlo simulation."
   ]
  },
  {
   "cell_type": "code",
   "execution_count": 336,
   "metadata": {},
   "outputs": [
    {
     "name": "stdout",
     "output_type": "stream",
     "text": [
      "count           500.000000\n",
      "mean             17.048962\n",
      "std              17.406587\n",
      "min               1.076030\n",
      "25%               7.532083\n",
      "50%              11.700111\n",
      "75%              20.949534\n",
      "max             182.638082\n",
      "95% CI Lower      2.792640\n",
      "95% CI Upper     59.997427\n",
      "Name: 7560, dtype: float64\n"
     ]
    }
   ],
   "source": [
    "# Generate summary statistics from the 30-year Monte Carlo simulation results\n",
    "# Save the results as a variable\n",
    "sb_thirty_yr_table = MC_sb_thirty.summarize_cumulative_return()\n",
    "\n",
    "# Review the 30-year Monte Carlo summary statistics\n",
    "print(sb_thirty_yr_table)\n"
   ]
  },
  {
   "cell_type": "markdown",
   "metadata": {},
   "source": [
    "### Analyze the Retirement Portfolio Forecasts\n",
    "\n",
    "Using the current value of only the stock and bond portion of the member's portfolio and the summary statistics that you generated from the Monte Carlo simulation, answer the following question in your Jupyter notebook:\n",
    "\n",
    "-  What are the lower and upper bounds for the expected value of the portfolio with a 95% confidence interval?\n"
   ]
  },
  {
   "cell_type": "code",
   "execution_count": 342,
   "metadata": {},
   "outputs": [
    {
     "name": "stdout",
     "output_type": "stream",
     "text": [
      "The current balance of the stock and bond portion of the member's portfolio: $ 68950.90.\n"
     ]
    }
   ],
   "source": [
    "# Print the current balance of the stock and bond portion of the members portfolio\n",
    "current_sb_amount = savings_df.loc[\"stock/bond\"][\"amount\"]\n",
    "print(f\"The current balance of the stock and bond portion of the member's portfolio: ${current_sb_amount: .2f}.\")"
   ]
  },
  {
   "cell_type": "code",
   "execution_count": 343,
   "metadata": {},
   "outputs": [
    {
     "name": "stdout",
     "output_type": "stream",
     "text": [
      "There is a 95% chance that an initial investment of $ 68950.90 in a portfolio with a 60/40 split between SPY and AGG respectively over the next 30 years will end within the range of $192555.04 and $4136876.6.\n"
     ]
    }
   ],
   "source": [
    "# Use the lower and upper `95%` confidence intervals to calculate the range of the possible outcomes for the current stock/bond portfolio\n",
    "ci_lower_thirty_cumulative_return = round(sb_thirty_yr_table[8] * current_sb_amount, 2)\n",
    "ci_upper_thirty_cumulative_return = round(sb_thirty_yr_table[9] * current_sb_amount, 2)\n",
    "\n",
    "# Print the result of your calculations\n",
    "print(f\"There is a 95% chance that an initial investment of ${current_sb_amount: .2f} in a portfolio\"\n",
    "      f\" with a 60/40 split between SPY and AGG respectively over the next 30 years will end within the range of\"\n",
    "      f\" ${ci_lower_thirty_cumulative_return} and ${ci_upper_thirty_cumulative_return}.\")"
   ]
  },
  {
   "cell_type": "markdown",
   "metadata": {},
   "source": [
    "### Forecast Cumulative Returns in 10 Years\n",
    "\n",
    "The CTO of the credit union is impressed with your work on these planning tools but wonders if 30 years is a long time to wait until retirement. So, your next task is to adjust the retirement portfolio and run a new Monte Carlo simulation to find out if the changes will allow members to retire earlier.\n",
    "\n",
    "For this new Monte Carlo simulation, do the following: \n",
    "\n",
    "- Forecast the cumulative returns for 10 years from now. Because of the shortened investment horizon (30 years to 10 years), the portfolio needs to invest more heavily in the riskier asset&mdash;that is, stock&mdash;to help accumulate wealth for retirement. \n",
    "\n",
    "- Adjust the weights of the retirement portfolio so that the composition for the Monte Carlo simulation consists of 20% bonds and 80% stocks. \n",
    "\n",
    "- Run the simulation over 500 samples, and use the same data that the API call to Alpaca generated.\n",
    "\n",
    "- Based on the new Monte Carlo simulation, answer the following questions in your Jupyter notebook:\n",
    "\n",
    "    - Using the current value of only the stock and bond portion of the member's portfolio and the summary statistics that you generated from the new Monte Carlo simulation, what are the lower and upper bounds for the expected value of the portfolio (with the new weights) with a 95% confidence interval?\n",
    "\n",
    "    - Will weighting the portfolio more heavily toward stocks allow the credit union members to retire after only 10 years?\n"
   ]
  },
  {
   "cell_type": "code",
   "execution_count": 344,
   "metadata": {},
   "outputs": [
    {
     "data": {
      "text/html": [
       "<div>\n",
       "<style scoped>\n",
       "    .dataframe tbody tr th:only-of-type {\n",
       "        vertical-align: middle;\n",
       "    }\n",
       "\n",
       "    .dataframe tbody tr th {\n",
       "        vertical-align: top;\n",
       "    }\n",
       "\n",
       "    .dataframe thead tr th {\n",
       "        text-align: left;\n",
       "    }\n",
       "\n",
       "    .dataframe thead tr:last-of-type th {\n",
       "        text-align: right;\n",
       "    }\n",
       "</style>\n",
       "<table border=\"1\" class=\"dataframe\">\n",
       "  <thead>\n",
       "    <tr>\n",
       "      <th></th>\n",
       "      <th colspan=\"8\" halign=\"left\">SPY</th>\n",
       "      <th colspan=\"8\" halign=\"left\">AGG</th>\n",
       "    </tr>\n",
       "    <tr>\n",
       "      <th></th>\n",
       "      <th>open</th>\n",
       "      <th>high</th>\n",
       "      <th>low</th>\n",
       "      <th>close</th>\n",
       "      <th>volume</th>\n",
       "      <th>trade_count</th>\n",
       "      <th>vwap</th>\n",
       "      <th>daily_return</th>\n",
       "      <th>open</th>\n",
       "      <th>high</th>\n",
       "      <th>low</th>\n",
       "      <th>close</th>\n",
       "      <th>volume</th>\n",
       "      <th>trade_count</th>\n",
       "      <th>vwap</th>\n",
       "      <th>daily_return</th>\n",
       "    </tr>\n",
       "    <tr>\n",
       "      <th>timestamp</th>\n",
       "      <th></th>\n",
       "      <th></th>\n",
       "      <th></th>\n",
       "      <th></th>\n",
       "      <th></th>\n",
       "      <th></th>\n",
       "      <th></th>\n",
       "      <th></th>\n",
       "      <th></th>\n",
       "      <th></th>\n",
       "      <th></th>\n",
       "      <th></th>\n",
       "      <th></th>\n",
       "      <th></th>\n",
       "      <th></th>\n",
       "      <th></th>\n",
       "    </tr>\n",
       "  </thead>\n",
       "  <tbody>\n",
       "    <tr>\n",
       "      <th>2019-04-15 04:00:00+00:00</th>\n",
       "      <td>290.27</td>\n",
       "      <td>290.350</td>\n",
       "      <td>289.075</td>\n",
       "      <td>289.97</td>\n",
       "      <td>50222730</td>\n",
       "      <td>199622</td>\n",
       "      <td>289.773677</td>\n",
       "      <td>NaN</td>\n",
       "      <td>108.21</td>\n",
       "      <td>108.3000</td>\n",
       "      <td>108.21</td>\n",
       "      <td>108.25</td>\n",
       "      <td>2546204</td>\n",
       "      <td>10053</td>\n",
       "      <td>108.253507</td>\n",
       "      <td>NaN</td>\n",
       "    </tr>\n",
       "    <tr>\n",
       "      <th>2019-04-16 04:00:00+00:00</th>\n",
       "      <td>290.96</td>\n",
       "      <td>291.010</td>\n",
       "      <td>289.500</td>\n",
       "      <td>290.16</td>\n",
       "      <td>52154597</td>\n",
       "      <td>206469</td>\n",
       "      <td>290.277078</td>\n",
       "      <td>0.000655</td>\n",
       "      <td>108.12</td>\n",
       "      <td>108.2100</td>\n",
       "      <td>108.02</td>\n",
       "      <td>108.06</td>\n",
       "      <td>4093950</td>\n",
       "      <td>12649</td>\n",
       "      <td>108.108731</td>\n",
       "      <td>-0.001755</td>\n",
       "    </tr>\n",
       "    <tr>\n",
       "      <th>2019-04-17 04:00:00+00:00</th>\n",
       "      <td>291.41</td>\n",
       "      <td>291.425</td>\n",
       "      <td>288.990</td>\n",
       "      <td>289.45</td>\n",
       "      <td>58268470</td>\n",
       "      <td>245037</td>\n",
       "      <td>289.770682</td>\n",
       "      <td>-0.002447</td>\n",
       "      <td>108.09</td>\n",
       "      <td>108.1899</td>\n",
       "      <td>108.05</td>\n",
       "      <td>108.05</td>\n",
       "      <td>3390171</td>\n",
       "      <td>9569</td>\n",
       "      <td>108.090758</td>\n",
       "      <td>-0.000093</td>\n",
       "    </tr>\n",
       "    <tr>\n",
       "      <th>2019-04-18 04:00:00+00:00</th>\n",
       "      <td>290.12</td>\n",
       "      <td>290.320</td>\n",
       "      <td>288.660</td>\n",
       "      <td>290.02</td>\n",
       "      <td>69414428</td>\n",
       "      <td>231296</td>\n",
       "      <td>289.794161</td>\n",
       "      <td>0.001969</td>\n",
       "      <td>108.23</td>\n",
       "      <td>108.2900</td>\n",
       "      <td>108.16</td>\n",
       "      <td>108.19</td>\n",
       "      <td>2217221</td>\n",
       "      <td>8388</td>\n",
       "      <td>108.211849</td>\n",
       "      <td>0.001296</td>\n",
       "    </tr>\n",
       "    <tr>\n",
       "      <th>2019-04-22 04:00:00+00:00</th>\n",
       "      <td>289.17</td>\n",
       "      <td>290.435</td>\n",
       "      <td>289.070</td>\n",
       "      <td>290.27</td>\n",
       "      <td>40520264</td>\n",
       "      <td>170767</td>\n",
       "      <td>290.002934</td>\n",
       "      <td>0.000862</td>\n",
       "      <td>108.13</td>\n",
       "      <td>108.1600</td>\n",
       "      <td>108.05</td>\n",
       "      <td>108.06</td>\n",
       "      <td>5725616</td>\n",
       "      <td>9161</td>\n",
       "      <td>108.098893</td>\n",
       "      <td>-0.001202</td>\n",
       "    </tr>\n",
       "  </tbody>\n",
       "</table>\n",
       "</div>"
      ],
      "text/plain": [
       "                              SPY                                      \\\n",
       "                             open     high      low   close    volume   \n",
       "timestamp                                                               \n",
       "2019-04-15 04:00:00+00:00  290.27  290.350  289.075  289.97  50222730   \n",
       "2019-04-16 04:00:00+00:00  290.96  291.010  289.500  290.16  52154597   \n",
       "2019-04-17 04:00:00+00:00  291.41  291.425  288.990  289.45  58268470   \n",
       "2019-04-18 04:00:00+00:00  290.12  290.320  288.660  290.02  69414428   \n",
       "2019-04-22 04:00:00+00:00  289.17  290.435  289.070  290.27  40520264   \n",
       "\n",
       "                                                                   AGG  \\\n",
       "                          trade_count        vwap daily_return    open   \n",
       "timestamp                                                                \n",
       "2019-04-15 04:00:00+00:00      199622  289.773677          NaN  108.21   \n",
       "2019-04-16 04:00:00+00:00      206469  290.277078     0.000655  108.12   \n",
       "2019-04-17 04:00:00+00:00      245037  289.770682    -0.002447  108.09   \n",
       "2019-04-18 04:00:00+00:00      231296  289.794161     0.001969  108.23   \n",
       "2019-04-22 04:00:00+00:00      170767  290.002934     0.000862  108.13   \n",
       "\n",
       "                                                                          \\\n",
       "                               high     low   close   volume trade_count   \n",
       "timestamp                                                                  \n",
       "2019-04-15 04:00:00+00:00  108.3000  108.21  108.25  2546204       10053   \n",
       "2019-04-16 04:00:00+00:00  108.2100  108.02  108.06  4093950       12649   \n",
       "2019-04-17 04:00:00+00:00  108.1899  108.05  108.05  3390171        9569   \n",
       "2019-04-18 04:00:00+00:00  108.2900  108.16  108.19  2217221        8388   \n",
       "2019-04-22 04:00:00+00:00  108.1600  108.05  108.06  5725616        9161   \n",
       "\n",
       "                                                    \n",
       "                                 vwap daily_return  \n",
       "timestamp                                           \n",
       "2019-04-15 04:00:00+00:00  108.253507          NaN  \n",
       "2019-04-16 04:00:00+00:00  108.108731    -0.001755  \n",
       "2019-04-17 04:00:00+00:00  108.090758    -0.000093  \n",
       "2019-04-18 04:00:00+00:00  108.211849     0.001296  \n",
       "2019-04-22 04:00:00+00:00  108.098893    -0.001202  "
      ]
     },
     "execution_count": 344,
     "metadata": {},
     "output_type": "execute_result"
    }
   ],
   "source": [
    "# Configure a Monte Carlo simulation to forecast 10 years cumulative returns\n",
    "# The weights should be split 20% to AGG and 80% to SPY.\n",
    "# Run 500 samples.\n",
    "MC_sb_ten = MCSimulation(\n",
    "    portfolio_data = sb_prices,\n",
    "    weights = [.8, .2],\n",
    "    num_simulation = 500,\n",
    "    num_trading_days = 252*10)\n",
    "\n",
    "# Review the simulation input data\n",
    "MC_sb_ten.portfolio_data.head()\n"
   ]
  },
  {
   "cell_type": "code",
   "execution_count": 345,
   "metadata": {},
   "outputs": [
    {
     "name": "stdout",
     "output_type": "stream",
     "text": [
      "Running Monte Carlo simulation number 0.\n",
      "Running Monte Carlo simulation number 10.\n",
      "Running Monte Carlo simulation number 20.\n",
      "Running Monte Carlo simulation number 30.\n",
      "Running Monte Carlo simulation number 40.\n",
      "Running Monte Carlo simulation number 50.\n",
      "Running Monte Carlo simulation number 60.\n",
      "Running Monte Carlo simulation number 70.\n",
      "Running Monte Carlo simulation number 80.\n",
      "Running Monte Carlo simulation number 90.\n",
      "Running Monte Carlo simulation number 100.\n"
     ]
    },
    {
     "name": "stderr",
     "output_type": "stream",
     "text": [
      "/Users/nicoleroberts/Dropbox/My Mac (Nicole’s MacBook Pro)/Desktop/Nicole_Roberts_Portfolio/Challenge_5_Financial_Planning/MCForecastTools.py:117: PerformanceWarning: DataFrame is highly fragmented.  This is usually the result of calling `frame.insert` many times, which has poor performance.  Consider joining all columns at once using pd.concat(axis=1) instead.  To get a de-fragmented frame, use `newframe = frame.copy()`\n",
      "  portfolio_cumulative_returns[n] = (1 + sim_df.fillna(0)).cumprod()\n"
     ]
    },
    {
     "name": "stdout",
     "output_type": "stream",
     "text": [
      "Running Monte Carlo simulation number 110.\n",
      "Running Monte Carlo simulation number 120.\n",
      "Running Monte Carlo simulation number 130.\n",
      "Running Monte Carlo simulation number 140.\n",
      "Running Monte Carlo simulation number 150.\n",
      "Running Monte Carlo simulation number 160.\n",
      "Running Monte Carlo simulation number 170.\n",
      "Running Monte Carlo simulation number 180.\n",
      "Running Monte Carlo simulation number 190.\n",
      "Running Monte Carlo simulation number 200.\n",
      "Running Monte Carlo simulation number 210.\n",
      "Running Monte Carlo simulation number 220.\n",
      "Running Monte Carlo simulation number 230.\n",
      "Running Monte Carlo simulation number 240.\n",
      "Running Monte Carlo simulation number 250.\n",
      "Running Monte Carlo simulation number 260.\n",
      "Running Monte Carlo simulation number 270.\n",
      "Running Monte Carlo simulation number 280.\n",
      "Running Monte Carlo simulation number 290.\n",
      "Running Monte Carlo simulation number 300.\n",
      "Running Monte Carlo simulation number 310.\n",
      "Running Monte Carlo simulation number 320.\n",
      "Running Monte Carlo simulation number 330.\n",
      "Running Monte Carlo simulation number 340.\n",
      "Running Monte Carlo simulation number 350.\n",
      "Running Monte Carlo simulation number 360.\n",
      "Running Monte Carlo simulation number 370.\n",
      "Running Monte Carlo simulation number 380.\n",
      "Running Monte Carlo simulation number 390.\n",
      "Running Monte Carlo simulation number 400.\n",
      "Running Monte Carlo simulation number 410.\n",
      "Running Monte Carlo simulation number 420.\n",
      "Running Monte Carlo simulation number 430.\n",
      "Running Monte Carlo simulation number 440.\n",
      "Running Monte Carlo simulation number 450.\n",
      "Running Monte Carlo simulation number 460.\n",
      "Running Monte Carlo simulation number 470.\n",
      "Running Monte Carlo simulation number 480.\n",
      "Running Monte Carlo simulation number 490.\n"
     ]
    },
    {
     "data": {
      "text/html": [
       "<div>\n",
       "<style scoped>\n",
       "    .dataframe tbody tr th:only-of-type {\n",
       "        vertical-align: middle;\n",
       "    }\n",
       "\n",
       "    .dataframe tbody tr th {\n",
       "        vertical-align: top;\n",
       "    }\n",
       "\n",
       "    .dataframe thead th {\n",
       "        text-align: right;\n",
       "    }\n",
       "</style>\n",
       "<table border=\"1\" class=\"dataframe\">\n",
       "  <thead>\n",
       "    <tr style=\"text-align: right;\">\n",
       "      <th></th>\n",
       "      <th>0</th>\n",
       "      <th>1</th>\n",
       "      <th>2</th>\n",
       "      <th>3</th>\n",
       "      <th>4</th>\n",
       "      <th>5</th>\n",
       "      <th>6</th>\n",
       "      <th>7</th>\n",
       "      <th>8</th>\n",
       "      <th>9</th>\n",
       "      <th>...</th>\n",
       "      <th>490</th>\n",
       "      <th>491</th>\n",
       "      <th>492</th>\n",
       "      <th>493</th>\n",
       "      <th>494</th>\n",
       "      <th>495</th>\n",
       "      <th>496</th>\n",
       "      <th>497</th>\n",
       "      <th>498</th>\n",
       "      <th>499</th>\n",
       "    </tr>\n",
       "  </thead>\n",
       "  <tbody>\n",
       "    <tr>\n",
       "      <th>0</th>\n",
       "      <td>1.000000</td>\n",
       "      <td>1.000000</td>\n",
       "      <td>1.000000</td>\n",
       "      <td>1.000000</td>\n",
       "      <td>1.000000</td>\n",
       "      <td>1.000000</td>\n",
       "      <td>1.000000</td>\n",
       "      <td>1.000000</td>\n",
       "      <td>1.000000</td>\n",
       "      <td>1.000000</td>\n",
       "      <td>...</td>\n",
       "      <td>1.000000</td>\n",
       "      <td>1.000000</td>\n",
       "      <td>1.000000</td>\n",
       "      <td>1.000000</td>\n",
       "      <td>1.000000</td>\n",
       "      <td>1.000000</td>\n",
       "      <td>1.000000</td>\n",
       "      <td>1.000000</td>\n",
       "      <td>1.000000</td>\n",
       "      <td>1.000000</td>\n",
       "    </tr>\n",
       "    <tr>\n",
       "      <th>1</th>\n",
       "      <td>0.999986</td>\n",
       "      <td>1.013771</td>\n",
       "      <td>1.007972</td>\n",
       "      <td>1.014071</td>\n",
       "      <td>1.000031</td>\n",
       "      <td>1.009893</td>\n",
       "      <td>1.006103</td>\n",
       "      <td>0.992624</td>\n",
       "      <td>1.000702</td>\n",
       "      <td>0.993268</td>\n",
       "      <td>...</td>\n",
       "      <td>1.011327</td>\n",
       "      <td>1.016322</td>\n",
       "      <td>0.990870</td>\n",
       "      <td>0.995746</td>\n",
       "      <td>1.004492</td>\n",
       "      <td>1.006956</td>\n",
       "      <td>1.001695</td>\n",
       "      <td>1.015398</td>\n",
       "      <td>1.010413</td>\n",
       "      <td>0.983293</td>\n",
       "    </tr>\n",
       "    <tr>\n",
       "      <th>2</th>\n",
       "      <td>1.006213</td>\n",
       "      <td>1.007093</td>\n",
       "      <td>1.011208</td>\n",
       "      <td>1.015085</td>\n",
       "      <td>1.008780</td>\n",
       "      <td>0.996622</td>\n",
       "      <td>1.023659</td>\n",
       "      <td>1.016551</td>\n",
       "      <td>1.004317</td>\n",
       "      <td>1.004767</td>\n",
       "      <td>...</td>\n",
       "      <td>1.021629</td>\n",
       "      <td>1.029388</td>\n",
       "      <td>1.005793</td>\n",
       "      <td>1.005119</td>\n",
       "      <td>1.012817</td>\n",
       "      <td>0.986657</td>\n",
       "      <td>0.995241</td>\n",
       "      <td>1.007214</td>\n",
       "      <td>0.997145</td>\n",
       "      <td>0.986070</td>\n",
       "    </tr>\n",
       "    <tr>\n",
       "      <th>3</th>\n",
       "      <td>1.013866</td>\n",
       "      <td>1.006406</td>\n",
       "      <td>1.003970</td>\n",
       "      <td>1.030358</td>\n",
       "      <td>0.995358</td>\n",
       "      <td>0.982186</td>\n",
       "      <td>1.012609</td>\n",
       "      <td>0.996742</td>\n",
       "      <td>1.006236</td>\n",
       "      <td>1.006038</td>\n",
       "      <td>...</td>\n",
       "      <td>1.006483</td>\n",
       "      <td>1.046039</td>\n",
       "      <td>0.997529</td>\n",
       "      <td>1.006072</td>\n",
       "      <td>1.006575</td>\n",
       "      <td>0.982692</td>\n",
       "      <td>1.000404</td>\n",
       "      <td>0.987231</td>\n",
       "      <td>1.016295</td>\n",
       "      <td>0.973535</td>\n",
       "    </tr>\n",
       "    <tr>\n",
       "      <th>4</th>\n",
       "      <td>0.991011</td>\n",
       "      <td>1.016964</td>\n",
       "      <td>1.008129</td>\n",
       "      <td>1.030114</td>\n",
       "      <td>0.956543</td>\n",
       "      <td>0.999378</td>\n",
       "      <td>1.017833</td>\n",
       "      <td>0.995286</td>\n",
       "      <td>1.001770</td>\n",
       "      <td>0.998248</td>\n",
       "      <td>...</td>\n",
       "      <td>1.007278</td>\n",
       "      <td>1.056470</td>\n",
       "      <td>1.004519</td>\n",
       "      <td>1.002443</td>\n",
       "      <td>0.987406</td>\n",
       "      <td>0.977935</td>\n",
       "      <td>0.993019</td>\n",
       "      <td>0.982872</td>\n",
       "      <td>1.028307</td>\n",
       "      <td>0.985563</td>\n",
       "    </tr>\n",
       "    <tr>\n",
       "      <th>...</th>\n",
       "      <td>...</td>\n",
       "      <td>...</td>\n",
       "      <td>...</td>\n",
       "      <td>...</td>\n",
       "      <td>...</td>\n",
       "      <td>...</td>\n",
       "      <td>...</td>\n",
       "      <td>...</td>\n",
       "      <td>...</td>\n",
       "      <td>...</td>\n",
       "      <td>...</td>\n",
       "      <td>...</td>\n",
       "      <td>...</td>\n",
       "      <td>...</td>\n",
       "      <td>...</td>\n",
       "      <td>...</td>\n",
       "      <td>...</td>\n",
       "      <td>...</td>\n",
       "      <td>...</td>\n",
       "      <td>...</td>\n",
       "      <td>...</td>\n",
       "    </tr>\n",
       "    <tr>\n",
       "      <th>2516</th>\n",
       "      <td>3.420514</td>\n",
       "      <td>2.362554</td>\n",
       "      <td>4.858135</td>\n",
       "      <td>6.669868</td>\n",
       "      <td>1.714024</td>\n",
       "      <td>3.148860</td>\n",
       "      <td>2.612002</td>\n",
       "      <td>3.870787</td>\n",
       "      <td>2.392409</td>\n",
       "      <td>3.216961</td>\n",
       "      <td>...</td>\n",
       "      <td>2.643018</td>\n",
       "      <td>7.128112</td>\n",
       "      <td>2.706419</td>\n",
       "      <td>2.787332</td>\n",
       "      <td>2.492840</td>\n",
       "      <td>1.385006</td>\n",
       "      <td>1.142948</td>\n",
       "      <td>4.706825</td>\n",
       "      <td>7.090011</td>\n",
       "      <td>2.674909</td>\n",
       "    </tr>\n",
       "    <tr>\n",
       "      <th>2517</th>\n",
       "      <td>3.436194</td>\n",
       "      <td>2.337962</td>\n",
       "      <td>4.909038</td>\n",
       "      <td>6.688208</td>\n",
       "      <td>1.713597</td>\n",
       "      <td>3.080025</td>\n",
       "      <td>2.655091</td>\n",
       "      <td>3.925910</td>\n",
       "      <td>2.416079</td>\n",
       "      <td>3.197803</td>\n",
       "      <td>...</td>\n",
       "      <td>2.643572</td>\n",
       "      <td>7.157948</td>\n",
       "      <td>2.705438</td>\n",
       "      <td>2.793850</td>\n",
       "      <td>2.512997</td>\n",
       "      <td>1.374188</td>\n",
       "      <td>1.133073</td>\n",
       "      <td>4.712812</td>\n",
       "      <td>7.183173</td>\n",
       "      <td>2.683061</td>\n",
       "    </tr>\n",
       "    <tr>\n",
       "      <th>2518</th>\n",
       "      <td>3.454266</td>\n",
       "      <td>2.317471</td>\n",
       "      <td>4.953374</td>\n",
       "      <td>6.685375</td>\n",
       "      <td>1.709094</td>\n",
       "      <td>3.095623</td>\n",
       "      <td>2.669095</td>\n",
       "      <td>3.956055</td>\n",
       "      <td>2.388244</td>\n",
       "      <td>3.142648</td>\n",
       "      <td>...</td>\n",
       "      <td>2.654342</td>\n",
       "      <td>7.133223</td>\n",
       "      <td>2.765159</td>\n",
       "      <td>2.874135</td>\n",
       "      <td>2.517040</td>\n",
       "      <td>1.382118</td>\n",
       "      <td>1.163791</td>\n",
       "      <td>4.659984</td>\n",
       "      <td>7.135824</td>\n",
       "      <td>2.686431</td>\n",
       "    </tr>\n",
       "    <tr>\n",
       "      <th>2519</th>\n",
       "      <td>3.442759</td>\n",
       "      <td>2.344654</td>\n",
       "      <td>4.931257</td>\n",
       "      <td>6.653874</td>\n",
       "      <td>1.690958</td>\n",
       "      <td>3.078173</td>\n",
       "      <td>2.675604</td>\n",
       "      <td>3.941095</td>\n",
       "      <td>2.369223</td>\n",
       "      <td>3.127434</td>\n",
       "      <td>...</td>\n",
       "      <td>2.665413</td>\n",
       "      <td>7.406957</td>\n",
       "      <td>2.746777</td>\n",
       "      <td>2.868413</td>\n",
       "      <td>2.524667</td>\n",
       "      <td>1.395528</td>\n",
       "      <td>1.176549</td>\n",
       "      <td>4.696884</td>\n",
       "      <td>6.943743</td>\n",
       "      <td>2.640921</td>\n",
       "    </tr>\n",
       "    <tr>\n",
       "      <th>2520</th>\n",
       "      <td>3.421234</td>\n",
       "      <td>2.320264</td>\n",
       "      <td>4.922518</td>\n",
       "      <td>6.598067</td>\n",
       "      <td>1.694763</td>\n",
       "      <td>3.108836</td>\n",
       "      <td>2.656112</td>\n",
       "      <td>3.962896</td>\n",
       "      <td>2.367956</td>\n",
       "      <td>3.145286</td>\n",
       "      <td>...</td>\n",
       "      <td>2.656293</td>\n",
       "      <td>7.403207</td>\n",
       "      <td>2.759566</td>\n",
       "      <td>2.813522</td>\n",
       "      <td>2.538835</td>\n",
       "      <td>1.414262</td>\n",
       "      <td>1.167061</td>\n",
       "      <td>4.764658</td>\n",
       "      <td>7.039758</td>\n",
       "      <td>2.658235</td>\n",
       "    </tr>\n",
       "  </tbody>\n",
       "</table>\n",
       "<p>2521 rows × 500 columns</p>\n",
       "</div>"
      ],
      "text/plain": [
       "           0         1         2         3         4         5         6    \\\n",
       "0     1.000000  1.000000  1.000000  1.000000  1.000000  1.000000  1.000000   \n",
       "1     0.999986  1.013771  1.007972  1.014071  1.000031  1.009893  1.006103   \n",
       "2     1.006213  1.007093  1.011208  1.015085  1.008780  0.996622  1.023659   \n",
       "3     1.013866  1.006406  1.003970  1.030358  0.995358  0.982186  1.012609   \n",
       "4     0.991011  1.016964  1.008129  1.030114  0.956543  0.999378  1.017833   \n",
       "...        ...       ...       ...       ...       ...       ...       ...   \n",
       "2516  3.420514  2.362554  4.858135  6.669868  1.714024  3.148860  2.612002   \n",
       "2517  3.436194  2.337962  4.909038  6.688208  1.713597  3.080025  2.655091   \n",
       "2518  3.454266  2.317471  4.953374  6.685375  1.709094  3.095623  2.669095   \n",
       "2519  3.442759  2.344654  4.931257  6.653874  1.690958  3.078173  2.675604   \n",
       "2520  3.421234  2.320264  4.922518  6.598067  1.694763  3.108836  2.656112   \n",
       "\n",
       "           7         8         9    ...       490       491       492  \\\n",
       "0     1.000000  1.000000  1.000000  ...  1.000000  1.000000  1.000000   \n",
       "1     0.992624  1.000702  0.993268  ...  1.011327  1.016322  0.990870   \n",
       "2     1.016551  1.004317  1.004767  ...  1.021629  1.029388  1.005793   \n",
       "3     0.996742  1.006236  1.006038  ...  1.006483  1.046039  0.997529   \n",
       "4     0.995286  1.001770  0.998248  ...  1.007278  1.056470  1.004519   \n",
       "...        ...       ...       ...  ...       ...       ...       ...   \n",
       "2516  3.870787  2.392409  3.216961  ...  2.643018  7.128112  2.706419   \n",
       "2517  3.925910  2.416079  3.197803  ...  2.643572  7.157948  2.705438   \n",
       "2518  3.956055  2.388244  3.142648  ...  2.654342  7.133223  2.765159   \n",
       "2519  3.941095  2.369223  3.127434  ...  2.665413  7.406957  2.746777   \n",
       "2520  3.962896  2.367956  3.145286  ...  2.656293  7.403207  2.759566   \n",
       "\n",
       "           493       494       495       496       497       498       499  \n",
       "0     1.000000  1.000000  1.000000  1.000000  1.000000  1.000000  1.000000  \n",
       "1     0.995746  1.004492  1.006956  1.001695  1.015398  1.010413  0.983293  \n",
       "2     1.005119  1.012817  0.986657  0.995241  1.007214  0.997145  0.986070  \n",
       "3     1.006072  1.006575  0.982692  1.000404  0.987231  1.016295  0.973535  \n",
       "4     1.002443  0.987406  0.977935  0.993019  0.982872  1.028307  0.985563  \n",
       "...        ...       ...       ...       ...       ...       ...       ...  \n",
       "2516  2.787332  2.492840  1.385006  1.142948  4.706825  7.090011  2.674909  \n",
       "2517  2.793850  2.512997  1.374188  1.133073  4.712812  7.183173  2.683061  \n",
       "2518  2.874135  2.517040  1.382118  1.163791  4.659984  7.135824  2.686431  \n",
       "2519  2.868413  2.524667  1.395528  1.176549  4.696884  6.943743  2.640921  \n",
       "2520  2.813522  2.538835  1.414262  1.167061  4.764658  7.039758  2.658235  \n",
       "\n",
       "[2521 rows x 500 columns]"
      ]
     },
     "execution_count": 345,
     "metadata": {},
     "output_type": "execute_result"
    }
   ],
   "source": [
    "# Run the Monte Carlo simulation to forecast 10 years cumulative returns\n",
    "MC_sb_ten.calc_cumulative_return()"
   ]
  },
  {
   "cell_type": "code",
   "execution_count": 348,
   "metadata": {},
   "outputs": [
    {
     "data": {
      "image/png": "[encoded data removed]",
      "text/plain": [
       "<Figure size 432x288 with 1 Axes>"
      ]
     },
     "metadata": {
      "needs_background": "light"
     },
     "output_type": "display_data"
    }
   ],
   "source": [
    "# Visualize the 10-year Monte Carlo simulation by creating an\n",
    "# overlay line plot\n",
    "sb_ten_line_plot = MC_sb_ten.plot_simulation()\n"
   ]
  },
  {
   "cell_type": "code",
   "execution_count": 353,
   "metadata": {},
   "outputs": [
    {
     "data": {
      "image/png": "[encoded data removed]",
      "text/plain": [
       "<Figure size 432x288 with 1 Axes>"
      ]
     },
     "metadata": {
      "needs_background": "light"
     },
     "output_type": "display_data"
    }
   ],
   "source": [
    "# Visualize the probability distribution of the 10-year Monte Carlo simulation \n",
    "# by plotting a histogram\n",
    "sb_ten_distribution_plot = MC_sb_ten.plot_distribution()\n"
   ]
  },
  {
   "cell_type": "code",
   "execution_count": 354,
   "metadata": {},
   "outputs": [
    {
     "name": "stdout",
     "output_type": "stream",
     "text": [
      "count           500.000000\n",
      "mean              3.620925\n",
      "std               2.153035\n",
      "min               0.536652\n",
      "25%               2.143908\n",
      "50%               3.112346\n",
      "75%               4.654546\n",
      "max              15.187890\n",
      "95% CI Lower      0.995683\n",
      "95% CI Upper      9.150790\n",
      "Name: 2520, dtype: float64\n"
     ]
    }
   ],
   "source": [
    "# Generate summary statistics from the 10-year Monte Carlo simulation results\n",
    "# Save the results as a variable\n",
    "sb_ten_yr_table = MC_sb_ten.summarize_cumulative_return()\n",
    "\n",
    "# Review the 10-year Monte Carlo summary statistics\n",
    "print(sb_ten_yr_table)\n"
   ]
  },
  {
   "cell_type": "markdown",
   "metadata": {},
   "source": [
    "### Answer the following questions:"
   ]
  },
  {
   "cell_type": "markdown",
   "metadata": {},
   "source": [
    "#### Question: Using the current value of only the stock and bond portion of the member's portfolio and the summary statistics that you generated from the new Monte Carlo simulation, what are the lower and upper bounds for the expected value of the portfolio (with the new weights) with a 95% confidence interval?"
   ]
  },
  {
   "cell_type": "code",
   "execution_count": 351,
   "metadata": {},
   "outputs": [
    {
     "name": "stdout",
     "output_type": "stream",
     "text": [
      "The current balance of the stock and bond portion of the member's portfolio: $ 68950.90.\n"
     ]
    }
   ],
   "source": [
    "# Print the current balance of the stock and bond portion of the members portfolio\n",
    "current_sb_amount = savings_df.loc[\"stock/bond\"][\"amount\"]\n",
    "print(f\"The current balance of the stock and bond portion of the member's portfolio: ${current_sb_amount: .2f}.\")\n"
   ]
  },
  {
   "cell_type": "code",
   "execution_count": 352,
   "metadata": {},
   "outputs": [
    {
     "name": "stdout",
     "output_type": "stream",
     "text": [
      "There is a 95% chance that an initial investment of $ 68950.90 in a portfolio with an 80/20 split between SPY and AGG respectively over the next 10 years will end within the range of $68653.22 and $630955.23.\n"
     ]
    }
   ],
   "source": [
    "# Use the lower and upper `95%` confidence intervals to calculate the range of the possible outcomes for the current stock/bond portfolio\n",
    "ci_lower_ten_cumulative_return = round(sb_ten_yr_table[8] * current_sb_amount, 2)\n",
    "ci_upper_ten_cumulative_return = round(sb_ten_yr_table[9] * current_sb_amount, 2)\n",
    "\n",
    "# Print the result of your calculations\n",
    "print(f\"There is a 95% chance that an initial investment of ${current_sb_amount: .2f} in a portfolio\"\n",
    "      f\" with an 80/20 split between SPY and AGG respectively over the next 10 years will end within the range of\"\n",
    "      f\" ${ci_lower_ten_cumulative_return} and ${ci_upper_ten_cumulative_return}.\")\n"
   ]
  },
  {
   "cell_type": "markdown",
   "metadata": {},
   "source": [
    "#### Question: Will weighting the portfolio more heavily to stocks allow the credit union members to retire after only 10 years?"
   ]
  },
  {
   "cell_type": "markdown",
   "metadata": {},
   "source": [
    "Weighting the portfolio more heavily to stocks will not allow the credit union members to retire after only 10 years. With a stock-heavy portfolio split 80/20 between SPY and AGG respectively over the next 10 years, credit union members will end up with between ~77,946.43 - 651,630.48 dollars with 95% confidence (approximately, depending on each Monte Carlo simulation). At the lower end, this is not enough, especially when accounting for black swan events, and the higher end is unlikely. Of these two solutions, credit union members are therefor better off investing their portfolios by way of a 60/40 split between SPY and AGG respectively over the next 30 years to end up within the range of ~202,053.25 - 3,659,167.77 dollars. This will help provide for a more comfortable retirement."
   ]
  },
  {
   "cell_type": "code",
   "execution_count": null,
   "metadata": {},
   "outputs": [],
   "source": []
  }
 ],
 "metadata": {
  "kernelspec": {
   "display_name": "Python 3 (ipykernel)",
   "language": "python",
   "name": "python3"
  },
  "language_info": {
   "codemirror_mode": {
    "name": "ipython",
    "version": 3
   },
   "file_extension": ".py",
   "mimetype": "text/x-python",
   "name": "python",
   "nbconvert_exporter": "python",
   "pygments_lexer": "ipython3",
   "version": "3.7.11"
  }
 },
 "nbformat": 4,
 "nbformat_minor": 4
}
